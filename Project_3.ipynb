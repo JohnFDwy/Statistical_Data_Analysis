{
 "cells": [
  {
   "cell_type": "markdown",
   "metadata": {},
   "source": [
    "# Which one is a better plan?\n",
    "\n",
    "You work as an analyst for the telecom operator Megaline. The company offers its clients two prepaid plans, Surf and Ultimate. The commercial department wants to know which of the plans brings in more revenue in order to adjust the advertising budget.\n",
    "\n",
    "You are going to carry out a preliminary analysis of the plans based on a relatively small client selection. You'll have the data on 500 Megaline clients: who the clients are, where they're from, which plan they use, and the number of calls they made and text messages they sent in 2018. Your job is to analyze the clients' behavior and determine which prepaid plan brings in more revenue."
   ]
  },
  {
   "cell_type": "markdown",
   "metadata": {},
   "source": [
    "## Initialization"
   ]
  },
  {
   "cell_type": "markdown",
   "metadata": {},
   "source": []
  },
  {
   "cell_type": "code",
   "execution_count": 1,
   "metadata": {},
   "outputs": [],
   "source": [
    "# Loading all the libraries\n",
    "import pandas as pd\n",
    "import numpy as np\n",
    "from scipy import stats as st\n",
    "import math as mt\n",
    "from matplotlib import pyplot as plt\n"
   ]
  },
  {
   "cell_type": "markdown",
   "metadata": {},
   "source": [
    "Before I begin I am loading the various neccessary libraries in order to run the data analysis for the rest of this project"
   ]
  },
  {
   "cell_type": "markdown",
   "metadata": {},
   "source": [
    "## Load data"
   ]
  },
  {
   "cell_type": "markdown",
   "metadata": {},
   "source": []
  },
  {
   "cell_type": "code",
   "execution_count": 2,
   "metadata": {},
   "outputs": [],
   "source": [
    "# Load the data files into different DataFrames\n",
    "calls_df = pd.read_csv('/datasets/megaline_calls.csv')\n",
    "internet_df = pd.read_csv('/datasets/megaline_internet.csv')\n",
    "messages_df = pd.read_csv('/datasets/megaline_messages.csv')\n",
    "plans_df = pd.read_csv('/datasets/megaline_plans.csv')\n",
    "users_df = pd.read_csv('/datasets/megaline_users.csv')\n"
   ]
  },
  {
   "cell_type": "markdown",
   "metadata": {},
   "source": [
    "Here I've loaded the 5 datasets (calls, internet, messages, plans, and users) as dataframes to use in our analysis"
   ]
  },
  {
   "cell_type": "markdown",
   "metadata": {},
   "source": [
    "## Plans"
   ]
  },
  {
   "cell_type": "code",
   "execution_count": 3,
   "metadata": {},
   "outputs": [
    {
     "name": "stdout",
     "output_type": "stream",
     "text": [
      "<class 'pandas.core.frame.DataFrame'>\n",
      "RangeIndex: 2 entries, 0 to 1\n",
      "Data columns (total 8 columns):\n",
      " #   Column                 Non-Null Count  Dtype  \n",
      "---  ------                 --------------  -----  \n",
      " 0   messages_included      2 non-null      int64  \n",
      " 1   mb_per_month_included  2 non-null      int64  \n",
      " 2   minutes_included       2 non-null      int64  \n",
      " 3   usd_monthly_pay        2 non-null      int64  \n",
      " 4   usd_per_gb             2 non-null      int64  \n",
      " 5   usd_per_message        2 non-null      float64\n",
      " 6   usd_per_minute         2 non-null      float64\n",
      " 7   plan_name              2 non-null      object \n",
      "dtypes: float64(2), int64(5), object(1)\n",
      "memory usage: 256.0+ bytes\n"
     ]
    },
    {
     "data": {
      "text/html": [
       "<div>\n",
       "<style scoped>\n",
       "    .dataframe tbody tr th:only-of-type {\n",
       "        vertical-align: middle;\n",
       "    }\n",
       "\n",
       "    .dataframe tbody tr th {\n",
       "        vertical-align: top;\n",
       "    }\n",
       "\n",
       "    .dataframe thead th {\n",
       "        text-align: right;\n",
       "    }\n",
       "</style>\n",
       "<table border=\"1\" class=\"dataframe\">\n",
       "  <thead>\n",
       "    <tr style=\"text-align: right;\">\n",
       "      <th></th>\n",
       "      <th>messages_included</th>\n",
       "      <th>mb_per_month_included</th>\n",
       "      <th>minutes_included</th>\n",
       "      <th>usd_monthly_pay</th>\n",
       "      <th>usd_per_gb</th>\n",
       "      <th>usd_per_message</th>\n",
       "      <th>usd_per_minute</th>\n",
       "      <th>plan_name</th>\n",
       "    </tr>\n",
       "  </thead>\n",
       "  <tbody>\n",
       "    <tr>\n",
       "      <th>0</th>\n",
       "      <td>50</td>\n",
       "      <td>15360</td>\n",
       "      <td>500</td>\n",
       "      <td>20</td>\n",
       "      <td>10</td>\n",
       "      <td>0.03</td>\n",
       "      <td>0.03</td>\n",
       "      <td>surf</td>\n",
       "    </tr>\n",
       "    <tr>\n",
       "      <th>1</th>\n",
       "      <td>1000</td>\n",
       "      <td>30720</td>\n",
       "      <td>3000</td>\n",
       "      <td>70</td>\n",
       "      <td>7</td>\n",
       "      <td>0.01</td>\n",
       "      <td>0.01</td>\n",
       "      <td>ultimate</td>\n",
       "    </tr>\n",
       "  </tbody>\n",
       "</table>\n",
       "</div>"
      ],
      "text/plain": [
       "   messages_included  mb_per_month_included  minutes_included  \\\n",
       "0                 50                  15360               500   \n",
       "1               1000                  30720              3000   \n",
       "\n",
       "   usd_monthly_pay  usd_per_gb  usd_per_message  usd_per_minute plan_name  \n",
       "0               20          10             0.03            0.03      surf  \n",
       "1               70           7             0.01            0.01  ultimate  "
      ]
     },
     "execution_count": 3,
     "metadata": {},
     "output_type": "execute_result"
    }
   ],
   "source": [
    "# Print the general/summary information about the plans' DataFrame\n",
    "plans_df.info()\n",
    "plans_df.head()\n"
   ]
  },
  {
   "cell_type": "code",
   "execution_count": 4,
   "metadata": {},
   "outputs": [
    {
     "data": {
      "text/html": [
       "<div>\n",
       "<style scoped>\n",
       "    .dataframe tbody tr th:only-of-type {\n",
       "        vertical-align: middle;\n",
       "    }\n",
       "\n",
       "    .dataframe tbody tr th {\n",
       "        vertical-align: top;\n",
       "    }\n",
       "\n",
       "    .dataframe thead th {\n",
       "        text-align: right;\n",
       "    }\n",
       "</style>\n",
       "<table border=\"1\" class=\"dataframe\">\n",
       "  <thead>\n",
       "    <tr style=\"text-align: right;\">\n",
       "      <th></th>\n",
       "      <th>messages_included</th>\n",
       "      <th>mb_per_month_included</th>\n",
       "      <th>minutes_included</th>\n",
       "      <th>usd_monthly_pay</th>\n",
       "      <th>usd_per_gb</th>\n",
       "      <th>usd_per_message</th>\n",
       "      <th>usd_per_minute</th>\n",
       "      <th>plan_name</th>\n",
       "    </tr>\n",
       "  </thead>\n",
       "  <tbody>\n",
       "    <tr>\n",
       "      <th>1</th>\n",
       "      <td>1000</td>\n",
       "      <td>30720</td>\n",
       "      <td>3000</td>\n",
       "      <td>70</td>\n",
       "      <td>7</td>\n",
       "      <td>0.01</td>\n",
       "      <td>0.01</td>\n",
       "      <td>ultimate</td>\n",
       "    </tr>\n",
       "  </tbody>\n",
       "</table>\n",
       "</div>"
      ],
      "text/plain": [
       "   messages_included  mb_per_month_included  minutes_included  \\\n",
       "1               1000                  30720              3000   \n",
       "\n",
       "   usd_monthly_pay  usd_per_gb  usd_per_message  usd_per_minute plan_name  \n",
       "1               70           7             0.01            0.01  ultimate  "
      ]
     },
     "execution_count": 4,
     "metadata": {},
     "output_type": "execute_result"
    }
   ],
   "source": [
    "# Print a sample of data for plans\n",
    "plans_df.sample()\n"
   ]
  },
  {
   "cell_type": "markdown",
   "metadata": {},
   "source": [
    "Here we have a sample taken from the plans dataframe. The sample and info information looks to have a couple of issues. \n",
    "The message_date column is listed as an object rather than a timestamp"
   ]
  },
  {
   "cell_type": "markdown",
   "metadata": {},
   "source": [
    " "
   ]
  },
  {
   "cell_type": "markdown",
   "metadata": {},
   "source": [
    "## Fix data"
   ]
  },
  {
   "cell_type": "code",
   "execution_count": 5,
   "metadata": {},
   "outputs": [
    {
     "name": "stdout",
     "output_type": "stream",
     "text": [
      "<class 'pandas.core.frame.DataFrame'>\n",
      "RangeIndex: 2 entries, 0 to 1\n",
      "Data columns (total 8 columns):\n",
      " #   Column                 Non-Null Count  Dtype  \n",
      "---  ------                 --------------  -----  \n",
      " 0   messages_included      2 non-null      int64  \n",
      " 1   mb_per_month_included  2 non-null      int64  \n",
      " 2   minutes_included       2 non-null      int64  \n",
      " 3   usd_monthly_pay        2 non-null      int64  \n",
      " 4   usd_per_gb             2 non-null      int64  \n",
      " 5   usd_per_message        2 non-null      float64\n",
      " 6   usd_per_minute         2 non-null      float64\n",
      " 7   plan_name              2 non-null      object \n",
      "dtypes: float64(2), int64(5), object(1)\n",
      "memory usage: 256.0+ bytes\n"
     ]
    }
   ],
   "source": [
    "plans_df.info()"
   ]
  },
  {
   "cell_type": "markdown",
   "metadata": {},
   "source": [
    "We've changed the datatype for the message_date column to be a timestamp"
   ]
  },
  {
   "cell_type": "markdown",
   "metadata": {},
   "source": [
    "## Users"
   ]
  },
  {
   "cell_type": "code",
   "execution_count": 6,
   "metadata": {},
   "outputs": [
    {
     "name": "stdout",
     "output_type": "stream",
     "text": [
      "<class 'pandas.core.frame.DataFrame'>\n",
      "RangeIndex: 500 entries, 0 to 499\n",
      "Data columns (total 8 columns):\n",
      " #   Column      Non-Null Count  Dtype \n",
      "---  ------      --------------  ----- \n",
      " 0   user_id     500 non-null    int64 \n",
      " 1   first_name  500 non-null    object\n",
      " 2   last_name   500 non-null    object\n",
      " 3   age         500 non-null    int64 \n",
      " 4   city        500 non-null    object\n",
      " 5   reg_date    500 non-null    object\n",
      " 6   plan        500 non-null    object\n",
      " 7   churn_date  34 non-null     object\n",
      "dtypes: int64(2), object(6)\n",
      "memory usage: 31.4+ KB\n"
     ]
    }
   ],
   "source": [
    "# Print the general/summary information about the users' DataFrame\n",
    "users_df.info()\n"
   ]
  },
  {
   "cell_type": "markdown",
   "metadata": {},
   "source": [
    "It looks like this dataframe has some missing values in the churn_date column\n",
    "Reg_date and churn_date should be converted to timestamp datatype\n"
   ]
  },
  {
   "cell_type": "code",
   "execution_count": 7,
   "metadata": {},
   "outputs": [
    {
     "data": {
      "text/html": [
       "<div>\n",
       "<style scoped>\n",
       "    .dataframe tbody tr th:only-of-type {\n",
       "        vertical-align: middle;\n",
       "    }\n",
       "\n",
       "    .dataframe tbody tr th {\n",
       "        vertical-align: top;\n",
       "    }\n",
       "\n",
       "    .dataframe thead th {\n",
       "        text-align: right;\n",
       "    }\n",
       "</style>\n",
       "<table border=\"1\" class=\"dataframe\">\n",
       "  <thead>\n",
       "    <tr style=\"text-align: right;\">\n",
       "      <th></th>\n",
       "      <th>user_id</th>\n",
       "      <th>first_name</th>\n",
       "      <th>last_name</th>\n",
       "      <th>age</th>\n",
       "      <th>city</th>\n",
       "      <th>reg_date</th>\n",
       "      <th>plan</th>\n",
       "      <th>churn_date</th>\n",
       "    </tr>\n",
       "  </thead>\n",
       "  <tbody>\n",
       "    <tr>\n",
       "      <th>399</th>\n",
       "      <td>1399</td>\n",
       "      <td>Leonila</td>\n",
       "      <td>Baird</td>\n",
       "      <td>24</td>\n",
       "      <td>San Antonio-New Braunfels, TX MSA</td>\n",
       "      <td>2018-06-06</td>\n",
       "      <td>surf</td>\n",
       "      <td>NaN</td>\n",
       "    </tr>\n",
       "    <tr>\n",
       "      <th>253</th>\n",
       "      <td>1253</td>\n",
       "      <td>Sumiko</td>\n",
       "      <td>Dudley</td>\n",
       "      <td>28</td>\n",
       "      <td>Cleveland-Elyria, OH MSA</td>\n",
       "      <td>2018-08-18</td>\n",
       "      <td>ultimate</td>\n",
       "      <td>NaN</td>\n",
       "    </tr>\n",
       "    <tr>\n",
       "      <th>402</th>\n",
       "      <td>1402</td>\n",
       "      <td>Jesus</td>\n",
       "      <td>Berry</td>\n",
       "      <td>25</td>\n",
       "      <td>New York-Newark-Jersey City, NY-NJ-PA MSA</td>\n",
       "      <td>2018-06-11</td>\n",
       "      <td>surf</td>\n",
       "      <td>2018-12-26</td>\n",
       "    </tr>\n",
       "    <tr>\n",
       "      <th>445</th>\n",
       "      <td>1445</td>\n",
       "      <td>Elodia</td>\n",
       "      <td>Donovan</td>\n",
       "      <td>71</td>\n",
       "      <td>Dallas-Fort Worth-Arlington, TX MSA</td>\n",
       "      <td>2018-01-27</td>\n",
       "      <td>ultimate</td>\n",
       "      <td>NaN</td>\n",
       "    </tr>\n",
       "    <tr>\n",
       "      <th>311</th>\n",
       "      <td>1311</td>\n",
       "      <td>Cherlyn</td>\n",
       "      <td>Saunders</td>\n",
       "      <td>69</td>\n",
       "      <td>Memphis, TN-MS-AR MSA</td>\n",
       "      <td>2018-06-27</td>\n",
       "      <td>ultimate</td>\n",
       "      <td>NaN</td>\n",
       "    </tr>\n",
       "    <tr>\n",
       "      <th>391</th>\n",
       "      <td>1391</td>\n",
       "      <td>Errol</td>\n",
       "      <td>Cooke</td>\n",
       "      <td>52</td>\n",
       "      <td>New York-Newark-Jersey City, NY-NJ-PA MSA</td>\n",
       "      <td>2018-09-11</td>\n",
       "      <td>ultimate</td>\n",
       "      <td>NaN</td>\n",
       "    </tr>\n",
       "    <tr>\n",
       "      <th>270</th>\n",
       "      <td>1270</td>\n",
       "      <td>Anjelica</td>\n",
       "      <td>Chan</td>\n",
       "      <td>70</td>\n",
       "      <td>Philadelphia-Camden-Wilmington, PA-NJ-DE-MD MSA</td>\n",
       "      <td>2018-09-18</td>\n",
       "      <td>ultimate</td>\n",
       "      <td>NaN</td>\n",
       "    </tr>\n",
       "    <tr>\n",
       "      <th>293</th>\n",
       "      <td>1293</td>\n",
       "      <td>Lanny</td>\n",
       "      <td>Nolan</td>\n",
       "      <td>23</td>\n",
       "      <td>Philadelphia-Camden-Wilmington, PA-NJ-DE-MD MSA</td>\n",
       "      <td>2018-08-13</td>\n",
       "      <td>surf</td>\n",
       "      <td>NaN</td>\n",
       "    </tr>\n",
       "    <tr>\n",
       "      <th>377</th>\n",
       "      <td>1377</td>\n",
       "      <td>Vallie</td>\n",
       "      <td>Conway</td>\n",
       "      <td>18</td>\n",
       "      <td>Rochester, NY MSA</td>\n",
       "      <td>2018-03-27</td>\n",
       "      <td>surf</td>\n",
       "      <td>NaN</td>\n",
       "    </tr>\n",
       "    <tr>\n",
       "      <th>334</th>\n",
       "      <td>1334</td>\n",
       "      <td>Donovan</td>\n",
       "      <td>Horton</td>\n",
       "      <td>34</td>\n",
       "      <td>Seattle-Tacoma-Bellevue, WA MSA</td>\n",
       "      <td>2018-03-08</td>\n",
       "      <td>surf</td>\n",
       "      <td>NaN</td>\n",
       "    </tr>\n",
       "  </tbody>\n",
       "</table>\n",
       "</div>"
      ],
      "text/plain": [
       "     user_id first_name last_name  age  \\\n",
       "399     1399    Leonila     Baird   24   \n",
       "253     1253     Sumiko    Dudley   28   \n",
       "402     1402      Jesus     Berry   25   \n",
       "445     1445     Elodia   Donovan   71   \n",
       "311     1311    Cherlyn  Saunders   69   \n",
       "391     1391      Errol     Cooke   52   \n",
       "270     1270   Anjelica      Chan   70   \n",
       "293     1293      Lanny     Nolan   23   \n",
       "377     1377     Vallie    Conway   18   \n",
       "334     1334    Donovan    Horton   34   \n",
       "\n",
       "                                                city    reg_date      plan  \\\n",
       "399                San Antonio-New Braunfels, TX MSA  2018-06-06      surf   \n",
       "253                         Cleveland-Elyria, OH MSA  2018-08-18  ultimate   \n",
       "402        New York-Newark-Jersey City, NY-NJ-PA MSA  2018-06-11      surf   \n",
       "445              Dallas-Fort Worth-Arlington, TX MSA  2018-01-27  ultimate   \n",
       "311                            Memphis, TN-MS-AR MSA  2018-06-27  ultimate   \n",
       "391        New York-Newark-Jersey City, NY-NJ-PA MSA  2018-09-11  ultimate   \n",
       "270  Philadelphia-Camden-Wilmington, PA-NJ-DE-MD MSA  2018-09-18  ultimate   \n",
       "293  Philadelphia-Camden-Wilmington, PA-NJ-DE-MD MSA  2018-08-13      surf   \n",
       "377                                Rochester, NY MSA  2018-03-27      surf   \n",
       "334                  Seattle-Tacoma-Bellevue, WA MSA  2018-03-08      surf   \n",
       "\n",
       "     churn_date  \n",
       "399         NaN  \n",
       "253         NaN  \n",
       "402  2018-12-26  \n",
       "445         NaN  \n",
       "311         NaN  \n",
       "391         NaN  \n",
       "270         NaN  \n",
       "293         NaN  \n",
       "377         NaN  \n",
       "334         NaN  "
      ]
     },
     "execution_count": 7,
     "metadata": {},
     "output_type": "execute_result"
    }
   ],
   "source": [
    "# Print a sample of data for users\n",
    "users_df.sample(10)\n"
   ]
  },
  {
   "cell_type": "markdown",
   "metadata": {},
   "source": [
    "This data sample supports the previous comment in that the churn_date data is missing values. It's not clear if this means that the users have in fact churned in 2018 (and we do not know exactly when) or that they are still users at Megaline (although this option seems more likely)\n",
    "first_name and last_name columns should be converted to lowercase\n",
    "city should be converted to lowercase"
   ]
  },
  {
   "cell_type": "markdown",
   "metadata": {},
   "source": [
    " "
   ]
  },
  {
   "cell_type": "markdown",
   "metadata": {},
   "source": [
    "### Fix Data"
   ]
  },
  {
   "cell_type": "code",
   "execution_count": 8,
   "metadata": {},
   "outputs": [],
   "source": [
    "users_df['churn_date'].fillna('0000-00-00', inplace=True)"
   ]
  },
  {
   "cell_type": "code",
   "execution_count": 9,
   "metadata": {},
   "outputs": [
    {
     "data": {
      "text/plain": [
       "user_id       0\n",
       "first_name    0\n",
       "last_name     0\n",
       "age           0\n",
       "city          0\n",
       "reg_date      0\n",
       "plan          0\n",
       "churn_date    0\n",
       "dtype: int64"
      ]
     },
     "execution_count": 9,
     "metadata": {},
     "output_type": "execute_result"
    }
   ],
   "source": [
    "users_df.isna().sum()"
   ]
  },
  {
   "cell_type": "markdown",
   "metadata": {},
   "source": [
    "### Enrich Data"
   ]
  },
  {
   "cell_type": "code",
   "execution_count": 10,
   "metadata": {},
   "outputs": [],
   "source": [
    "users_df['reg_date']=pd.to_datetime(users_df['reg_date'], format = '%Y-%m-%d')\n",
    "\n"
   ]
  },
  {
   "cell_type": "code",
   "execution_count": 11,
   "metadata": {},
   "outputs": [],
   "source": [
    "users_df['first_name']=users_df['first_name'].str.lower()"
   ]
  },
  {
   "cell_type": "code",
   "execution_count": 12,
   "metadata": {},
   "outputs": [],
   "source": [
    "users_df['last_name']=users_df['last_name'].str.lower()"
   ]
  },
  {
   "cell_type": "code",
   "execution_count": 13,
   "metadata": {},
   "outputs": [],
   "source": [
    "users_df['city']=users_df['city'].str.lower()"
   ]
  },
  {
   "cell_type": "markdown",
   "metadata": {},
   "source": [
    "I've converted the reg_date to datetime\n",
    "I've made the first_name, last_name and city columns lowercase\n",
    "I cannot convert churn_date to timestamp due to some data being missing"
   ]
  },
  {
   "cell_type": "code",
   "execution_count": 14,
   "metadata": {},
   "outputs": [
    {
     "data": {
      "text/html": [
       "<div>\n",
       "<style scoped>\n",
       "    .dataframe tbody tr th:only-of-type {\n",
       "        vertical-align: middle;\n",
       "    }\n",
       "\n",
       "    .dataframe tbody tr th {\n",
       "        vertical-align: top;\n",
       "    }\n",
       "\n",
       "    .dataframe thead th {\n",
       "        text-align: right;\n",
       "    }\n",
       "</style>\n",
       "<table border=\"1\" class=\"dataframe\">\n",
       "  <thead>\n",
       "    <tr style=\"text-align: right;\">\n",
       "      <th></th>\n",
       "      <th>user_id</th>\n",
       "      <th>first_name</th>\n",
       "      <th>last_name</th>\n",
       "      <th>age</th>\n",
       "      <th>city</th>\n",
       "      <th>reg_date</th>\n",
       "      <th>plan</th>\n",
       "      <th>churn_date</th>\n",
       "    </tr>\n",
       "  </thead>\n",
       "  <tbody>\n",
       "    <tr>\n",
       "      <th>320</th>\n",
       "      <td>1320</td>\n",
       "      <td>bert</td>\n",
       "      <td>wells</td>\n",
       "      <td>23</td>\n",
       "      <td>los angeles-long beach-anaheim, ca msa</td>\n",
       "      <td>2018-02-23</td>\n",
       "      <td>surf</td>\n",
       "      <td>0000-00-00</td>\n",
       "    </tr>\n",
       "    <tr>\n",
       "      <th>222</th>\n",
       "      <td>1222</td>\n",
       "      <td>cleo</td>\n",
       "      <td>anderson</td>\n",
       "      <td>18</td>\n",
       "      <td>los angeles-long beach-anaheim, ca msa</td>\n",
       "      <td>2018-06-27</td>\n",
       "      <td>surf</td>\n",
       "      <td>0000-00-00</td>\n",
       "    </tr>\n",
       "    <tr>\n",
       "      <th>359</th>\n",
       "      <td>1359</td>\n",
       "      <td>sherley</td>\n",
       "      <td>norris</td>\n",
       "      <td>33</td>\n",
       "      <td>colorado springs, co msa</td>\n",
       "      <td>2018-02-08</td>\n",
       "      <td>surf</td>\n",
       "      <td>0000-00-00</td>\n",
       "    </tr>\n",
       "    <tr>\n",
       "      <th>356</th>\n",
       "      <td>1356</td>\n",
       "      <td>hae</td>\n",
       "      <td>ryan</td>\n",
       "      <td>46</td>\n",
       "      <td>milwaukee-waukesha, wi msa</td>\n",
       "      <td>2018-05-16</td>\n",
       "      <td>surf</td>\n",
       "      <td>0000-00-00</td>\n",
       "    </tr>\n",
       "    <tr>\n",
       "      <th>380</th>\n",
       "      <td>1380</td>\n",
       "      <td>lajuana</td>\n",
       "      <td>kelley</td>\n",
       "      <td>35</td>\n",
       "      <td>san jose-sunnyvale-santa clara, ca msa</td>\n",
       "      <td>2018-09-04</td>\n",
       "      <td>ultimate</td>\n",
       "      <td>0000-00-00</td>\n",
       "    </tr>\n",
       "    <tr>\n",
       "      <th>261</th>\n",
       "      <td>1261</td>\n",
       "      <td>dusti</td>\n",
       "      <td>forbes</td>\n",
       "      <td>31</td>\n",
       "      <td>kansas city, mo-ks msa</td>\n",
       "      <td>2018-02-22</td>\n",
       "      <td>surf</td>\n",
       "      <td>0000-00-00</td>\n",
       "    </tr>\n",
       "    <tr>\n",
       "      <th>436</th>\n",
       "      <td>1436</td>\n",
       "      <td>jennine</td>\n",
       "      <td>kinney</td>\n",
       "      <td>69</td>\n",
       "      <td>philadelphia-camden-wilmington, pa-nj-de-md msa</td>\n",
       "      <td>2018-08-26</td>\n",
       "      <td>ultimate</td>\n",
       "      <td>0000-00-00</td>\n",
       "    </tr>\n",
       "    <tr>\n",
       "      <th>131</th>\n",
       "      <td>1131</td>\n",
       "      <td>shane</td>\n",
       "      <td>morrison</td>\n",
       "      <td>60</td>\n",
       "      <td>los angeles-long beach-anaheim, ca msa</td>\n",
       "      <td>2018-01-07</td>\n",
       "      <td>surf</td>\n",
       "      <td>0000-00-00</td>\n",
       "    </tr>\n",
       "    <tr>\n",
       "      <th>478</th>\n",
       "      <td>1478</td>\n",
       "      <td>elane</td>\n",
       "      <td>david</td>\n",
       "      <td>51</td>\n",
       "      <td>portland-vancouver-hillsboro, or-wa msa</td>\n",
       "      <td>2018-06-28</td>\n",
       "      <td>ultimate</td>\n",
       "      <td>0000-00-00</td>\n",
       "    </tr>\n",
       "    <tr>\n",
       "      <th>207</th>\n",
       "      <td>1207</td>\n",
       "      <td>samuel</td>\n",
       "      <td>porter</td>\n",
       "      <td>63</td>\n",
       "      <td>omaha-council bluffs, ne-ia msa</td>\n",
       "      <td>2018-12-22</td>\n",
       "      <td>surf</td>\n",
       "      <td>0000-00-00</td>\n",
       "    </tr>\n",
       "  </tbody>\n",
       "</table>\n",
       "</div>"
      ],
      "text/plain": [
       "     user_id first_name last_name  age  \\\n",
       "320     1320       bert     wells   23   \n",
       "222     1222       cleo  anderson   18   \n",
       "359     1359    sherley    norris   33   \n",
       "356     1356        hae      ryan   46   \n",
       "380     1380    lajuana    kelley   35   \n",
       "261     1261      dusti    forbes   31   \n",
       "436     1436    jennine    kinney   69   \n",
       "131     1131      shane  morrison   60   \n",
       "478     1478      elane     david   51   \n",
       "207     1207     samuel    porter   63   \n",
       "\n",
       "                                                city   reg_date      plan  \\\n",
       "320           los angeles-long beach-anaheim, ca msa 2018-02-23      surf   \n",
       "222           los angeles-long beach-anaheim, ca msa 2018-06-27      surf   \n",
       "359                         colorado springs, co msa 2018-02-08      surf   \n",
       "356                       milwaukee-waukesha, wi msa 2018-05-16      surf   \n",
       "380           san jose-sunnyvale-santa clara, ca msa 2018-09-04  ultimate   \n",
       "261                           kansas city, mo-ks msa 2018-02-22      surf   \n",
       "436  philadelphia-camden-wilmington, pa-nj-de-md msa 2018-08-26  ultimate   \n",
       "131           los angeles-long beach-anaheim, ca msa 2018-01-07      surf   \n",
       "478          portland-vancouver-hillsboro, or-wa msa 2018-06-28  ultimate   \n",
       "207                  omaha-council bluffs, ne-ia msa 2018-12-22      surf   \n",
       "\n",
       "     churn_date  \n",
       "320  0000-00-00  \n",
       "222  0000-00-00  \n",
       "359  0000-00-00  \n",
       "356  0000-00-00  \n",
       "380  0000-00-00  \n",
       "261  0000-00-00  \n",
       "436  0000-00-00  \n",
       "131  0000-00-00  \n",
       "478  0000-00-00  \n",
       "207  0000-00-00  "
      ]
     },
     "execution_count": 14,
     "metadata": {},
     "output_type": "execute_result"
    }
   ],
   "source": [
    "users_df.sample(n=10)"
   ]
  },
  {
   "cell_type": "markdown",
   "metadata": {},
   "source": [
    "## Calls"
   ]
  },
  {
   "cell_type": "code",
   "execution_count": 15,
   "metadata": {},
   "outputs": [
    {
     "name": "stdout",
     "output_type": "stream",
     "text": [
      "<class 'pandas.core.frame.DataFrame'>\n",
      "RangeIndex: 137735 entries, 0 to 137734\n",
      "Data columns (total 4 columns):\n",
      " #   Column     Non-Null Count   Dtype  \n",
      "---  ------     --------------   -----  \n",
      " 0   id         137735 non-null  object \n",
      " 1   user_id    137735 non-null  int64  \n",
      " 2   call_date  137735 non-null  object \n",
      " 3   duration   137735 non-null  float64\n",
      "dtypes: float64(1), int64(1), object(2)\n",
      "memory usage: 4.2+ MB\n"
     ]
    }
   ],
   "source": [
    "# Print the general/summary information about the calls' DataFrame\n",
    "calls_df.info()\n"
   ]
  },
  {
   "cell_type": "code",
   "execution_count": 16,
   "metadata": {},
   "outputs": [
    {
     "data": {
      "text/html": [
       "<div>\n",
       "<style scoped>\n",
       "    .dataframe tbody tr th:only-of-type {\n",
       "        vertical-align: middle;\n",
       "    }\n",
       "\n",
       "    .dataframe tbody tr th {\n",
       "        vertical-align: top;\n",
       "    }\n",
       "\n",
       "    .dataframe thead th {\n",
       "        text-align: right;\n",
       "    }\n",
       "</style>\n",
       "<table border=\"1\" class=\"dataframe\">\n",
       "  <thead>\n",
       "    <tr style=\"text-align: right;\">\n",
       "      <th></th>\n",
       "      <th>id</th>\n",
       "      <th>user_id</th>\n",
       "      <th>call_date</th>\n",
       "      <th>duration</th>\n",
       "    </tr>\n",
       "  </thead>\n",
       "  <tbody>\n",
       "    <tr>\n",
       "      <th>104768</th>\n",
       "      <td>1368_488</td>\n",
       "      <td>1368</td>\n",
       "      <td>2018-12-28</td>\n",
       "      <td>0.00</td>\n",
       "    </tr>\n",
       "    <tr>\n",
       "      <th>39719</th>\n",
       "      <td>1147_503</td>\n",
       "      <td>1147</td>\n",
       "      <td>2018-12-08</td>\n",
       "      <td>0.00</td>\n",
       "    </tr>\n",
       "    <tr>\n",
       "      <th>39825</th>\n",
       "      <td>1147_619</td>\n",
       "      <td>1147</td>\n",
       "      <td>2018-07-27</td>\n",
       "      <td>4.05</td>\n",
       "    </tr>\n",
       "    <tr>\n",
       "      <th>85556</th>\n",
       "      <td>1313_536</td>\n",
       "      <td>1313</td>\n",
       "      <td>2018-07-21</td>\n",
       "      <td>12.04</td>\n",
       "    </tr>\n",
       "    <tr>\n",
       "      <th>46031</th>\n",
       "      <td>1167_114</td>\n",
       "      <td>1167</td>\n",
       "      <td>2018-10-16</td>\n",
       "      <td>18.16</td>\n",
       "    </tr>\n",
       "    <tr>\n",
       "      <th>66178</th>\n",
       "      <td>1240_36</td>\n",
       "      <td>1240</td>\n",
       "      <td>2018-12-19</td>\n",
       "      <td>18.20</td>\n",
       "    </tr>\n",
       "    <tr>\n",
       "      <th>42817</th>\n",
       "      <td>1156_422</td>\n",
       "      <td>1156</td>\n",
       "      <td>2018-08-15</td>\n",
       "      <td>5.70</td>\n",
       "    </tr>\n",
       "    <tr>\n",
       "      <th>67172</th>\n",
       "      <td>1241_8</td>\n",
       "      <td>1241</td>\n",
       "      <td>2018-11-07</td>\n",
       "      <td>8.78</td>\n",
       "    </tr>\n",
       "    <tr>\n",
       "      <th>92468</th>\n",
       "      <td>1332_124</td>\n",
       "      <td>1332</td>\n",
       "      <td>2018-12-06</td>\n",
       "      <td>2.35</td>\n",
       "    </tr>\n",
       "    <tr>\n",
       "      <th>83709</th>\n",
       "      <td>1305_137</td>\n",
       "      <td>1305</td>\n",
       "      <td>2018-06-23</td>\n",
       "      <td>0.00</td>\n",
       "    </tr>\n",
       "  </tbody>\n",
       "</table>\n",
       "</div>"
      ],
      "text/plain": [
       "              id  user_id   call_date  duration\n",
       "104768  1368_488     1368  2018-12-28      0.00\n",
       "39719   1147_503     1147  2018-12-08      0.00\n",
       "39825   1147_619     1147  2018-07-27      4.05\n",
       "85556   1313_536     1313  2018-07-21     12.04\n",
       "46031   1167_114     1167  2018-10-16     18.16\n",
       "66178    1240_36     1240  2018-12-19     18.20\n",
       "42817   1156_422     1156  2018-08-15      5.70\n",
       "67172     1241_8     1241  2018-11-07      8.78\n",
       "92468   1332_124     1332  2018-12-06      2.35\n",
       "83709   1305_137     1305  2018-06-23      0.00"
      ]
     },
     "execution_count": 16,
     "metadata": {},
     "output_type": "execute_result"
    }
   ],
   "source": [
    "# Print a sample of data for calls\n",
    "calls_df.sample(n=10)\n"
   ]
  },
  {
   "cell_type": "code",
   "execution_count": 17,
   "metadata": {},
   "outputs": [
    {
     "data": {
      "text/plain": [
       "0"
      ]
     },
     "execution_count": 17,
     "metadata": {},
     "output_type": "execute_result"
    }
   ],
   "source": [
    "calls_df.duplicated().sum()"
   ]
  },
  {
   "cell_type": "markdown",
   "metadata": {},
   "source": [
    "The data looks to be complete with no missing data or duplicated data.\n",
    "Call_date will need to be converted to timestamp datatype"
   ]
  },
  {
   "cell_type": "markdown",
   "metadata": {},
   "source": [
    " "
   ]
  },
  {
   "cell_type": "markdown",
   "metadata": {},
   "source": [
    "### Fix data"
   ]
  },
  {
   "cell_type": "code",
   "execution_count": 18,
   "metadata": {},
   "outputs": [],
   "source": [
    "calls_df['cals_date']=pd.to_datetime(calls_df['call_date'], format = '%Y-%m-%d')"
   ]
  },
  {
   "cell_type": "markdown",
   "metadata": {},
   "source": [
    "### Enrich data"
   ]
  },
  {
   "cell_type": "code",
   "execution_count": null,
   "metadata": {},
   "outputs": [],
   "source": []
  },
  {
   "cell_type": "markdown",
   "metadata": {},
   "source": [
    "## Messages"
   ]
  },
  {
   "cell_type": "code",
   "execution_count": 19,
   "metadata": {},
   "outputs": [
    {
     "name": "stdout",
     "output_type": "stream",
     "text": [
      "<class 'pandas.core.frame.DataFrame'>\n",
      "RangeIndex: 76051 entries, 0 to 76050\n",
      "Data columns (total 3 columns):\n",
      " #   Column        Non-Null Count  Dtype \n",
      "---  ------        --------------  ----- \n",
      " 0   id            76051 non-null  object\n",
      " 1   user_id       76051 non-null  int64 \n",
      " 2   message_date  76051 non-null  object\n",
      "dtypes: int64(1), object(2)\n",
      "memory usage: 1.7+ MB\n"
     ]
    }
   ],
   "source": [
    "# Print the general/summary information about the messages' DataFrame\n",
    "messages_df.info()\n"
   ]
  },
  {
   "cell_type": "code",
   "execution_count": 20,
   "metadata": {
    "scrolled": true
   },
   "outputs": [
    {
     "data": {
      "text/html": [
       "<div>\n",
       "<style scoped>\n",
       "    .dataframe tbody tr th:only-of-type {\n",
       "        vertical-align: middle;\n",
       "    }\n",
       "\n",
       "    .dataframe tbody tr th {\n",
       "        vertical-align: top;\n",
       "    }\n",
       "\n",
       "    .dataframe thead th {\n",
       "        text-align: right;\n",
       "    }\n",
       "</style>\n",
       "<table border=\"1\" class=\"dataframe\">\n",
       "  <thead>\n",
       "    <tr style=\"text-align: right;\">\n",
       "      <th></th>\n",
       "      <th>id</th>\n",
       "      <th>user_id</th>\n",
       "      <th>message_date</th>\n",
       "    </tr>\n",
       "  </thead>\n",
       "  <tbody>\n",
       "    <tr>\n",
       "      <th>7416</th>\n",
       "      <td>1059_296</td>\n",
       "      <td>1059</td>\n",
       "      <td>2018-11-02</td>\n",
       "    </tr>\n",
       "    <tr>\n",
       "      <th>38298</th>\n",
       "      <td>1252_56</td>\n",
       "      <td>1252</td>\n",
       "      <td>2018-11-30</td>\n",
       "    </tr>\n",
       "    <tr>\n",
       "      <th>13811</th>\n",
       "      <td>1094_44</td>\n",
       "      <td>1094</td>\n",
       "      <td>2018-11-27</td>\n",
       "    </tr>\n",
       "    <tr>\n",
       "      <th>51989</th>\n",
       "      <td>1335_581</td>\n",
       "      <td>1335</td>\n",
       "      <td>2018-12-12</td>\n",
       "    </tr>\n",
       "    <tr>\n",
       "      <th>69023</th>\n",
       "      <td>1447_91</td>\n",
       "      <td>1447</td>\n",
       "      <td>2018-10-27</td>\n",
       "    </tr>\n",
       "    <tr>\n",
       "      <th>32963</th>\n",
       "      <td>1205_38</td>\n",
       "      <td>1205</td>\n",
       "      <td>2018-12-20</td>\n",
       "    </tr>\n",
       "    <tr>\n",
       "      <th>70146</th>\n",
       "      <td>1456_9</td>\n",
       "      <td>1456</td>\n",
       "      <td>2018-09-07</td>\n",
       "    </tr>\n",
       "    <tr>\n",
       "      <th>58044</th>\n",
       "      <td>1365_200</td>\n",
       "      <td>1365</td>\n",
       "      <td>2018-08-10</td>\n",
       "    </tr>\n",
       "    <tr>\n",
       "      <th>7756</th>\n",
       "      <td>1060_92</td>\n",
       "      <td>1060</td>\n",
       "      <td>2018-11-19</td>\n",
       "    </tr>\n",
       "    <tr>\n",
       "      <th>57434</th>\n",
       "      <td>1362_518</td>\n",
       "      <td>1362</td>\n",
       "      <td>2018-02-28</td>\n",
       "    </tr>\n",
       "  </tbody>\n",
       "</table>\n",
       "</div>"
      ],
      "text/plain": [
       "             id  user_id message_date\n",
       "7416   1059_296     1059   2018-11-02\n",
       "38298   1252_56     1252   2018-11-30\n",
       "13811   1094_44     1094   2018-11-27\n",
       "51989  1335_581     1335   2018-12-12\n",
       "69023   1447_91     1447   2018-10-27\n",
       "32963   1205_38     1205   2018-12-20\n",
       "70146    1456_9     1456   2018-09-07\n",
       "58044  1365_200     1365   2018-08-10\n",
       "7756    1060_92     1060   2018-11-19\n",
       "57434  1362_518     1362   2018-02-28"
      ]
     },
     "execution_count": 20,
     "metadata": {},
     "output_type": "execute_result"
    }
   ],
   "source": [
    "# Print a sample of data for messages\n",
    "messages_df.sample(n=10)\n"
   ]
  },
  {
   "cell_type": "code",
   "execution_count": 21,
   "metadata": {},
   "outputs": [
    {
     "data": {
      "text/plain": [
       "0"
      ]
     },
     "execution_count": 21,
     "metadata": {},
     "output_type": "execute_result"
    }
   ],
   "source": [
    "messages_df.duplicated().sum()"
   ]
  },
  {
   "cell_type": "markdown",
   "metadata": {},
   "source": [
    "dataframe seems to have no missing or duplicated data\n",
    "will need to convert message_date to timestamp"
   ]
  },
  {
   "cell_type": "markdown",
   "metadata": {},
   "source": [
    " "
   ]
  },
  {
   "cell_type": "markdown",
   "metadata": {},
   "source": [
    "### Fix data"
   ]
  },
  {
   "cell_type": "code",
   "execution_count": 22,
   "metadata": {},
   "outputs": [],
   "source": [
    "messages_df['message_date']= pd.to_datetime(messages_df['message_date'], format = '%Y-%m-%d')"
   ]
  },
  {
   "cell_type": "markdown",
   "metadata": {},
   "source": [
    "## Internet"
   ]
  },
  {
   "cell_type": "code",
   "execution_count": 23,
   "metadata": {},
   "outputs": [
    {
     "name": "stdout",
     "output_type": "stream",
     "text": [
      "<class 'pandas.core.frame.DataFrame'>\n",
      "RangeIndex: 104825 entries, 0 to 104824\n",
      "Data columns (total 4 columns):\n",
      " #   Column        Non-Null Count   Dtype  \n",
      "---  ------        --------------   -----  \n",
      " 0   id            104825 non-null  object \n",
      " 1   user_id       104825 non-null  int64  \n",
      " 2   session_date  104825 non-null  object \n",
      " 3   mb_used       104825 non-null  float64\n",
      "dtypes: float64(1), int64(1), object(2)\n",
      "memory usage: 3.2+ MB\n"
     ]
    }
   ],
   "source": [
    "# Print the general/summary information about the internet DataFrame\n",
    "internet_df.info()\n"
   ]
  },
  {
   "cell_type": "code",
   "execution_count": 24,
   "metadata": {
    "scrolled": true
   },
   "outputs": [
    {
     "data": {
      "text/html": [
       "<div>\n",
       "<style scoped>\n",
       "    .dataframe tbody tr th:only-of-type {\n",
       "        vertical-align: middle;\n",
       "    }\n",
       "\n",
       "    .dataframe tbody tr th {\n",
       "        vertical-align: top;\n",
       "    }\n",
       "\n",
       "    .dataframe thead th {\n",
       "        text-align: right;\n",
       "    }\n",
       "</style>\n",
       "<table border=\"1\" class=\"dataframe\">\n",
       "  <thead>\n",
       "    <tr style=\"text-align: right;\">\n",
       "      <th></th>\n",
       "      <th>id</th>\n",
       "      <th>user_id</th>\n",
       "      <th>session_date</th>\n",
       "      <th>mb_used</th>\n",
       "    </tr>\n",
       "  </thead>\n",
       "  <tbody>\n",
       "    <tr>\n",
       "      <th>80136</th>\n",
       "      <td>1374_212</td>\n",
       "      <td>1374</td>\n",
       "      <td>2018-11-18</td>\n",
       "      <td>437.75</td>\n",
       "    </tr>\n",
       "    <tr>\n",
       "      <th>52741</th>\n",
       "      <td>1237_121</td>\n",
       "      <td>1237</td>\n",
       "      <td>2018-12-11</td>\n",
       "      <td>416.07</td>\n",
       "    </tr>\n",
       "    <tr>\n",
       "      <th>18012</th>\n",
       "      <td>1081_72</td>\n",
       "      <td>1081</td>\n",
       "      <td>2018-09-25</td>\n",
       "      <td>264.66</td>\n",
       "    </tr>\n",
       "    <tr>\n",
       "      <th>28668</th>\n",
       "      <td>1132_29</td>\n",
       "      <td>1132</td>\n",
       "      <td>2018-09-24</td>\n",
       "      <td>230.57</td>\n",
       "    </tr>\n",
       "    <tr>\n",
       "      <th>89544</th>\n",
       "      <td>1414_0</td>\n",
       "      <td>1414</td>\n",
       "      <td>2018-09-20</td>\n",
       "      <td>503.23</td>\n",
       "    </tr>\n",
       "    <tr>\n",
       "      <th>33248</th>\n",
       "      <td>1150_362</td>\n",
       "      <td>1150</td>\n",
       "      <td>2018-10-06</td>\n",
       "      <td>213.61</td>\n",
       "    </tr>\n",
       "    <tr>\n",
       "      <th>36502</th>\n",
       "      <td>1164_185</td>\n",
       "      <td>1164</td>\n",
       "      <td>2018-08-31</td>\n",
       "      <td>0.00</td>\n",
       "    </tr>\n",
       "    <tr>\n",
       "      <th>64842</th>\n",
       "      <td>1299_130</td>\n",
       "      <td>1299</td>\n",
       "      <td>2018-11-22</td>\n",
       "      <td>20.52</td>\n",
       "    </tr>\n",
       "    <tr>\n",
       "      <th>1453</th>\n",
       "      <td>1008_164</td>\n",
       "      <td>1008</td>\n",
       "      <td>2018-11-22</td>\n",
       "      <td>645.98</td>\n",
       "    </tr>\n",
       "    <tr>\n",
       "      <th>82516</th>\n",
       "      <td>1385_267</td>\n",
       "      <td>1385</td>\n",
       "      <td>2018-10-30</td>\n",
       "      <td>155.41</td>\n",
       "    </tr>\n",
       "  </tbody>\n",
       "</table>\n",
       "</div>"
      ],
      "text/plain": [
       "             id  user_id session_date  mb_used\n",
       "80136  1374_212     1374   2018-11-18   437.75\n",
       "52741  1237_121     1237   2018-12-11   416.07\n",
       "18012   1081_72     1081   2018-09-25   264.66\n",
       "28668   1132_29     1132   2018-09-24   230.57\n",
       "89544    1414_0     1414   2018-09-20   503.23\n",
       "33248  1150_362     1150   2018-10-06   213.61\n",
       "36502  1164_185     1164   2018-08-31     0.00\n",
       "64842  1299_130     1299   2018-11-22    20.52\n",
       "1453   1008_164     1008   2018-11-22   645.98\n",
       "82516  1385_267     1385   2018-10-30   155.41"
      ]
     },
     "execution_count": 24,
     "metadata": {},
     "output_type": "execute_result"
    }
   ],
   "source": [
    "# Print a sample of data for the internet traffic\n",
    "internet_df.sample(n=10)\n"
   ]
  },
  {
   "cell_type": "code",
   "execution_count": 25,
   "metadata": {},
   "outputs": [
    {
     "data": {
      "text/plain": [
       "0"
      ]
     },
     "execution_count": 25,
     "metadata": {},
     "output_type": "execute_result"
    }
   ],
   "source": [
    "internet_df.duplicated().sum()"
   ]
  },
  {
   "cell_type": "markdown",
   "metadata": {},
   "source": [
    "dataframe appears to have no missing or duplicated data\n",
    "session_date will be converted to timestamp"
   ]
  },
  {
   "cell_type": "markdown",
   "metadata": {},
   "source": [
    " "
   ]
  },
  {
   "cell_type": "markdown",
   "metadata": {},
   "source": [
    "### Fix data"
   ]
  },
  {
   "cell_type": "code",
   "execution_count": 26,
   "metadata": {},
   "outputs": [],
   "source": [
    "internet_df['session_date']= pd.to_datetime(internet_df['session_date'], format = '%Y-%m-%d')"
   ]
  },
  {
   "cell_type": "markdown",
   "metadata": {},
   "source": [
    "## Study plan conditions"
   ]
  },
  {
   "cell_type": "code",
   "execution_count": 27,
   "metadata": {},
   "outputs": [],
   "source": [
    "# Print out the plan conditions and make sure they are clear for you\n",
    "plans = {\n",
    "    'surf': {'monthly_charge': 20, 'minutes_included': 500, 'messages_included': 50, 'gb_included': 15, 'usd_per_minute': 0.03, 'usd_per_message': 0.03, 'usd_per_gb': 10},\n",
    "    'ultimate': {'monthly_charge': 70, 'minutes_included': 3000, 'messages_included': 1000, 'gb_included': 30, 'usd_per_minute': 0.01, 'usd_per_message': 0.01, 'usd_per_gb': 7}\n",
    "}\n"
   ]
  },
  {
   "cell_type": "markdown",
   "metadata": {},
   "source": [
    "## Aggregate data per user\n",
    "\n",
    "[Now, as the data is clean, aggregate data per user per period in order to have just one record per user per period. It should ease the further analysis a lot.]"
   ]
  },
  {
   "cell_type": "code",
   "execution_count": 28,
   "metadata": {},
   "outputs": [
    {
     "name": "stdout",
     "output_type": "stream",
     "text": [
      "<class 'pandas.core.frame.DataFrame'>\n",
      "RangeIndex: 137735 entries, 0 to 137734\n",
      "Data columns (total 5 columns):\n",
      " #   Column     Non-Null Count   Dtype         \n",
      "---  ------     --------------   -----         \n",
      " 0   id         137735 non-null  object        \n",
      " 1   user_id    137735 non-null  int64         \n",
      " 2   call_date  137735 non-null  object        \n",
      " 3   duration   137735 non-null  float64       \n",
      " 4   cals_date  137735 non-null  datetime64[ns]\n",
      "dtypes: datetime64[ns](1), float64(1), int64(1), object(2)\n",
      "memory usage: 5.3+ MB\n"
     ]
    }
   ],
   "source": [
    "calls_df.info()"
   ]
  },
  {
   "cell_type": "code",
   "execution_count": 29,
   "metadata": {},
   "outputs": [],
   "source": [
    "calls_df['month'] = calls_df['cals_date'].dt.to_period('M')"
   ]
  },
  {
   "cell_type": "code",
   "execution_count": 30,
   "metadata": {},
   "outputs": [
    {
     "data": {
      "text/plain": [
       "user_id  month  \n",
       "1000     2018-12    16\n",
       "1001     2018-08    27\n",
       "         2018-09    49\n",
       "         2018-10    65\n",
       "         2018-11    64\n",
       "                    ..\n",
       "1498     2018-12    39\n",
       "1499     2018-09    41\n",
       "         2018-10    53\n",
       "         2018-11    45\n",
       "         2018-12    65\n",
       "Length: 2258, dtype: int64"
      ]
     },
     "execution_count": 30,
     "metadata": {},
     "output_type": "execute_result"
    }
   ],
   "source": [
    "calls_df.groupby(['user_id', 'month']).size()"
   ]
  },
  {
   "cell_type": "code",
   "execution_count": 31,
   "metadata": {},
   "outputs": [],
   "source": [
    "calls_per_month = calls_df.groupby(['user_id', 'month']).size().reset_index(name='call_count')"
   ]
  },
  {
   "cell_type": "code",
   "execution_count": 32,
   "metadata": {},
   "outputs": [
    {
     "data": {
      "text/html": [
       "<div>\n",
       "<style scoped>\n",
       "    .dataframe tbody tr th:only-of-type {\n",
       "        vertical-align: middle;\n",
       "    }\n",
       "\n",
       "    .dataframe tbody tr th {\n",
       "        vertical-align: top;\n",
       "    }\n",
       "\n",
       "    .dataframe thead th {\n",
       "        text-align: right;\n",
       "    }\n",
       "</style>\n",
       "<table border=\"1\" class=\"dataframe\">\n",
       "  <thead>\n",
       "    <tr style=\"text-align: right;\">\n",
       "      <th></th>\n",
       "      <th>user_id</th>\n",
       "      <th>month</th>\n",
       "      <th>call_count</th>\n",
       "    </tr>\n",
       "  </thead>\n",
       "  <tbody>\n",
       "    <tr>\n",
       "      <th>0</th>\n",
       "      <td>1000</td>\n",
       "      <td>2018-12</td>\n",
       "      <td>16</td>\n",
       "    </tr>\n",
       "    <tr>\n",
       "      <th>1</th>\n",
       "      <td>1001</td>\n",
       "      <td>2018-08</td>\n",
       "      <td>27</td>\n",
       "    </tr>\n",
       "    <tr>\n",
       "      <th>2</th>\n",
       "      <td>1001</td>\n",
       "      <td>2018-09</td>\n",
       "      <td>49</td>\n",
       "    </tr>\n",
       "    <tr>\n",
       "      <th>3</th>\n",
       "      <td>1001</td>\n",
       "      <td>2018-10</td>\n",
       "      <td>65</td>\n",
       "    </tr>\n",
       "    <tr>\n",
       "      <th>4</th>\n",
       "      <td>1001</td>\n",
       "      <td>2018-11</td>\n",
       "      <td>64</td>\n",
       "    </tr>\n",
       "    <tr>\n",
       "      <th>...</th>\n",
       "      <td>...</td>\n",
       "      <td>...</td>\n",
       "      <td>...</td>\n",
       "    </tr>\n",
       "    <tr>\n",
       "      <th>2253</th>\n",
       "      <td>1498</td>\n",
       "      <td>2018-12</td>\n",
       "      <td>39</td>\n",
       "    </tr>\n",
       "    <tr>\n",
       "      <th>2254</th>\n",
       "      <td>1499</td>\n",
       "      <td>2018-09</td>\n",
       "      <td>41</td>\n",
       "    </tr>\n",
       "    <tr>\n",
       "      <th>2255</th>\n",
       "      <td>1499</td>\n",
       "      <td>2018-10</td>\n",
       "      <td>53</td>\n",
       "    </tr>\n",
       "    <tr>\n",
       "      <th>2256</th>\n",
       "      <td>1499</td>\n",
       "      <td>2018-11</td>\n",
       "      <td>45</td>\n",
       "    </tr>\n",
       "    <tr>\n",
       "      <th>2257</th>\n",
       "      <td>1499</td>\n",
       "      <td>2018-12</td>\n",
       "      <td>65</td>\n",
       "    </tr>\n",
       "  </tbody>\n",
       "</table>\n",
       "<p>2258 rows × 3 columns</p>\n",
       "</div>"
      ],
      "text/plain": [
       "      user_id    month  call_count\n",
       "0        1000  2018-12          16\n",
       "1        1001  2018-08          27\n",
       "2        1001  2018-09          49\n",
       "3        1001  2018-10          65\n",
       "4        1001  2018-11          64\n",
       "...       ...      ...         ...\n",
       "2253     1498  2018-12          39\n",
       "2254     1499  2018-09          41\n",
       "2255     1499  2018-10          53\n",
       "2256     1499  2018-11          45\n",
       "2257     1499  2018-12          65\n",
       "\n",
       "[2258 rows x 3 columns]"
      ]
     },
     "execution_count": 32,
     "metadata": {},
     "output_type": "execute_result"
    }
   ],
   "source": [
    "# Calculate the number of calls made by each user per month. Save the result.\n",
    "calls_per_month\n"
   ]
  },
  {
   "cell_type": "code",
   "execution_count": 33,
   "metadata": {},
   "outputs": [],
   "source": [
    "# Calculate the amount of minutes spent by each user per month. Save the result.\n",
    "minutes_per_month = calls_df.groupby(['user_id', 'month'])['duration'].sum().reset_index()\n"
   ]
  },
  {
   "cell_type": "code",
   "execution_count": 34,
   "metadata": {},
   "outputs": [
    {
     "data": {
      "text/html": [
       "<div>\n",
       "<style scoped>\n",
       "    .dataframe tbody tr th:only-of-type {\n",
       "        vertical-align: middle;\n",
       "    }\n",
       "\n",
       "    .dataframe tbody tr th {\n",
       "        vertical-align: top;\n",
       "    }\n",
       "\n",
       "    .dataframe thead th {\n",
       "        text-align: right;\n",
       "    }\n",
       "</style>\n",
       "<table border=\"1\" class=\"dataframe\">\n",
       "  <thead>\n",
       "    <tr style=\"text-align: right;\">\n",
       "      <th></th>\n",
       "      <th>user_id</th>\n",
       "      <th>month</th>\n",
       "      <th>duration</th>\n",
       "    </tr>\n",
       "  </thead>\n",
       "  <tbody>\n",
       "    <tr>\n",
       "      <th>0</th>\n",
       "      <td>1000</td>\n",
       "      <td>2018-12</td>\n",
       "      <td>117.0</td>\n",
       "    </tr>\n",
       "    <tr>\n",
       "      <th>1</th>\n",
       "      <td>1001</td>\n",
       "      <td>2018-08</td>\n",
       "      <td>172.0</td>\n",
       "    </tr>\n",
       "    <tr>\n",
       "      <th>2</th>\n",
       "      <td>1001</td>\n",
       "      <td>2018-09</td>\n",
       "      <td>298.0</td>\n",
       "    </tr>\n",
       "    <tr>\n",
       "      <th>3</th>\n",
       "      <td>1001</td>\n",
       "      <td>2018-10</td>\n",
       "      <td>375.0</td>\n",
       "    </tr>\n",
       "    <tr>\n",
       "      <th>4</th>\n",
       "      <td>1001</td>\n",
       "      <td>2018-11</td>\n",
       "      <td>405.0</td>\n",
       "    </tr>\n",
       "    <tr>\n",
       "      <th>...</th>\n",
       "      <td>...</td>\n",
       "      <td>...</td>\n",
       "      <td>...</td>\n",
       "    </tr>\n",
       "    <tr>\n",
       "      <th>2253</th>\n",
       "      <td>1498</td>\n",
       "      <td>2018-12</td>\n",
       "      <td>325.0</td>\n",
       "    </tr>\n",
       "    <tr>\n",
       "      <th>2254</th>\n",
       "      <td>1499</td>\n",
       "      <td>2018-09</td>\n",
       "      <td>331.0</td>\n",
       "    </tr>\n",
       "    <tr>\n",
       "      <th>2255</th>\n",
       "      <td>1499</td>\n",
       "      <td>2018-10</td>\n",
       "      <td>364.0</td>\n",
       "    </tr>\n",
       "    <tr>\n",
       "      <th>2256</th>\n",
       "      <td>1499</td>\n",
       "      <td>2018-11</td>\n",
       "      <td>289.0</td>\n",
       "    </tr>\n",
       "    <tr>\n",
       "      <th>2257</th>\n",
       "      <td>1499</td>\n",
       "      <td>2018-12</td>\n",
       "      <td>469.0</td>\n",
       "    </tr>\n",
       "  </tbody>\n",
       "</table>\n",
       "<p>2258 rows × 3 columns</p>\n",
       "</div>"
      ],
      "text/plain": [
       "      user_id    month  duration\n",
       "0        1000  2018-12     117.0\n",
       "1        1001  2018-08     172.0\n",
       "2        1001  2018-09     298.0\n",
       "3        1001  2018-10     375.0\n",
       "4        1001  2018-11     405.0\n",
       "...       ...      ...       ...\n",
       "2253     1498  2018-12     325.0\n",
       "2254     1499  2018-09     331.0\n",
       "2255     1499  2018-10     364.0\n",
       "2256     1499  2018-11     289.0\n",
       "2257     1499  2018-12     469.0\n",
       "\n",
       "[2258 rows x 3 columns]"
      ]
     },
     "execution_count": 34,
     "metadata": {},
     "output_type": "execute_result"
    }
   ],
   "source": [
    "minutes_per_month['duration']=minutes_per_month['duration'].apply(np.ceil)\n",
    "minutes_per_month"
   ]
  },
  {
   "cell_type": "code",
   "execution_count": 35,
   "metadata": {
    "scrolled": true
   },
   "outputs": [],
   "source": [
    "# Calculate the number of messages sent by each user per month. Save the result.\n",
    "messages_df['month'] = messages_df['message_date'].dt.to_period('M')\n"
   ]
  },
  {
   "cell_type": "code",
   "execution_count": 36,
   "metadata": {},
   "outputs": [
    {
     "data": {
      "text/html": [
       "<div>\n",
       "<style scoped>\n",
       "    .dataframe tbody tr th:only-of-type {\n",
       "        vertical-align: middle;\n",
       "    }\n",
       "\n",
       "    .dataframe tbody tr th {\n",
       "        vertical-align: top;\n",
       "    }\n",
       "\n",
       "    .dataframe thead th {\n",
       "        text-align: right;\n",
       "    }\n",
       "</style>\n",
       "<table border=\"1\" class=\"dataframe\">\n",
       "  <thead>\n",
       "    <tr style=\"text-align: right;\">\n",
       "      <th></th>\n",
       "      <th>id</th>\n",
       "      <th>user_id</th>\n",
       "      <th>message_date</th>\n",
       "      <th>month</th>\n",
       "    </tr>\n",
       "  </thead>\n",
       "  <tbody>\n",
       "    <tr>\n",
       "      <th>0</th>\n",
       "      <td>1000_125</td>\n",
       "      <td>1000</td>\n",
       "      <td>2018-12-27</td>\n",
       "      <td>2018-12</td>\n",
       "    </tr>\n",
       "    <tr>\n",
       "      <th>1</th>\n",
       "      <td>1000_160</td>\n",
       "      <td>1000</td>\n",
       "      <td>2018-12-31</td>\n",
       "      <td>2018-12</td>\n",
       "    </tr>\n",
       "    <tr>\n",
       "      <th>2</th>\n",
       "      <td>1000_223</td>\n",
       "      <td>1000</td>\n",
       "      <td>2018-12-31</td>\n",
       "      <td>2018-12</td>\n",
       "    </tr>\n",
       "    <tr>\n",
       "      <th>3</th>\n",
       "      <td>1000_251</td>\n",
       "      <td>1000</td>\n",
       "      <td>2018-12-27</td>\n",
       "      <td>2018-12</td>\n",
       "    </tr>\n",
       "    <tr>\n",
       "      <th>4</th>\n",
       "      <td>1000_255</td>\n",
       "      <td>1000</td>\n",
       "      <td>2018-12-26</td>\n",
       "      <td>2018-12</td>\n",
       "    </tr>\n",
       "    <tr>\n",
       "      <th>...</th>\n",
       "      <td>...</td>\n",
       "      <td>...</td>\n",
       "      <td>...</td>\n",
       "      <td>...</td>\n",
       "    </tr>\n",
       "    <tr>\n",
       "      <th>76046</th>\n",
       "      <td>1497_526</td>\n",
       "      <td>1497</td>\n",
       "      <td>2018-12-24</td>\n",
       "      <td>2018-12</td>\n",
       "    </tr>\n",
       "    <tr>\n",
       "      <th>76047</th>\n",
       "      <td>1497_536</td>\n",
       "      <td>1497</td>\n",
       "      <td>2018-12-24</td>\n",
       "      <td>2018-12</td>\n",
       "    </tr>\n",
       "    <tr>\n",
       "      <th>76048</th>\n",
       "      <td>1497_547</td>\n",
       "      <td>1497</td>\n",
       "      <td>2018-12-31</td>\n",
       "      <td>2018-12</td>\n",
       "    </tr>\n",
       "    <tr>\n",
       "      <th>76049</th>\n",
       "      <td>1497_558</td>\n",
       "      <td>1497</td>\n",
       "      <td>2018-12-24</td>\n",
       "      <td>2018-12</td>\n",
       "    </tr>\n",
       "    <tr>\n",
       "      <th>76050</th>\n",
       "      <td>1497_613</td>\n",
       "      <td>1497</td>\n",
       "      <td>2018-12-23</td>\n",
       "      <td>2018-12</td>\n",
       "    </tr>\n",
       "  </tbody>\n",
       "</table>\n",
       "<p>76051 rows × 4 columns</p>\n",
       "</div>"
      ],
      "text/plain": [
       "             id  user_id message_date    month\n",
       "0      1000_125     1000   2018-12-27  2018-12\n",
       "1      1000_160     1000   2018-12-31  2018-12\n",
       "2      1000_223     1000   2018-12-31  2018-12\n",
       "3      1000_251     1000   2018-12-27  2018-12\n",
       "4      1000_255     1000   2018-12-26  2018-12\n",
       "...         ...      ...          ...      ...\n",
       "76046  1497_526     1497   2018-12-24  2018-12\n",
       "76047  1497_536     1497   2018-12-24  2018-12\n",
       "76048  1497_547     1497   2018-12-31  2018-12\n",
       "76049  1497_558     1497   2018-12-24  2018-12\n",
       "76050  1497_613     1497   2018-12-23  2018-12\n",
       "\n",
       "[76051 rows x 4 columns]"
      ]
     },
     "execution_count": 36,
     "metadata": {},
     "output_type": "execute_result"
    }
   ],
   "source": [
    "messages_df"
   ]
  },
  {
   "cell_type": "code",
   "execution_count": 37,
   "metadata": {},
   "outputs": [],
   "source": [
    "messages_per_month = messages_df.groupby(['user_id', 'month'])['id'].size().reset_index(name='messages')"
   ]
  },
  {
   "cell_type": "code",
   "execution_count": 38,
   "metadata": {},
   "outputs": [
    {
     "data": {
      "text/html": [
       "<div>\n",
       "<style scoped>\n",
       "    .dataframe tbody tr th:only-of-type {\n",
       "        vertical-align: middle;\n",
       "    }\n",
       "\n",
       "    .dataframe tbody tr th {\n",
       "        vertical-align: top;\n",
       "    }\n",
       "\n",
       "    .dataframe thead th {\n",
       "        text-align: right;\n",
       "    }\n",
       "</style>\n",
       "<table border=\"1\" class=\"dataframe\">\n",
       "  <thead>\n",
       "    <tr style=\"text-align: right;\">\n",
       "      <th></th>\n",
       "      <th>user_id</th>\n",
       "      <th>month</th>\n",
       "      <th>messages</th>\n",
       "    </tr>\n",
       "  </thead>\n",
       "  <tbody>\n",
       "    <tr>\n",
       "      <th>0</th>\n",
       "      <td>1000</td>\n",
       "      <td>2018-12</td>\n",
       "      <td>11</td>\n",
       "    </tr>\n",
       "    <tr>\n",
       "      <th>1</th>\n",
       "      <td>1001</td>\n",
       "      <td>2018-08</td>\n",
       "      <td>30</td>\n",
       "    </tr>\n",
       "    <tr>\n",
       "      <th>2</th>\n",
       "      <td>1001</td>\n",
       "      <td>2018-09</td>\n",
       "      <td>44</td>\n",
       "    </tr>\n",
       "    <tr>\n",
       "      <th>3</th>\n",
       "      <td>1001</td>\n",
       "      <td>2018-10</td>\n",
       "      <td>53</td>\n",
       "    </tr>\n",
       "    <tr>\n",
       "      <th>4</th>\n",
       "      <td>1001</td>\n",
       "      <td>2018-11</td>\n",
       "      <td>36</td>\n",
       "    </tr>\n",
       "    <tr>\n",
       "      <th>...</th>\n",
       "      <td>...</td>\n",
       "      <td>...</td>\n",
       "      <td>...</td>\n",
       "    </tr>\n",
       "    <tr>\n",
       "      <th>1801</th>\n",
       "      <td>1496</td>\n",
       "      <td>2018-09</td>\n",
       "      <td>21</td>\n",
       "    </tr>\n",
       "    <tr>\n",
       "      <th>1802</th>\n",
       "      <td>1496</td>\n",
       "      <td>2018-10</td>\n",
       "      <td>18</td>\n",
       "    </tr>\n",
       "    <tr>\n",
       "      <th>1803</th>\n",
       "      <td>1496</td>\n",
       "      <td>2018-11</td>\n",
       "      <td>13</td>\n",
       "    </tr>\n",
       "    <tr>\n",
       "      <th>1804</th>\n",
       "      <td>1496</td>\n",
       "      <td>2018-12</td>\n",
       "      <td>11</td>\n",
       "    </tr>\n",
       "    <tr>\n",
       "      <th>1805</th>\n",
       "      <td>1497</td>\n",
       "      <td>2018-12</td>\n",
       "      <td>50</td>\n",
       "    </tr>\n",
       "  </tbody>\n",
       "</table>\n",
       "<p>1806 rows × 3 columns</p>\n",
       "</div>"
      ],
      "text/plain": [
       "      user_id    month  messages\n",
       "0        1000  2018-12        11\n",
       "1        1001  2018-08        30\n",
       "2        1001  2018-09        44\n",
       "3        1001  2018-10        53\n",
       "4        1001  2018-11        36\n",
       "...       ...      ...       ...\n",
       "1801     1496  2018-09        21\n",
       "1802     1496  2018-10        18\n",
       "1803     1496  2018-11        13\n",
       "1804     1496  2018-12        11\n",
       "1805     1497  2018-12        50\n",
       "\n",
       "[1806 rows x 3 columns]"
      ]
     },
     "execution_count": 38,
     "metadata": {},
     "output_type": "execute_result"
    }
   ],
   "source": [
    "messages_per_month"
   ]
  },
  {
   "cell_type": "code",
   "execution_count": 39,
   "metadata": {},
   "outputs": [],
   "source": [
    "# Calculate the volume of internet traffic used by each user per month. Save the result.\n",
    "internet_df['month']= internet_df['session_date'].dt.to_period('M')\n"
   ]
  },
  {
   "cell_type": "code",
   "execution_count": 40,
   "metadata": {
    "scrolled": true
   },
   "outputs": [
    {
     "data": {
      "text/html": [
       "<div>\n",
       "<style scoped>\n",
       "    .dataframe tbody tr th:only-of-type {\n",
       "        vertical-align: middle;\n",
       "    }\n",
       "\n",
       "    .dataframe tbody tr th {\n",
       "        vertical-align: top;\n",
       "    }\n",
       "\n",
       "    .dataframe thead th {\n",
       "        text-align: right;\n",
       "    }\n",
       "</style>\n",
       "<table border=\"1\" class=\"dataframe\">\n",
       "  <thead>\n",
       "    <tr style=\"text-align: right;\">\n",
       "      <th></th>\n",
       "      <th>id</th>\n",
       "      <th>user_id</th>\n",
       "      <th>session_date</th>\n",
       "      <th>mb_used</th>\n",
       "      <th>month</th>\n",
       "    </tr>\n",
       "  </thead>\n",
       "  <tbody>\n",
       "    <tr>\n",
       "      <th>0</th>\n",
       "      <td>1000_13</td>\n",
       "      <td>1000</td>\n",
       "      <td>2018-12-29</td>\n",
       "      <td>89.86</td>\n",
       "      <td>2018-12</td>\n",
       "    </tr>\n",
       "    <tr>\n",
       "      <th>1</th>\n",
       "      <td>1000_204</td>\n",
       "      <td>1000</td>\n",
       "      <td>2018-12-31</td>\n",
       "      <td>0.00</td>\n",
       "      <td>2018-12</td>\n",
       "    </tr>\n",
       "    <tr>\n",
       "      <th>2</th>\n",
       "      <td>1000_379</td>\n",
       "      <td>1000</td>\n",
       "      <td>2018-12-28</td>\n",
       "      <td>660.40</td>\n",
       "      <td>2018-12</td>\n",
       "    </tr>\n",
       "    <tr>\n",
       "      <th>3</th>\n",
       "      <td>1000_413</td>\n",
       "      <td>1000</td>\n",
       "      <td>2018-12-26</td>\n",
       "      <td>270.99</td>\n",
       "      <td>2018-12</td>\n",
       "    </tr>\n",
       "    <tr>\n",
       "      <th>4</th>\n",
       "      <td>1000_442</td>\n",
       "      <td>1000</td>\n",
       "      <td>2018-12-27</td>\n",
       "      <td>880.22</td>\n",
       "      <td>2018-12</td>\n",
       "    </tr>\n",
       "    <tr>\n",
       "      <th>...</th>\n",
       "      <td>...</td>\n",
       "      <td>...</td>\n",
       "      <td>...</td>\n",
       "      <td>...</td>\n",
       "      <td>...</td>\n",
       "    </tr>\n",
       "    <tr>\n",
       "      <th>104820</th>\n",
       "      <td>1499_215</td>\n",
       "      <td>1499</td>\n",
       "      <td>2018-10-20</td>\n",
       "      <td>218.06</td>\n",
       "      <td>2018-10</td>\n",
       "    </tr>\n",
       "    <tr>\n",
       "      <th>104821</th>\n",
       "      <td>1499_216</td>\n",
       "      <td>1499</td>\n",
       "      <td>2018-12-30</td>\n",
       "      <td>304.72</td>\n",
       "      <td>2018-12</td>\n",
       "    </tr>\n",
       "    <tr>\n",
       "      <th>104822</th>\n",
       "      <td>1499_217</td>\n",
       "      <td>1499</td>\n",
       "      <td>2018-09-22</td>\n",
       "      <td>292.75</td>\n",
       "      <td>2018-09</td>\n",
       "    </tr>\n",
       "    <tr>\n",
       "      <th>104823</th>\n",
       "      <td>1499_218</td>\n",
       "      <td>1499</td>\n",
       "      <td>2018-12-07</td>\n",
       "      <td>0.00</td>\n",
       "      <td>2018-12</td>\n",
       "    </tr>\n",
       "    <tr>\n",
       "      <th>104824</th>\n",
       "      <td>1499_219</td>\n",
       "      <td>1499</td>\n",
       "      <td>2018-12-24</td>\n",
       "      <td>758.31</td>\n",
       "      <td>2018-12</td>\n",
       "    </tr>\n",
       "  </tbody>\n",
       "</table>\n",
       "<p>104825 rows × 5 columns</p>\n",
       "</div>"
      ],
      "text/plain": [
       "              id  user_id session_date  mb_used    month\n",
       "0        1000_13     1000   2018-12-29    89.86  2018-12\n",
       "1       1000_204     1000   2018-12-31     0.00  2018-12\n",
       "2       1000_379     1000   2018-12-28   660.40  2018-12\n",
       "3       1000_413     1000   2018-12-26   270.99  2018-12\n",
       "4       1000_442     1000   2018-12-27   880.22  2018-12\n",
       "...          ...      ...          ...      ...      ...\n",
       "104820  1499_215     1499   2018-10-20   218.06  2018-10\n",
       "104821  1499_216     1499   2018-12-30   304.72  2018-12\n",
       "104822  1499_217     1499   2018-09-22   292.75  2018-09\n",
       "104823  1499_218     1499   2018-12-07     0.00  2018-12\n",
       "104824  1499_219     1499   2018-12-24   758.31  2018-12\n",
       "\n",
       "[104825 rows x 5 columns]"
      ]
     },
     "execution_count": 40,
     "metadata": {},
     "output_type": "execute_result"
    }
   ],
   "source": [
    "internet_df"
   ]
  },
  {
   "cell_type": "code",
   "execution_count": 41,
   "metadata": {},
   "outputs": [],
   "source": [
    "internet_use_per_month = internet_df.groupby(['user_id', 'month'])['mb_used'].sum().reset_index()"
   ]
  },
  {
   "cell_type": "code",
   "execution_count": 42,
   "metadata": {},
   "outputs": [
    {
     "data": {
      "text/html": [
       "<div>\n",
       "<style scoped>\n",
       "    .dataframe tbody tr th:only-of-type {\n",
       "        vertical-align: middle;\n",
       "    }\n",
       "\n",
       "    .dataframe tbody tr th {\n",
       "        vertical-align: top;\n",
       "    }\n",
       "\n",
       "    .dataframe thead th {\n",
       "        text-align: right;\n",
       "    }\n",
       "</style>\n",
       "<table border=\"1\" class=\"dataframe\">\n",
       "  <thead>\n",
       "    <tr style=\"text-align: right;\">\n",
       "      <th></th>\n",
       "      <th>user_id</th>\n",
       "      <th>month</th>\n",
       "      <th>mb_used</th>\n",
       "    </tr>\n",
       "  </thead>\n",
       "  <tbody>\n",
       "    <tr>\n",
       "      <th>0</th>\n",
       "      <td>1000</td>\n",
       "      <td>2018-12</td>\n",
       "      <td>1902.0</td>\n",
       "    </tr>\n",
       "    <tr>\n",
       "      <th>1</th>\n",
       "      <td>1001</td>\n",
       "      <td>2018-08</td>\n",
       "      <td>6920.0</td>\n",
       "    </tr>\n",
       "    <tr>\n",
       "      <th>2</th>\n",
       "      <td>1001</td>\n",
       "      <td>2018-09</td>\n",
       "      <td>13315.0</td>\n",
       "    </tr>\n",
       "    <tr>\n",
       "      <th>3</th>\n",
       "      <td>1001</td>\n",
       "      <td>2018-10</td>\n",
       "      <td>22331.0</td>\n",
       "    </tr>\n",
       "    <tr>\n",
       "      <th>4</th>\n",
       "      <td>1001</td>\n",
       "      <td>2018-11</td>\n",
       "      <td>18505.0</td>\n",
       "    </tr>\n",
       "    <tr>\n",
       "      <th>...</th>\n",
       "      <td>...</td>\n",
       "      <td>...</td>\n",
       "      <td>...</td>\n",
       "    </tr>\n",
       "    <tr>\n",
       "      <th>2272</th>\n",
       "      <td>1498</td>\n",
       "      <td>2018-12</td>\n",
       "      <td>23138.0</td>\n",
       "    </tr>\n",
       "    <tr>\n",
       "      <th>2273</th>\n",
       "      <td>1499</td>\n",
       "      <td>2018-09</td>\n",
       "      <td>12985.0</td>\n",
       "    </tr>\n",
       "    <tr>\n",
       "      <th>2274</th>\n",
       "      <td>1499</td>\n",
       "      <td>2018-10</td>\n",
       "      <td>19493.0</td>\n",
       "    </tr>\n",
       "    <tr>\n",
       "      <th>2275</th>\n",
       "      <td>1499</td>\n",
       "      <td>2018-11</td>\n",
       "      <td>16814.0</td>\n",
       "    </tr>\n",
       "    <tr>\n",
       "      <th>2276</th>\n",
       "      <td>1499</td>\n",
       "      <td>2018-12</td>\n",
       "      <td>22060.0</td>\n",
       "    </tr>\n",
       "  </tbody>\n",
       "</table>\n",
       "<p>2277 rows × 3 columns</p>\n",
       "</div>"
      ],
      "text/plain": [
       "      user_id    month  mb_used\n",
       "0        1000  2018-12   1902.0\n",
       "1        1001  2018-08   6920.0\n",
       "2        1001  2018-09  13315.0\n",
       "3        1001  2018-10  22331.0\n",
       "4        1001  2018-11  18505.0\n",
       "...       ...      ...      ...\n",
       "2272     1498  2018-12  23138.0\n",
       "2273     1499  2018-09  12985.0\n",
       "2274     1499  2018-10  19493.0\n",
       "2275     1499  2018-11  16814.0\n",
       "2276     1499  2018-12  22060.0\n",
       "\n",
       "[2277 rows x 3 columns]"
      ]
     },
     "execution_count": 42,
     "metadata": {},
     "output_type": "execute_result"
    }
   ],
   "source": [
    "internet_use_per_month['mb_used']= internet_use_per_month['mb_used'].apply(np.ceil)\n",
    "internet_use_per_month"
   ]
  },
  {
   "cell_type": "code",
   "execution_count": 43,
   "metadata": {
    "scrolled": false
   },
   "outputs": [],
   "source": [
    "# Merge the data for calls, minutes, messages, internet based on user_id and month\n",
    "calls_minutes_merged = pd.merge(calls_per_month, minutes_per_month, on = ['user_id', 'month'], how = 'outer')\n",
    " "
   ]
  },
  {
   "cell_type": "markdown",
   "metadata": {},
   "source": [
    "merged calls_per_month datafram with minutes per month datafram"
   ]
  },
  {
   "cell_type": "code",
   "execution_count": 44,
   "metadata": {},
   "outputs": [],
   "source": [
    "calls_minutes_messages_merged = pd.merge(calls_minutes_merged, messages_per_month, on=['user_id', 'month'], how='outer')"
   ]
  },
  {
   "cell_type": "markdown",
   "metadata": {},
   "source": [
    "merged new dataframe with messages per month dataframe"
   ]
  },
  {
   "cell_type": "code",
   "execution_count": 45,
   "metadata": {},
   "outputs": [
    {
     "data": {
      "text/html": [
       "<div>\n",
       "<style scoped>\n",
       "    .dataframe tbody tr th:only-of-type {\n",
       "        vertical-align: middle;\n",
       "    }\n",
       "\n",
       "    .dataframe tbody tr th {\n",
       "        vertical-align: top;\n",
       "    }\n",
       "\n",
       "    .dataframe thead th {\n",
       "        text-align: right;\n",
       "    }\n",
       "</style>\n",
       "<table border=\"1\" class=\"dataframe\">\n",
       "  <thead>\n",
       "    <tr style=\"text-align: right;\">\n",
       "      <th></th>\n",
       "      <th>user_id</th>\n",
       "      <th>month</th>\n",
       "      <th>call_count</th>\n",
       "      <th>duration</th>\n",
       "      <th>messages</th>\n",
       "      <th>mb_used</th>\n",
       "    </tr>\n",
       "  </thead>\n",
       "  <tbody>\n",
       "    <tr>\n",
       "      <th>0</th>\n",
       "      <td>1000</td>\n",
       "      <td>2018-12</td>\n",
       "      <td>16.0</td>\n",
       "      <td>117.0</td>\n",
       "      <td>11.0</td>\n",
       "      <td>1902.0</td>\n",
       "    </tr>\n",
       "    <tr>\n",
       "      <th>1</th>\n",
       "      <td>1001</td>\n",
       "      <td>2018-08</td>\n",
       "      <td>27.0</td>\n",
       "      <td>172.0</td>\n",
       "      <td>30.0</td>\n",
       "      <td>6920.0</td>\n",
       "    </tr>\n",
       "    <tr>\n",
       "      <th>2</th>\n",
       "      <td>1001</td>\n",
       "      <td>2018-09</td>\n",
       "      <td>49.0</td>\n",
       "      <td>298.0</td>\n",
       "      <td>44.0</td>\n",
       "      <td>13315.0</td>\n",
       "    </tr>\n",
       "    <tr>\n",
       "      <th>3</th>\n",
       "      <td>1001</td>\n",
       "      <td>2018-10</td>\n",
       "      <td>65.0</td>\n",
       "      <td>375.0</td>\n",
       "      <td>53.0</td>\n",
       "      <td>22331.0</td>\n",
       "    </tr>\n",
       "    <tr>\n",
       "      <th>4</th>\n",
       "      <td>1001</td>\n",
       "      <td>2018-11</td>\n",
       "      <td>64.0</td>\n",
       "      <td>405.0</td>\n",
       "      <td>36.0</td>\n",
       "      <td>18505.0</td>\n",
       "    </tr>\n",
       "    <tr>\n",
       "      <th>...</th>\n",
       "      <td>...</td>\n",
       "      <td>...</td>\n",
       "      <td>...</td>\n",
       "      <td>...</td>\n",
       "      <td>...</td>\n",
       "      <td>...</td>\n",
       "    </tr>\n",
       "    <tr>\n",
       "      <th>2288</th>\n",
       "      <td>1349</td>\n",
       "      <td>2018-12</td>\n",
       "      <td>NaN</td>\n",
       "      <td>NaN</td>\n",
       "      <td>61.0</td>\n",
       "      <td>13040.0</td>\n",
       "    </tr>\n",
       "    <tr>\n",
       "      <th>2289</th>\n",
       "      <td>1361</td>\n",
       "      <td>2018-05</td>\n",
       "      <td>NaN</td>\n",
       "      <td>NaN</td>\n",
       "      <td>2.0</td>\n",
       "      <td>1520.0</td>\n",
       "    </tr>\n",
       "    <tr>\n",
       "      <th>2290</th>\n",
       "      <td>1482</td>\n",
       "      <td>2018-10</td>\n",
       "      <td>NaN</td>\n",
       "      <td>NaN</td>\n",
       "      <td>2.0</td>\n",
       "      <td>NaN</td>\n",
       "    </tr>\n",
       "    <tr>\n",
       "      <th>2291</th>\n",
       "      <td>1108</td>\n",
       "      <td>2018-12</td>\n",
       "      <td>NaN</td>\n",
       "      <td>NaN</td>\n",
       "      <td>NaN</td>\n",
       "      <td>234.0</td>\n",
       "    </tr>\n",
       "    <tr>\n",
       "      <th>2292</th>\n",
       "      <td>1311</td>\n",
       "      <td>2018-06</td>\n",
       "      <td>NaN</td>\n",
       "      <td>NaN</td>\n",
       "      <td>NaN</td>\n",
       "      <td>1499.0</td>\n",
       "    </tr>\n",
       "  </tbody>\n",
       "</table>\n",
       "<p>2293 rows × 6 columns</p>\n",
       "</div>"
      ],
      "text/plain": [
       "      user_id    month  call_count  duration  messages  mb_used\n",
       "0        1000  2018-12        16.0     117.0      11.0   1902.0\n",
       "1        1001  2018-08        27.0     172.0      30.0   6920.0\n",
       "2        1001  2018-09        49.0     298.0      44.0  13315.0\n",
       "3        1001  2018-10        65.0     375.0      53.0  22331.0\n",
       "4        1001  2018-11        64.0     405.0      36.0  18505.0\n",
       "...       ...      ...         ...       ...       ...      ...\n",
       "2288     1349  2018-12         NaN       NaN      61.0  13040.0\n",
       "2289     1361  2018-05         NaN       NaN       2.0   1520.0\n",
       "2290     1482  2018-10         NaN       NaN       2.0      NaN\n",
       "2291     1108  2018-12         NaN       NaN       NaN    234.0\n",
       "2292     1311  2018-06         NaN       NaN       NaN   1499.0\n",
       "\n",
       "[2293 rows x 6 columns]"
      ]
     },
     "execution_count": 45,
     "metadata": {},
     "output_type": "execute_result"
    }
   ],
   "source": [
    "all_data_merged = pd.merge(calls_minutes_messages_merged, internet_use_per_month, on=['user_id', 'month'], how='outer')\n",
    "all_data_merged"
   ]
  },
  {
   "cell_type": "markdown",
   "metadata": {},
   "source": [
    "Merged dataframes calls_df and messages_df into one data from on user_id and month columns"
   ]
  },
  {
   "cell_type": "code",
   "execution_count": 46,
   "metadata": {},
   "outputs": [
    {
     "data": {
      "text/html": [
       "<div>\n",
       "<style scoped>\n",
       "    .dataframe tbody tr th:only-of-type {\n",
       "        vertical-align: middle;\n",
       "    }\n",
       "\n",
       "    .dataframe tbody tr th {\n",
       "        vertical-align: top;\n",
       "    }\n",
       "\n",
       "    .dataframe thead th {\n",
       "        text-align: right;\n",
       "    }\n",
       "</style>\n",
       "<table border=\"1\" class=\"dataframe\">\n",
       "  <thead>\n",
       "    <tr style=\"text-align: right;\">\n",
       "      <th></th>\n",
       "      <th>user_id</th>\n",
       "      <th>month</th>\n",
       "      <th>call_count</th>\n",
       "      <th>duration</th>\n",
       "      <th>messages</th>\n",
       "      <th>mb_used</th>\n",
       "      <th>plan</th>\n",
       "      <th>city</th>\n",
       "    </tr>\n",
       "  </thead>\n",
       "  <tbody>\n",
       "    <tr>\n",
       "      <th>0</th>\n",
       "      <td>1000</td>\n",
       "      <td>2018-12</td>\n",
       "      <td>16.0</td>\n",
       "      <td>117.0</td>\n",
       "      <td>11.0</td>\n",
       "      <td>1902.0</td>\n",
       "      <td>ultimate</td>\n",
       "      <td>atlanta-sandy springs-roswell, ga msa</td>\n",
       "    </tr>\n",
       "    <tr>\n",
       "      <th>1</th>\n",
       "      <td>1001</td>\n",
       "      <td>2018-08</td>\n",
       "      <td>27.0</td>\n",
       "      <td>172.0</td>\n",
       "      <td>30.0</td>\n",
       "      <td>6920.0</td>\n",
       "      <td>surf</td>\n",
       "      <td>seattle-tacoma-bellevue, wa msa</td>\n",
       "    </tr>\n",
       "    <tr>\n",
       "      <th>2</th>\n",
       "      <td>1001</td>\n",
       "      <td>2018-09</td>\n",
       "      <td>49.0</td>\n",
       "      <td>298.0</td>\n",
       "      <td>44.0</td>\n",
       "      <td>13315.0</td>\n",
       "      <td>surf</td>\n",
       "      <td>seattle-tacoma-bellevue, wa msa</td>\n",
       "    </tr>\n",
       "    <tr>\n",
       "      <th>3</th>\n",
       "      <td>1001</td>\n",
       "      <td>2018-10</td>\n",
       "      <td>65.0</td>\n",
       "      <td>375.0</td>\n",
       "      <td>53.0</td>\n",
       "      <td>22331.0</td>\n",
       "      <td>surf</td>\n",
       "      <td>seattle-tacoma-bellevue, wa msa</td>\n",
       "    </tr>\n",
       "    <tr>\n",
       "      <th>4</th>\n",
       "      <td>1001</td>\n",
       "      <td>2018-11</td>\n",
       "      <td>64.0</td>\n",
       "      <td>405.0</td>\n",
       "      <td>36.0</td>\n",
       "      <td>18505.0</td>\n",
       "      <td>surf</td>\n",
       "      <td>seattle-tacoma-bellevue, wa msa</td>\n",
       "    </tr>\n",
       "    <tr>\n",
       "      <th>...</th>\n",
       "      <td>...</td>\n",
       "      <td>...</td>\n",
       "      <td>...</td>\n",
       "      <td>...</td>\n",
       "      <td>...</td>\n",
       "      <td>...</td>\n",
       "      <td>...</td>\n",
       "      <td>...</td>\n",
       "    </tr>\n",
       "    <tr>\n",
       "      <th>2288</th>\n",
       "      <td>1349</td>\n",
       "      <td>2018-12</td>\n",
       "      <td>NaN</td>\n",
       "      <td>NaN</td>\n",
       "      <td>61.0</td>\n",
       "      <td>13040.0</td>\n",
       "      <td>surf</td>\n",
       "      <td>boston-cambridge-newton, ma-nh msa</td>\n",
       "    </tr>\n",
       "    <tr>\n",
       "      <th>2289</th>\n",
       "      <td>1361</td>\n",
       "      <td>2018-05</td>\n",
       "      <td>NaN</td>\n",
       "      <td>NaN</td>\n",
       "      <td>2.0</td>\n",
       "      <td>1520.0</td>\n",
       "      <td>surf</td>\n",
       "      <td>birmingham-hoover, al msa</td>\n",
       "    </tr>\n",
       "    <tr>\n",
       "      <th>2290</th>\n",
       "      <td>1482</td>\n",
       "      <td>2018-10</td>\n",
       "      <td>NaN</td>\n",
       "      <td>NaN</td>\n",
       "      <td>2.0</td>\n",
       "      <td>NaN</td>\n",
       "      <td>ultimate</td>\n",
       "      <td>new york-newark-jersey city, ny-nj-pa msa</td>\n",
       "    </tr>\n",
       "    <tr>\n",
       "      <th>2291</th>\n",
       "      <td>1108</td>\n",
       "      <td>2018-12</td>\n",
       "      <td>NaN</td>\n",
       "      <td>NaN</td>\n",
       "      <td>NaN</td>\n",
       "      <td>234.0</td>\n",
       "      <td>ultimate</td>\n",
       "      <td>salt lake city, ut msa</td>\n",
       "    </tr>\n",
       "    <tr>\n",
       "      <th>2292</th>\n",
       "      <td>1311</td>\n",
       "      <td>2018-06</td>\n",
       "      <td>NaN</td>\n",
       "      <td>NaN</td>\n",
       "      <td>NaN</td>\n",
       "      <td>1499.0</td>\n",
       "      <td>ultimate</td>\n",
       "      <td>memphis, tn-ms-ar msa</td>\n",
       "    </tr>\n",
       "  </tbody>\n",
       "</table>\n",
       "<p>2293 rows × 8 columns</p>\n",
       "</div>"
      ],
      "text/plain": [
       "      user_id    month  call_count  duration  messages  mb_used      plan  \\\n",
       "0        1000  2018-12        16.0     117.0      11.0   1902.0  ultimate   \n",
       "1        1001  2018-08        27.0     172.0      30.0   6920.0      surf   \n",
       "2        1001  2018-09        49.0     298.0      44.0  13315.0      surf   \n",
       "3        1001  2018-10        65.0     375.0      53.0  22331.0      surf   \n",
       "4        1001  2018-11        64.0     405.0      36.0  18505.0      surf   \n",
       "...       ...      ...         ...       ...       ...      ...       ...   \n",
       "2288     1349  2018-12         NaN       NaN      61.0  13040.0      surf   \n",
       "2289     1361  2018-05         NaN       NaN       2.0   1520.0      surf   \n",
       "2290     1482  2018-10         NaN       NaN       2.0      NaN  ultimate   \n",
       "2291     1108  2018-12         NaN       NaN       NaN    234.0  ultimate   \n",
       "2292     1311  2018-06         NaN       NaN       NaN   1499.0  ultimate   \n",
       "\n",
       "                                           city  \n",
       "0         atlanta-sandy springs-roswell, ga msa  \n",
       "1               seattle-tacoma-bellevue, wa msa  \n",
       "2               seattle-tacoma-bellevue, wa msa  \n",
       "3               seattle-tacoma-bellevue, wa msa  \n",
       "4               seattle-tacoma-bellevue, wa msa  \n",
       "...                                         ...  \n",
       "2288         boston-cambridge-newton, ma-nh msa  \n",
       "2289                  birmingham-hoover, al msa  \n",
       "2290  new york-newark-jersey city, ny-nj-pa msa  \n",
       "2291                     salt lake city, ut msa  \n",
       "2292                      memphis, tn-ms-ar msa  \n",
       "\n",
       "[2293 rows x 8 columns]"
      ]
     },
     "execution_count": 46,
     "metadata": {},
     "output_type": "execute_result"
    }
   ],
   "source": [
    "# Add the plan information\n",
    "user_plan_data_monthly = pd.merge(all_data_merged, users_df[['user_id', 'plan', 'city']], on='user_id', how='left')\n",
    "user_plan_data_monthly"
   ]
  },
  {
   "cell_type": "markdown",
   "metadata": {},
   "source": [
    "[Calculate the monthly revenue from each user (subtract the free package limit from the total number of calls, text messages, and data; multiply the result by the calling plan value; add the monthly charge depending on the calling plan). N.B. This might not be as trivial as just a couple of lines given the plan conditions! So, it's okay to spend some time on it.]"
   ]
  },
  {
   "cell_type": "code",
   "execution_count": 47,
   "metadata": {},
   "outputs": [],
   "source": [
    "# Calculate the monthly revenue for each user\n",
    "plans = {\n",
    "    'surf': {'monthly_charge': 20, 'minutes_included': 500, 'messages_included': 50, 'gb_included': 15, 'usd_per_minute': 0.03, 'usd_per_message': 0.03, 'usd_per_gb': 10},\n",
    "    'ultimate': {'monthly_charge': 70, 'minutes_included': 3000, 'messages_included': 1000, 'gb_included': 30, 'usd_per_minute': 0.01, 'usd_per_message': 0.01, 'usd_per_gb': 7}\n",
    "}"
   ]
  },
  {
   "cell_type": "code",
   "execution_count": 48,
   "metadata": {},
   "outputs": [],
   "source": [
    "def calculate_revenue(row, plans):\n",
    "\n",
    "    duration = row['duration'] / 60\n",
    "    messages = row['messages']\n",
    "    gb_used = row['mb_used'] / 1024\n",
    "    plan = row['plan']\n",
    "    \n",
    "\n",
    "    plan_info = plans[plan]\n",
    "    monthly_charge = plan_info['monthly_charge']\n",
    "    minutes_included = plan_info['minutes_included']\n",
    "    messages_included = plan_info['messages_included']\n",
    "    gb_included = plan_info['gb_included']\n",
    "    \n",
    " \n",
    "    extra_minutes = max(0, duration - minutes_included)\n",
    "    extra_messages = max(0, messages - messages_included)\n",
    "    extra_gb = max(0, gb_used - gb_included)\n",
    "    \n",
    " \n",
    "    extra_minutes_charge = extra_minutes * plan_info['usd_per_minute']\n",
    "    extra_messages_charge = extra_messages * plan_info['usd_per_message']\n",
    "    extra_gb_charge = extra_gb * plan_info['usd_per_gb']\n",
    "    \n",
    " \n",
    "    total_charge = monthly_charge + extra_minutes_charge + extra_messages_charge + extra_gb_charge\n",
    "    \n",
    "    return total_charge\n",
    "\n",
    "\n",
    "user_plan_data_monthly['monthly_revenue'] = user_plan_data_monthly.apply(lambda row: calculate_revenue(row, plans), axis=1)"
   ]
  },
  {
   "cell_type": "code",
   "execution_count": 49,
   "metadata": {},
   "outputs": [
    {
     "data": {
      "text/html": [
       "<div>\n",
       "<style scoped>\n",
       "    .dataframe tbody tr th:only-of-type {\n",
       "        vertical-align: middle;\n",
       "    }\n",
       "\n",
       "    .dataframe tbody tr th {\n",
       "        vertical-align: top;\n",
       "    }\n",
       "\n",
       "    .dataframe thead th {\n",
       "        text-align: right;\n",
       "    }\n",
       "</style>\n",
       "<table border=\"1\" class=\"dataframe\">\n",
       "  <thead>\n",
       "    <tr style=\"text-align: right;\">\n",
       "      <th></th>\n",
       "      <th>user_id</th>\n",
       "      <th>month</th>\n",
       "      <th>call_count</th>\n",
       "      <th>duration</th>\n",
       "      <th>messages</th>\n",
       "      <th>mb_used</th>\n",
       "      <th>plan</th>\n",
       "      <th>city</th>\n",
       "      <th>monthly_revenue</th>\n",
       "    </tr>\n",
       "  </thead>\n",
       "  <tbody>\n",
       "    <tr>\n",
       "      <th>0</th>\n",
       "      <td>1000</td>\n",
       "      <td>2018-12</td>\n",
       "      <td>16.0</td>\n",
       "      <td>117.0</td>\n",
       "      <td>11.0</td>\n",
       "      <td>1902.0</td>\n",
       "      <td>ultimate</td>\n",
       "      <td>atlanta-sandy springs-roswell, ga msa</td>\n",
       "      <td>70.000000</td>\n",
       "    </tr>\n",
       "    <tr>\n",
       "      <th>1</th>\n",
       "      <td>1001</td>\n",
       "      <td>2018-08</td>\n",
       "      <td>27.0</td>\n",
       "      <td>172.0</td>\n",
       "      <td>30.0</td>\n",
       "      <td>6920.0</td>\n",
       "      <td>surf</td>\n",
       "      <td>seattle-tacoma-bellevue, wa msa</td>\n",
       "      <td>20.000000</td>\n",
       "    </tr>\n",
       "    <tr>\n",
       "      <th>2</th>\n",
       "      <td>1001</td>\n",
       "      <td>2018-09</td>\n",
       "      <td>49.0</td>\n",
       "      <td>298.0</td>\n",
       "      <td>44.0</td>\n",
       "      <td>13315.0</td>\n",
       "      <td>surf</td>\n",
       "      <td>seattle-tacoma-bellevue, wa msa</td>\n",
       "      <td>20.000000</td>\n",
       "    </tr>\n",
       "    <tr>\n",
       "      <th>3</th>\n",
       "      <td>1001</td>\n",
       "      <td>2018-10</td>\n",
       "      <td>65.0</td>\n",
       "      <td>375.0</td>\n",
       "      <td>53.0</td>\n",
       "      <td>22331.0</td>\n",
       "      <td>surf</td>\n",
       "      <td>seattle-tacoma-bellevue, wa msa</td>\n",
       "      <td>88.166172</td>\n",
       "    </tr>\n",
       "    <tr>\n",
       "      <th>4</th>\n",
       "      <td>1001</td>\n",
       "      <td>2018-11</td>\n",
       "      <td>64.0</td>\n",
       "      <td>405.0</td>\n",
       "      <td>36.0</td>\n",
       "      <td>18505.0</td>\n",
       "      <td>surf</td>\n",
       "      <td>seattle-tacoma-bellevue, wa msa</td>\n",
       "      <td>50.712891</td>\n",
       "    </tr>\n",
       "    <tr>\n",
       "      <th>...</th>\n",
       "      <td>...</td>\n",
       "      <td>...</td>\n",
       "      <td>...</td>\n",
       "      <td>...</td>\n",
       "      <td>...</td>\n",
       "      <td>...</td>\n",
       "      <td>...</td>\n",
       "      <td>...</td>\n",
       "      <td>...</td>\n",
       "    </tr>\n",
       "    <tr>\n",
       "      <th>2253</th>\n",
       "      <td>1498</td>\n",
       "      <td>2018-12</td>\n",
       "      <td>39.0</td>\n",
       "      <td>325.0</td>\n",
       "      <td>NaN</td>\n",
       "      <td>23138.0</td>\n",
       "      <td>surf</td>\n",
       "      <td>new york-newark-jersey city, ny-nj-pa msa</td>\n",
       "      <td>95.957031</td>\n",
       "    </tr>\n",
       "    <tr>\n",
       "      <th>2257</th>\n",
       "      <td>1499</td>\n",
       "      <td>2018-12</td>\n",
       "      <td>65.0</td>\n",
       "      <td>469.0</td>\n",
       "      <td>NaN</td>\n",
       "      <td>22060.0</td>\n",
       "      <td>surf</td>\n",
       "      <td>orlando-kissimmee-sanford, fl msa</td>\n",
       "      <td>85.429688</td>\n",
       "    </tr>\n",
       "    <tr>\n",
       "      <th>2256</th>\n",
       "      <td>1499</td>\n",
       "      <td>2018-11</td>\n",
       "      <td>45.0</td>\n",
       "      <td>289.0</td>\n",
       "      <td>NaN</td>\n",
       "      <td>16814.0</td>\n",
       "      <td>surf</td>\n",
       "      <td>orlando-kissimmee-sanford, fl msa</td>\n",
       "      <td>34.199219</td>\n",
       "    </tr>\n",
       "    <tr>\n",
       "      <th>2255</th>\n",
       "      <td>1499</td>\n",
       "      <td>2018-10</td>\n",
       "      <td>53.0</td>\n",
       "      <td>364.0</td>\n",
       "      <td>NaN</td>\n",
       "      <td>19493.0</td>\n",
       "      <td>surf</td>\n",
       "      <td>orlando-kissimmee-sanford, fl msa</td>\n",
       "      <td>60.361328</td>\n",
       "    </tr>\n",
       "    <tr>\n",
       "      <th>2254</th>\n",
       "      <td>1499</td>\n",
       "      <td>2018-09</td>\n",
       "      <td>41.0</td>\n",
       "      <td>331.0</td>\n",
       "      <td>NaN</td>\n",
       "      <td>12985.0</td>\n",
       "      <td>surf</td>\n",
       "      <td>orlando-kissimmee-sanford, fl msa</td>\n",
       "      <td>20.000000</td>\n",
       "    </tr>\n",
       "  </tbody>\n",
       "</table>\n",
       "<p>2293 rows × 9 columns</p>\n",
       "</div>"
      ],
      "text/plain": [
       "      user_id    month  call_count  duration  messages  mb_used      plan  \\\n",
       "0        1000  2018-12        16.0     117.0      11.0   1902.0  ultimate   \n",
       "1        1001  2018-08        27.0     172.0      30.0   6920.0      surf   \n",
       "2        1001  2018-09        49.0     298.0      44.0  13315.0      surf   \n",
       "3        1001  2018-10        65.0     375.0      53.0  22331.0      surf   \n",
       "4        1001  2018-11        64.0     405.0      36.0  18505.0      surf   \n",
       "...       ...      ...         ...       ...       ...      ...       ...   \n",
       "2253     1498  2018-12        39.0     325.0       NaN  23138.0      surf   \n",
       "2257     1499  2018-12        65.0     469.0       NaN  22060.0      surf   \n",
       "2256     1499  2018-11        45.0     289.0       NaN  16814.0      surf   \n",
       "2255     1499  2018-10        53.0     364.0       NaN  19493.0      surf   \n",
       "2254     1499  2018-09        41.0     331.0       NaN  12985.0      surf   \n",
       "\n",
       "                                           city  monthly_revenue  \n",
       "0         atlanta-sandy springs-roswell, ga msa        70.000000  \n",
       "1               seattle-tacoma-bellevue, wa msa        20.000000  \n",
       "2               seattle-tacoma-bellevue, wa msa        20.000000  \n",
       "3               seattle-tacoma-bellevue, wa msa        88.166172  \n",
       "4               seattle-tacoma-bellevue, wa msa        50.712891  \n",
       "...                                         ...              ...  \n",
       "2253  new york-newark-jersey city, ny-nj-pa msa        95.957031  \n",
       "2257          orlando-kissimmee-sanford, fl msa        85.429688  \n",
       "2256          orlando-kissimmee-sanford, fl msa        34.199219  \n",
       "2255          orlando-kissimmee-sanford, fl msa        60.361328  \n",
       "2254          orlando-kissimmee-sanford, fl msa        20.000000  \n",
       "\n",
       "[2293 rows x 9 columns]"
      ]
     },
     "execution_count": 49,
     "metadata": {},
     "output_type": "execute_result"
    }
   ],
   "source": [
    "user_plan_data_monthly.sort_values(by='user_id', ascending=True)"
   ]
  },
  {
   "cell_type": "markdown",
   "metadata": {},
   "source": [
    "## Study user behaviour"
   ]
  },
  {
   "cell_type": "markdown",
   "metadata": {},
   "source": [
    "### Calls"
   ]
  },
  {
   "cell_type": "code",
   "execution_count": 50,
   "metadata": {},
   "outputs": [],
   "source": [
    "# Compare average duration of calls per each plan per each distinct month. Plot a bar plat to visualize it.\n",
    "calls_grouped = user_plan_data_monthly.groupby(['plan', 'month'])['duration'].mean().reset_index()\n"
   ]
  },
  {
   "cell_type": "code",
   "execution_count": 51,
   "metadata": {
    "scrolled": true
   },
   "outputs": [
    {
     "data": {
      "text/html": [
       "<div>\n",
       "<style scoped>\n",
       "    .dataframe tbody tr th:only-of-type {\n",
       "        vertical-align: middle;\n",
       "    }\n",
       "\n",
       "    .dataframe tbody tr th {\n",
       "        vertical-align: top;\n",
       "    }\n",
       "\n",
       "    .dataframe thead th {\n",
       "        text-align: right;\n",
       "    }\n",
       "</style>\n",
       "<table border=\"1\" class=\"dataframe\">\n",
       "  <thead>\n",
       "    <tr style=\"text-align: right;\">\n",
       "      <th>plan</th>\n",
       "      <th>surf</th>\n",
       "      <th>ultimate</th>\n",
       "    </tr>\n",
       "    <tr>\n",
       "      <th>month</th>\n",
       "      <th></th>\n",
       "      <th></th>\n",
       "    </tr>\n",
       "  </thead>\n",
       "  <tbody>\n",
       "    <tr>\n",
       "      <th>2018-01</th>\n",
       "      <td>193.000000</td>\n",
       "      <td>183.750000</td>\n",
       "    </tr>\n",
       "    <tr>\n",
       "      <th>2018-02</th>\n",
       "      <td>281.333333</td>\n",
       "      <td>443.833333</td>\n",
       "    </tr>\n",
       "    <tr>\n",
       "      <th>2018-03</th>\n",
       "      <td>311.434783</td>\n",
       "      <td>286.166667</td>\n",
       "    </tr>\n",
       "    <tr>\n",
       "      <th>2018-04</th>\n",
       "      <td>332.920000</td>\n",
       "      <td>317.095238</td>\n",
       "    </tr>\n",
       "    <tr>\n",
       "      <th>2018-05</th>\n",
       "      <td>387.600000</td>\n",
       "      <td>384.206897</td>\n",
       "    </tr>\n",
       "    <tr>\n",
       "      <th>2018-06</th>\n",
       "      <td>411.937500</td>\n",
       "      <td>365.933333</td>\n",
       "    </tr>\n",
       "    <tr>\n",
       "      <th>2018-07</th>\n",
       "      <td>428.541667</td>\n",
       "      <td>404.271186</td>\n",
       "    </tr>\n",
       "    <tr>\n",
       "      <th>2018-08</th>\n",
       "      <td>394.974843</td>\n",
       "      <td>397.788732</td>\n",
       "    </tr>\n",
       "    <tr>\n",
       "      <th>2018-09</th>\n",
       "      <td>397.602094</td>\n",
       "      <td>413.779070</td>\n",
       "    </tr>\n",
       "    <tr>\n",
       "      <th>2018-10</th>\n",
       "      <td>414.956897</td>\n",
       "      <td>429.752381</td>\n",
       "    </tr>\n",
       "    <tr>\n",
       "      <th>2018-11</th>\n",
       "      <td>408.732852</td>\n",
       "      <td>424.285714</td>\n",
       "    </tr>\n",
       "    <tr>\n",
       "      <th>2018-12</th>\n",
       "      <td>458.067524</td>\n",
       "      <td>439.369128</td>\n",
       "    </tr>\n",
       "  </tbody>\n",
       "</table>\n",
       "</div>"
      ],
      "text/plain": [
       "plan           surf    ultimate\n",
       "month                          \n",
       "2018-01  193.000000  183.750000\n",
       "2018-02  281.333333  443.833333\n",
       "2018-03  311.434783  286.166667\n",
       "2018-04  332.920000  317.095238\n",
       "2018-05  387.600000  384.206897\n",
       "2018-06  411.937500  365.933333\n",
       "2018-07  428.541667  404.271186\n",
       "2018-08  394.974843  397.788732\n",
       "2018-09  397.602094  413.779070\n",
       "2018-10  414.956897  429.752381\n",
       "2018-11  408.732852  424.285714\n",
       "2018-12  458.067524  439.369128"
      ]
     },
     "execution_count": 51,
     "metadata": {},
     "output_type": "execute_result"
    }
   ],
   "source": [
    "pivot_calls_grouped = calls_grouped.pivot(index = 'month', columns= 'plan', values = 'duration')\n",
    "pivot_calls_grouped"
   ]
  },
  {
   "cell_type": "code",
   "execution_count": 52,
   "metadata": {},
   "outputs": [
    {
     "data": {
      "text/plain": [
       "<AxesSubplot:title={'center':'Average Call Duration per Plan'}, xlabel='Month', ylabel='Avg Call Duration'>"
      ]
     },
     "execution_count": 52,
     "metadata": {},
     "output_type": "execute_result"
    },
    {
     "data": {
      "image/png": "[encoded data removed]",
      "text/plain": [
       "<Figure size 1200x600 with 1 Axes>"
      ]
     },
     "metadata": {},
     "output_type": "display_data"
    }
   ],
   "source": [
    "pivot_calls_grouped.plot(kind='bar', figsize=(12,6), title='Average Call Duration per Plan', xlabel='Month', ylabel = 'Avg Call Duration')"
   ]
  },
  {
   "cell_type": "code",
   "execution_count": 53,
   "metadata": {},
   "outputs": [],
   "source": [
    "# Compare the number of minutes users of each plan require each month. Plot a histogram.\n",
    "\n",
    "surf_data = user_plan_data_monthly[user_plan_data_monthly['plan'] == 'surf']['duration']\n",
    "ultimate_data = user_plan_data_monthly[user_plan_data_monthly['plan'] == 'ultimate']['duration']\n",
    "\n"
   ]
  },
  {
   "cell_type": "code",
   "execution_count": 54,
   "metadata": {},
   "outputs": [
    {
     "data": {
      "image/png": "[encoded data removed]",
      "text/plain": [
       "<Figure size 640x480 with 1 Axes>"
      ]
     },
     "metadata": {},
     "output_type": "display_data"
    }
   ],
   "source": [
    "plt.hist(surf_data, bins=25, alpha=0.5, label='Surf')\n",
    "plt.hist(ultimate_data, bins=25, alpha=0.5, label='Ultimate')\n",
    "plt.xlabel('Minutes')\n",
    "plt.ylabel('Frequency')\n",
    "plt.title('Monthly Usage of Minutes per Plan')\n",
    "plt.legend(loc='upper right')\n",
    "plt.show()"
   ]
  },
  {
   "cell_type": "markdown",
   "metadata": {},
   "source": [
    "It looks like the usage of minutes is higher for the surf data by a significant amount althought the distribution accross the two plans seems to be similar."
   ]
  },
  {
   "cell_type": "code",
   "execution_count": 55,
   "metadata": {},
   "outputs": [
    {
     "data": {
      "text/html": [
       "<div>\n",
       "<style scoped>\n",
       "    .dataframe tbody tr th:only-of-type {\n",
       "        vertical-align: middle;\n",
       "    }\n",
       "\n",
       "    .dataframe tbody tr th {\n",
       "        vertical-align: top;\n",
       "    }\n",
       "\n",
       "    .dataframe thead th {\n",
       "        text-align: right;\n",
       "    }\n",
       "</style>\n",
       "<table border=\"1\" class=\"dataframe\">\n",
       "  <thead>\n",
       "    <tr style=\"text-align: right;\">\n",
       "      <th></th>\n",
       "      <th>plan</th>\n",
       "      <th>duration</th>\n",
       "    </tr>\n",
       "  </thead>\n",
       "  <tbody>\n",
       "    <tr>\n",
       "      <th>0</th>\n",
       "      <td>surf</td>\n",
       "      <td>412.594822</td>\n",
       "    </tr>\n",
       "    <tr>\n",
       "      <th>1</th>\n",
       "      <td>ultimate</td>\n",
       "      <td>410.701262</td>\n",
       "    </tr>\n",
       "  </tbody>\n",
       "</table>\n",
       "</div>"
      ],
      "text/plain": [
       "       plan    duration\n",
       "0      surf  412.594822\n",
       "1  ultimate  410.701262"
      ]
     },
     "execution_count": 55,
     "metadata": {},
     "output_type": "execute_result"
    }
   ],
   "source": [
    "# Calculate the mean and the variance of the monthly call duration\n",
    "mean_duration_per_plan = user_plan_data_monthly.groupby('plan')['duration'].mean().reset_index()\n",
    "mean_duration_per_plan"
   ]
  },
  {
   "cell_type": "code",
   "execution_count": 56,
   "metadata": {},
   "outputs": [],
   "source": [
    "variance_duration_per_plan = user_plan_data_monthly.groupby('plan')['duration'].var().reset_index()"
   ]
  },
  {
   "cell_type": "code",
   "execution_count": 57,
   "metadata": {},
   "outputs": [
    {
     "data": {
      "text/html": [
       "<div>\n",
       "<style scoped>\n",
       "    .dataframe tbody tr th:only-of-type {\n",
       "        vertical-align: middle;\n",
       "    }\n",
       "\n",
       "    .dataframe tbody tr th {\n",
       "        vertical-align: top;\n",
       "    }\n",
       "\n",
       "    .dataframe thead th {\n",
       "        text-align: right;\n",
       "    }\n",
       "</style>\n",
       "<table border=\"1\" class=\"dataframe\">\n",
       "  <thead>\n",
       "    <tr style=\"text-align: right;\">\n",
       "      <th></th>\n",
       "      <th>plan</th>\n",
       "      <th>duration</th>\n",
       "    </tr>\n",
       "  </thead>\n",
       "  <tbody>\n",
       "    <tr>\n",
       "      <th>0</th>\n",
       "      <td>surf</td>\n",
       "      <td>47003.004118</td>\n",
       "    </tr>\n",
       "    <tr>\n",
       "      <th>1</th>\n",
       "      <td>ultimate</td>\n",
       "      <td>50517.268776</td>\n",
       "    </tr>\n",
       "  </tbody>\n",
       "</table>\n",
       "</div>"
      ],
      "text/plain": [
       "       plan      duration\n",
       "0      surf  47003.004118\n",
       "1  ultimate  50517.268776"
      ]
     },
     "execution_count": 57,
     "metadata": {},
     "output_type": "execute_result"
    }
   ],
   "source": [
    "variance_duration_per_plan"
   ]
  },
  {
   "cell_type": "code",
   "execution_count": 58,
   "metadata": {},
   "outputs": [
    {
     "data": {
      "text/plain": [
       "<Figure size 1200x600 with 0 Axes>"
      ]
     },
     "metadata": {},
     "output_type": "display_data"
    },
    {
     "data": {
      "image/png": "[encoded data removed]",
      "text/plain": [
       "<Figure size 640x480 with 1 Axes>"
      ]
     },
     "metadata": {},
     "output_type": "display_data"
    }
   ],
   "source": [
    "# Plot a boxplot to visualize the distribution of the monthly call duration\n",
    "\n",
    "plt.figure(figsize=(12, 6))\n",
    "boxplot = user_plan_data_monthly.boxplot(column='duration', by='plan', grid=False)\n",
    "\n",
    "plt.title('Distribution of Monthly Call Duration')\n",
    "plt.suptitle('')  \n",
    "plt.xlabel('Month')\n",
    "plt.ylabel('Call Duration')\n",
    "plt.show()\n"
   ]
  },
  {
   "cell_type": "markdown",
   "metadata": {},
   "source": [
    "As we saw in the histogram, the distribution of call duration is almost identical for the two plans."
   ]
  },
  {
   "cell_type": "markdown",
   "metadata": {},
   "source": [
    " "
   ]
  },
  {
   "cell_type": "markdown",
   "metadata": {},
   "source": [
    "### Messages"
   ]
  },
  {
   "cell_type": "code",
   "execution_count": 59,
   "metadata": {
    "scrolled": false
   },
   "outputs": [
    {
     "data": {
      "image/png": "[encoded data removed]",
      "text/plain": [
       "<Figure size 640x480 with 1 Axes>"
      ]
     },
     "metadata": {},
     "output_type": "display_data"
    }
   ],
   "source": [
    "# Compare the number of messages users of each plan tend to send each month\n",
    "\n",
    "surf_data = user_plan_data_monthly[user_plan_data_monthly['plan'] == 'surf']['messages']\n",
    "ultimate_data = user_plan_data_monthly[user_plan_data_monthly['plan'] == 'ultimate']['messages']\n",
    "\n",
    "plt.hist(surf_data, bins=10, alpha=0.5, label='Surf')\n",
    "plt.hist(ultimate_data, bins=10, alpha=0.5, label='Ultimate')\n",
    "plt.xlabel('Messages')\n",
    "plt.ylabel('Frequency')\n",
    "plt.title('Monthly Usage of messages per Plan')\n",
    "plt.legend(loc='upper right')\n",
    "plt.show()"
   ]
  },
  {
   "cell_type": "markdown",
   "metadata": {},
   "source": [
    "Like the call duration histogram, the monthly average messages sent for each plan shows that the surf plan users have higher usage but the two dataframes mirror each other in distribution"
   ]
  },
  {
   "cell_type": "code",
   "execution_count": 60,
   "metadata": {},
   "outputs": [
    {
     "data": {
      "text/html": [
       "<div>\n",
       "<style scoped>\n",
       "    .dataframe tbody tr th:only-of-type {\n",
       "        vertical-align: middle;\n",
       "    }\n",
       "\n",
       "    .dataframe tbody tr th {\n",
       "        vertical-align: top;\n",
       "    }\n",
       "\n",
       "    .dataframe thead th {\n",
       "        text-align: right;\n",
       "    }\n",
       "</style>\n",
       "<table border=\"1\" class=\"dataframe\">\n",
       "  <thead>\n",
       "    <tr style=\"text-align: right;\">\n",
       "      <th></th>\n",
       "      <th>plan</th>\n",
       "      <th>messages</th>\n",
       "    </tr>\n",
       "  </thead>\n",
       "  <tbody>\n",
       "    <tr>\n",
       "      <th>0</th>\n",
       "      <td>surf</td>\n",
       "      <td>40.109656</td>\n",
       "    </tr>\n",
       "    <tr>\n",
       "      <th>1</th>\n",
       "      <td>ultimate</td>\n",
       "      <td>46.296233</td>\n",
       "    </tr>\n",
       "  </tbody>\n",
       "</table>\n",
       "</div>"
      ],
      "text/plain": [
       "       plan   messages\n",
       "0      surf  40.109656\n",
       "1  ultimate  46.296233"
      ]
     },
     "execution_count": 60,
     "metadata": {},
     "output_type": "execute_result"
    }
   ],
   "source": [
    "mean_messages_per_plan =  user_plan_data_monthly.groupby('plan')['messages'].mean().reset_index()\n",
    "mean_messages_per_plan\n",
    "\n"
   ]
  },
  {
   "cell_type": "code",
   "execution_count": 61,
   "metadata": {},
   "outputs": [
    {
     "data": {
      "text/html": [
       "<div>\n",
       "<style scoped>\n",
       "    .dataframe tbody tr th:only-of-type {\n",
       "        vertical-align: middle;\n",
       "    }\n",
       "\n",
       "    .dataframe tbody tr th {\n",
       "        vertical-align: top;\n",
       "    }\n",
       "\n",
       "    .dataframe thead th {\n",
       "        text-align: right;\n",
       "    }\n",
       "</style>\n",
       "<table border=\"1\" class=\"dataframe\">\n",
       "  <thead>\n",
       "    <tr style=\"text-align: right;\">\n",
       "      <th></th>\n",
       "      <th>plan</th>\n",
       "      <th>messages</th>\n",
       "    </tr>\n",
       "  </thead>\n",
       "  <tbody>\n",
       "    <tr>\n",
       "      <th>0</th>\n",
       "      <td>surf</td>\n",
       "      <td>1091.344231</td>\n",
       "    </tr>\n",
       "    <tr>\n",
       "      <th>1</th>\n",
       "      <td>ultimate</td>\n",
       "      <td>1085.183108</td>\n",
       "    </tr>\n",
       "  </tbody>\n",
       "</table>\n",
       "</div>"
      ],
      "text/plain": [
       "       plan     messages\n",
       "0      surf  1091.344231\n",
       "1  ultimate  1085.183108"
      ]
     },
     "execution_count": 61,
     "metadata": {},
     "output_type": "execute_result"
    }
   ],
   "source": [
    "variance_messages_per_plan = user_plan_data_monthly.groupby('plan')['messages'].var().reset_index()\n",
    "variance_messages_per_plan"
   ]
  },
  {
   "cell_type": "markdown",
   "metadata": {},
   "source": [
    "Surf plan users send more messages per month although the distribution of the plans appear similar."
   ]
  },
  {
   "cell_type": "markdown",
   "metadata": {},
   "source": [
    " "
   ]
  },
  {
   "cell_type": "markdown",
   "metadata": {},
   "source": [
    "### Internet"
   ]
  },
  {
   "cell_type": "code",
   "execution_count": 62,
   "metadata": {},
   "outputs": [
    {
     "data": {
      "image/png": "[encoded data removed]",
      "text/plain": [
       "<Figure size 640x480 with 1 Axes>"
      ]
     },
     "metadata": {},
     "output_type": "display_data"
    }
   ],
   "source": [
    "# Compare the amount of internet traffic consumed by users per plan\n",
    "\n",
    "surf_data = user_plan_data_monthly[user_plan_data_monthly['plan'] == 'surf']['mb_used']\n",
    "ultimate_data = user_plan_data_monthly[user_plan_data_monthly['plan'] == 'ultimate']['mb_used']\n",
    "\n",
    "plt.hist(surf_data, bins=10, alpha=0.5, label='Surf')\n",
    "plt.hist(ultimate_data, bins=10, alpha=0.5, label='Ultimate')\n",
    "plt.xlabel('mb used')\n",
    "plt.ylabel('Frequency')\n",
    "plt.title('Monthly Usage of internet per Plan')\n",
    "plt.legend(loc='upper right')\n",
    "plt.show()"
   ]
  },
  {
   "cell_type": "code",
   "execution_count": 64,
   "metadata": {},
   "outputs": [
    {
     "data": {
      "text/html": [
       "<div>\n",
       "<style scoped>\n",
       "    .dataframe tbody tr th:only-of-type {\n",
       "        vertical-align: middle;\n",
       "    }\n",
       "\n",
       "    .dataframe tbody tr th {\n",
       "        vertical-align: top;\n",
       "    }\n",
       "\n",
       "    .dataframe thead th {\n",
       "        text-align: right;\n",
       "    }\n",
       "</style>\n",
       "<table border=\"1\" class=\"dataframe\">\n",
       "  <thead>\n",
       "    <tr style=\"text-align: right;\">\n",
       "      <th></th>\n",
       "      <th>plan</th>\n",
       "      <th>duration</th>\n",
       "    </tr>\n",
       "  </thead>\n",
       "  <tbody>\n",
       "    <tr>\n",
       "      <th>0</th>\n",
       "      <td>surf</td>\n",
       "      <td>412.594822</td>\n",
       "    </tr>\n",
       "    <tr>\n",
       "      <th>1</th>\n",
       "      <td>ultimate</td>\n",
       "      <td>410.701262</td>\n",
       "    </tr>\n",
       "  </tbody>\n",
       "</table>\n",
       "</div>"
      ],
      "text/plain": [
       "       plan    duration\n",
       "0      surf  412.594822\n",
       "1  ultimate  410.701262"
      ]
     },
     "execution_count": 64,
     "metadata": {},
     "output_type": "execute_result"
    }
   ],
   "source": [
    "mean_mb_per_plan = user_plan_data_monthly.groupby('plan')['mb_used'].mean().reset_index()\n",
    "mean_duration_per_plan"
   ]
  },
  {
   "cell_type": "code",
   "execution_count": 65,
   "metadata": {
    "scrolled": true
   },
   "outputs": [
    {
     "data": {
      "text/html": [
       "<div>\n",
       "<style scoped>\n",
       "    .dataframe tbody tr th:only-of-type {\n",
       "        vertical-align: middle;\n",
       "    }\n",
       "\n",
       "    .dataframe tbody tr th {\n",
       "        vertical-align: top;\n",
       "    }\n",
       "\n",
       "    .dataframe thead th {\n",
       "        text-align: right;\n",
       "    }\n",
       "</style>\n",
       "<table border=\"1\" class=\"dataframe\">\n",
       "  <thead>\n",
       "    <tr style=\"text-align: right;\">\n",
       "      <th></th>\n",
       "      <th>plan</th>\n",
       "      <th>mb_used</th>\n",
       "    </tr>\n",
       "  </thead>\n",
       "  <tbody>\n",
       "    <tr>\n",
       "      <th>0</th>\n",
       "      <td>surf</td>\n",
       "      <td>6.216812e+07</td>\n",
       "    </tr>\n",
       "    <tr>\n",
       "      <th>1</th>\n",
       "      <td>ultimate</td>\n",
       "      <td>6.132465e+07</td>\n",
       "    </tr>\n",
       "  </tbody>\n",
       "</table>\n",
       "</div>"
      ],
      "text/plain": [
       "       plan       mb_used\n",
       "0      surf  6.216812e+07\n",
       "1  ultimate  6.132465e+07"
      ]
     },
     "execution_count": 65,
     "metadata": {},
     "output_type": "execute_result"
    }
   ],
   "source": [
    "variance_internet_per_plan =  user_plan_data_monthly.groupby('plan')['mb_used'].var().reset_index()\n",
    "variance_internet_per_plan"
   ]
  },
  {
   "cell_type": "markdown",
   "metadata": {},
   "source": []
  },
  {
   "cell_type": "markdown",
   "metadata": {},
   "source": [
    "A pattern is emerging with our data. For internet use, the surf plan users have a higher frequency of usage but the distribution of the data for both plans is similar."
   ]
  },
  {
   "cell_type": "markdown",
   "metadata": {},
   "source": [
    " "
   ]
  },
  {
   "cell_type": "markdown",
   "metadata": {},
   "source": [
    "## Revenue"
   ]
  },
  {
   "cell_type": "markdown",
   "metadata": {},
   "source": [
    "[Likewise you have studied the user behaviour, statistically describe the revenue between the plans.]"
   ]
  },
  {
   "cell_type": "code",
   "execution_count": null,
   "metadata": {},
   "outputs": [],
   "source": [
    "surf_data = user_plan_data_monthly[user_plan_data_monthly['plan'] == 'surf']['monthly_revenue']\n",
    "ultimate_data = user_plan_data_monthly[user_plan_data_monthly['plan'] == 'ultimate']['monthly_revenue']\n",
    "\n",
    "plt.hist(surf_data, bins=25, alpha=0.5, label='Surf')\n",
    "plt.hist(ultimate_data, bins=25, alpha=0.5, label='Ultimate')\n",
    "plt.xlabel('monthly_revenue')\n",
    "plt.ylabel('Frequency')\n",
    "plt.title('Monthly Usage of internet per Plan')\n",
    "plt.legend(loc='upper right')\n",
    "plt.show()"
   ]
  },
  {
   "cell_type": "code",
   "execution_count": null,
   "metadata": {},
   "outputs": [],
   "source": [
    "mean_rev_per_plan = user_plan_data_monthly.groupby('plan')['monthly_revenue'].mean().reset_index()\n",
    "mean_rev_per_plan"
   ]
  },
  {
   "cell_type": "code",
   "execution_count": null,
   "metadata": {},
   "outputs": [],
   "source": [
    "variance_rev_per_plan = user_plan_data_monthly.groupby('plan')['monthly_revenue'].var().reset_index()\n",
    "variance_rev_per_plan"
   ]
  },
  {
   "cell_type": "markdown",
   "metadata": {},
   "source": [
    "It is much more likely for users of the surf plan to exceed their plan allowances which leads to more variety in the revenue generated from their plans. On average, the surf plan still produces less revenue than the ultimate by an average of about $17/user/month."
   ]
  },
  {
   "cell_type": "markdown",
   "metadata": {},
   "source": [
    " "
   ]
  },
  {
   "cell_type": "markdown",
   "metadata": {},
   "source": [
    "## Test statistical hypotheses"
   ]
  },
  {
   "cell_type": "markdown",
   "metadata": {},
   "source": [
    "[Test the hypothesis that the average revenue from users of the Ultimate and Surf calling plans differs.]"
   ]
  },
  {
   "cell_type": "markdown",
   "metadata": {},
   "source": [
    "The null hypothesis is: The average revenue of users from the ultimate plan is the same as the average revenue for the surf plan"
   ]
  },
  {
   "cell_type": "code",
   "execution_count": null,
   "metadata": {},
   "outputs": [],
   "source": [
    "# Test the hypotheses\n",
    "alpha = 0.05\n",
    "\n",
    "results = st.ttest_ind(surf_data, ultimate_data, equal_var=False)\n",
    "\n",
    "print('p-value:', results.pvalue)\n",
    "\n",
    "if results.pvalue < alpha:\n",
    "    print(\"We reject the null hypothesis\")\n",
    "else:\n",
    "    print(\"We can't reject the null hypothesis\")\n"
   ]
  },
  {
   "cell_type": "markdown",
   "metadata": {},
   "source": [
    "pvalue is very low. This tells us that there is a negliable chance that the mean value is the same. We reject our hypothesis that the mean is the same"
   ]
  },
  {
   "cell_type": "markdown",
   "metadata": {},
   "source": [
    "Null Hypothesis: The average revenue in NY and NJ is the same as the average revenue for the rest of the country"
   ]
  },
  {
   "cell_type": "code",
   "execution_count": null,
   "metadata": {},
   "outputs": [],
   "source": [
    "# Test the hypotheses\n",
    "user_plan_data_monthly['city'].str.contains('ny|nj')\n",
    "\n",
    "\n",
    "ny_nj_data = user_plan_data_monthly[user_plan_data_monthly['city'].str.contains('ny|nj')]['monthly_revenue']\n",
    "rest_data = user_plan_data_monthly[~user_plan_data_monthly['city'].str.contains('ny|nj')]['monthly_revenue']\n",
    "\n",
    "alpha = 0.05\n",
    "\n",
    "results = st.ttest_ind(ny_nj_data, rest_data, equal_var=False)\n",
    "\n",
    "print('p-value:', results.pvalue)\n",
    "\n",
    "if results.pvalue < alpha:\n",
    "    print(\"We reject the null hypothesis\")\n",
    "else:\n",
    "    print(\"We can't reject the null hypothesis\")"
   ]
  },
  {
   "cell_type": "markdown",
   "metadata": {},
   "source": [
    "The pvalue is about our alpha target which tells us that we cannot reject our original hypothesis and that we can assume NY and NJ monthly average revenue is reflective of the rest of the country."
   ]
  },
  {
   "cell_type": "markdown",
   "metadata": {},
   "source": [
    "## General conclusion\n",
    "\n",
    "[List your important conclusions in this final section, make sure they cover all those important decisions (assumptions) that you've made and that led you to the way you processed and analyzed the data.]"
   ]
  },
  {
   "cell_type": "markdown",
   "metadata": {},
   "source": [
    "With this project the goal was to take data from 5 datasets conscerning customer behavior for Megaline's offerings. There are 2 plans that users in 2018 could purchase: 1. Surf and, 2. Ultimate. \n",
    "\n",
    "For each plan, we calculated the usage of call minutes, text messages sent, internet used, and overall revenue generate for each plan per month and are able to draw the following conclusions:\n",
    "\n",
    "1. The surf plan has a higher usage overall across all behaviors\n",
    "2. The users of the surf plan are more likely to exceed their month allowances of calls, texts, and internet\n",
    "3. The Ulimate plan generates more income per user on average"
   ]
  },
  {
   "cell_type": "markdown",
   "metadata": {},
   "source": [
    "<div class=\"alert alert-block alert-success\">\n",
    "<b>Overall reviewer's comment v2</b> <a class=\"tocSkip\"></a>\n",
    "\n",
    "Now your project is a true \"A\". Congratulations! \n",
    "    \n",
    "I'm glad to say that your project has been accepted and you can go to the next sprint. \n",
    "</div>"
   ]
  },
  {
   "cell_type": "code",
   "execution_count": null,
   "metadata": {},
   "outputs": [],
   "source": []
  },
  {
   "cell_type": "markdown",
   "metadata": {},
   "source": [
    " "
   ]
  }
 ],
 "metadata": {
  "ExecuteTimeLog": [
   {
    "duration": 828,
    "start_time": "2021-11-16T09:21:11.304Z"
   },
   {
    "duration": 893,
    "start_time": "2021-11-16T09:21:17.728Z"
   },
   {
    "duration": 1150,
    "start_time": "2021-11-16T09:21:29.568Z"
   },
   {
    "duration": 3,
    "start_time": "2021-11-16T09:24:14.495Z"
   },
   {
    "duration": 120,
    "start_time": "2021-11-16T09:24:46.630Z"
   },
   {
    "duration": 3,
    "start_time": "2021-11-16T09:28:27.882Z"
   },
   {
    "duration": 4,
    "start_time": "2021-11-16T09:29:54.281Z"
   },
   {
    "duration": 3,
    "start_time": "2021-11-16T09:30:45.936Z"
   },
   {
    "duration": 4,
    "start_time": "2021-11-16T09:31:06.300Z"
   },
   {
    "duration": 113,
    "start_time": "2021-11-16T09:31:37.208Z"
   },
   {
    "duration": 143,
    "start_time": "2021-11-16T09:31:48.656Z"
   },
   {
    "duration": 98,
    "start_time": "2021-11-16T09:31:55.678Z"
   },
   {
    "duration": 3,
    "start_time": "2021-11-16T09:32:08.535Z"
   },
   {
    "duration": 111,
    "start_time": "2021-11-16T09:32:10.120Z"
   },
   {
    "duration": 3,
    "start_time": "2021-11-16T09:32:15.732Z"
   },
   {
    "duration": 4,
    "start_time": "2021-11-16T09:32:29.423Z"
   },
   {
    "duration": 3,
    "start_time": "2021-11-16T10:03:03.074Z"
   },
   {
    "duration": 3,
    "start_time": "2021-11-16T10:10:01.288Z"
   },
   {
    "duration": 3,
    "start_time": "2021-11-16T10:10:46.923Z"
   },
   {
    "duration": 121,
    "start_time": "2021-11-16T10:37:46.494Z"
   },
   {
    "duration": 125,
    "start_time": "2021-11-16T10:38:20.632Z"
   },
   {
    "duration": 112,
    "start_time": "2021-11-16T10:46:53.001Z"
   },
   {
    "duration": 110,
    "start_time": "2021-11-16T10:48:25.775Z"
   },
   {
    "duration": 3,
    "start_time": "2021-11-16T10:50:18.720Z"
   },
   {
    "duration": 4,
    "start_time": "2021-11-16T10:50:37.649Z"
   },
   {
    "duration": 2,
    "start_time": "2021-11-16T10:50:51.884Z"
   },
   {
    "duration": 3,
    "start_time": "2021-11-16T10:51:56.237Z"
   },
   {
    "duration": 101,
    "start_time": "2021-11-16T10:53:13.791Z"
   },
   {
    "duration": 3,
    "start_time": "2021-11-16T10:55:59.186Z"
   },
   {
    "duration": 3,
    "start_time": "2021-11-16T10:56:10.751Z"
   },
   {
    "duration": 3,
    "start_time": "2021-11-16T10:56:49.038Z"
   },
   {
    "duration": 3,
    "start_time": "2021-11-16T10:56:49.174Z"
   },
   {
    "duration": 4,
    "start_time": "2021-11-16T10:56:49.414Z"
   },
   {
    "duration": 3,
    "start_time": "2021-11-16T10:56:49.680Z"
   },
   {
    "duration": 3,
    "start_time": "2021-11-16T10:56:50.370Z"
   },
   {
    "duration": 114,
    "start_time": "2021-11-16T10:59:34.518Z"
   },
   {
    "duration": 3,
    "start_time": "2021-11-16T11:01:41.201Z"
   },
   {
    "duration": 116,
    "start_time": "2021-11-16T11:01:48.754Z"
   },
   {
    "duration": 3,
    "start_time": "2021-11-16T11:02:16.685Z"
   },
   {
    "duration": 3,
    "start_time": "2021-11-16T11:02:19.479Z"
   },
   {
    "duration": 3,
    "start_time": "2021-11-16T11:02:47.067Z"
   },
   {
    "duration": 3,
    "start_time": "2021-11-16T11:02:49.353Z"
   },
   {
    "duration": 3,
    "start_time": "2021-11-16T11:03:07.835Z"
   },
   {
    "duration": 3,
    "start_time": "2021-11-16T11:03:07.953Z"
   },
   {
    "duration": 112,
    "start_time": "2021-11-16T11:07:52.072Z"
   },
   {
    "duration": 187,
    "start_time": "2021-11-16T11:09:23.468Z"
   },
   {
    "duration": 4,
    "start_time": "2021-11-16T11:10:01.455Z"
   },
   {
    "duration": 3,
    "start_time": "2021-11-16T11:10:05.069Z"
   },
   {
    "duration": 4,
    "start_time": "2021-11-16T11:10:13.376Z"
   },
   {
    "duration": 3,
    "start_time": "2021-11-16T11:10:14.434Z"
   },
   {
    "duration": 3,
    "start_time": "2021-11-16T11:10:22.853Z"
   },
   {
    "duration": 4,
    "start_time": "2021-11-16T11:27:29.279Z"
   },
   {
    "duration": 4,
    "start_time": "2021-11-16T11:29:08.919Z"
   },
   {
    "duration": 118,
    "start_time": "2021-11-16T11:29:46.703Z"
   },
   {
    "duration": 437,
    "start_time": "2021-11-16T11:36:02.181Z"
   },
   {
    "duration": 157,
    "start_time": "2021-11-16T11:36:14.388Z"
   },
   {
    "duration": 207,
    "start_time": "2021-11-16T11:47:15.898Z"
   },
   {
    "duration": 3,
    "start_time": "2021-11-16T11:53:52.092Z"
   },
   {
    "duration": 3,
    "start_time": "2021-11-16T11:53:52.236Z"
   },
   {
    "duration": 3,
    "start_time": "2021-11-16T11:59:12.005Z"
   },
   {
    "duration": 112,
    "start_time": "2021-11-16T12:00:33.446Z"
   },
   {
    "duration": 3,
    "start_time": "2021-11-16T12:02:14.453Z"
   },
   {
    "duration": 3,
    "start_time": "2021-11-16T12:02:39.512Z"
   },
   {
    "duration": 106,
    "start_time": "2021-11-16T12:03:03.460Z"
   },
   {
    "duration": 3,
    "start_time": "2021-11-17T20:37:21.139Z"
   },
   {
    "duration": 3,
    "start_time": "2021-11-17T20:37:22.229Z"
   },
   {
    "duration": 3,
    "start_time": "2021-11-17T20:38:38.806Z"
   },
   {
    "duration": 3,
    "start_time": "2021-11-17T20:38:41.958Z"
   },
   {
    "duration": 3,
    "start_time": "2021-11-17T20:43:46.551Z"
   },
   {
    "duration": 4,
    "start_time": "2021-11-17T20:58:21.835Z"
   },
   {
    "duration": 3,
    "start_time": "2021-11-17T20:59:21.872Z"
   },
   {
    "duration": 4,
    "start_time": "2021-11-17T20:59:45.352Z"
   },
   {
    "duration": 4,
    "start_time": "2021-11-17T20:59:49.646Z"
   },
   {
    "duration": 159,
    "start_time": "2021-11-17T21:02:26.949Z"
   },
   {
    "duration": 3,
    "start_time": "2021-11-17T21:03:53.461Z"
   },
   {
    "duration": 3,
    "start_time": "2021-11-17T21:03:53.694Z"
   },
   {
    "duration": 3,
    "start_time": "2021-11-17T21:05:28.145Z"
   },
   {
    "duration": 116,
    "start_time": "2021-11-17T21:05:57.787Z"
   },
   {
    "duration": 3,
    "start_time": "2021-11-17T21:06:37.993Z"
   },
   {
    "duration": 3,
    "start_time": "2021-11-17T21:06:38.261Z"
   },
   {
    "duration": 3,
    "start_time": "2021-11-17T21:11:54.358Z"
   },
   {
    "duration": 3,
    "start_time": "2021-11-17T21:12:43.846Z"
   },
   {
    "duration": 4,
    "start_time": "2021-11-17T21:13:08.773Z"
   },
   {
    "duration": 3,
    "start_time": "2021-11-17T21:14:44.441Z"
   },
   {
    "duration": 3,
    "start_time": "2021-11-17T21:15:42.059Z"
   },
   {
    "duration": 4,
    "start_time": "2021-11-17T21:15:51.995Z"
   },
   {
    "duration": 3,
    "start_time": "2021-11-17T21:15:53.923Z"
   },
   {
    "duration": 3,
    "start_time": "2021-11-17T21:15:55.282Z"
   },
   {
    "duration": 3,
    "start_time": "2021-11-17T21:16:28.492Z"
   },
   {
    "duration": 3,
    "start_time": "2021-11-17T21:16:32.603Z"
   },
   {
    "duration": 3,
    "start_time": "2021-11-17T21:17:06.941Z"
   },
   {
    "duration": 98,
    "start_time": "2021-11-17T21:18:05.733Z"
   },
   {
    "duration": 4,
    "start_time": "2021-11-17T21:21:35.255Z"
   },
   {
    "duration": 3,
    "start_time": "2021-11-17T21:21:37.804Z"
   },
   {
    "duration": 4,
    "start_time": "2021-11-17T21:23:06.071Z"
   },
   {
    "duration": 3,
    "start_time": "2021-11-17T21:23:24.799Z"
   },
   {
    "duration": 3,
    "start_time": "2021-11-17T21:23:32.591Z"
   },
   {
    "duration": 98,
    "start_time": "2021-11-17T21:28:31.559Z"
   },
   {
    "duration": 3,
    "start_time": "2021-11-17T21:28:45.448Z"
   },
   {
    "duration": 3,
    "start_time": "2021-11-17T21:29:17.303Z"
   },
   {
    "duration": 3,
    "start_time": "2021-11-17T21:29:29.617Z"
   },
   {
    "duration": 3,
    "start_time": "2021-11-17T21:29:32.681Z"
   },
   {
    "duration": 3,
    "start_time": "2021-11-17T21:36:11.474Z"
   },
   {
    "duration": 3,
    "start_time": "2021-11-17T21:36:14.791Z"
   },
   {
    "duration": 3,
    "start_time": "2021-11-17T21:36:53.943Z"
   },
   {
    "duration": 3,
    "start_time": "2021-11-17T21:36:56.165Z"
   },
   {
    "duration": 4,
    "start_time": "2021-11-17T21:37:16.590Z"
   },
   {
    "duration": 3,
    "start_time": "2021-11-17T21:37:22.702Z"
   },
   {
    "duration": 4,
    "start_time": "2021-11-17T21:38:03.479Z"
   },
   {
    "duration": 3,
    "start_time": "2021-11-17T21:38:08.601Z"
   },
   {
    "duration": 3,
    "start_time": "2021-11-17T21:38:12.928Z"
   },
   {
    "duration": 3,
    "start_time": "2021-11-17T21:38:48.896Z"
   },
   {
    "duration": 2,
    "start_time": "2021-11-17T21:38:49.171Z"
   },
   {
    "duration": 4,
    "start_time": "2021-11-17T21:39:57.889Z"
   },
   {
    "duration": 3,
    "start_time": "2021-11-17T21:39:58.057Z"
   },
   {
    "duration": 3,
    "start_time": "2021-11-17T21:41:20.108Z"
   },
   {
    "duration": 3,
    "start_time": "2021-11-17T21:41:20.629Z"
   },
   {
    "duration": 3,
    "start_time": "2021-11-17T21:42:49.136Z"
   },
   {
    "duration": 3,
    "start_time": "2021-11-17T21:43:15.137Z"
   },
   {
    "duration": 4,
    "start_time": "2021-11-17T21:43:16.766Z"
   },
   {
    "duration": 4,
    "start_time": "2021-11-17T21:43:31.711Z"
   },
   {
    "duration": 3,
    "start_time": "2021-11-17T21:43:36.312Z"
   },
   {
    "duration": 4,
    "start_time": "2021-11-17T21:45:08.825Z"
   },
   {
    "duration": 4,
    "start_time": "2021-11-17T21:45:10.119Z"
   },
   {
    "duration": 4,
    "start_time": "2021-11-17T21:45:13.748Z"
   },
   {
    "duration": 3,
    "start_time": "2021-11-17T21:45:22.219Z"
   },
   {
    "duration": 3,
    "start_time": "2021-11-17T21:45:33.412Z"
   },
   {
    "duration": 2,
    "start_time": "2021-11-17T21:46:01.885Z"
   },
   {
    "duration": 3,
    "start_time": "2021-11-17T21:46:03.628Z"
   },
   {
    "duration": 107,
    "start_time": "2021-11-17T21:47:32.512Z"
   },
   {
    "duration": 103,
    "start_time": "2021-11-17T21:50:36.243Z"
   },
   {
    "duration": 3,
    "start_time": "2021-11-18T06:28:31.440Z"
   },
   {
    "duration": 3,
    "start_time": "2021-11-18T06:29:00.168Z"
   },
   {
    "duration": 3,
    "start_time": "2021-11-18T06:31:27.008Z"
   },
   {
    "duration": 2,
    "start_time": "2021-11-18T06:35:34.288Z"
   },
   {
    "duration": 2,
    "start_time": "2021-11-18T06:38:04.527Z"
   },
   {
    "duration": 933,
    "start_time": "2024-05-20T18:51:35.511Z"
   },
   {
    "duration": 145,
    "start_time": "2024-05-20T18:53:49.221Z"
   },
   {
    "duration": 368,
    "start_time": "2024-05-20T18:56:25.149Z"
   },
   {
    "duration": 23,
    "start_time": "2024-05-20T18:58:15.525Z"
   },
   {
    "duration": 30,
    "start_time": "2024-05-20T19:00:01.224Z"
   },
   {
    "duration": 13,
    "start_time": "2024-05-20T19:01:33.618Z"
   },
   {
    "duration": 14,
    "start_time": "2024-05-20T19:01:44.133Z"
   },
   {
    "duration": 30,
    "start_time": "2024-05-20T19:05:52.712Z"
   },
   {
    "duration": 7,
    "start_time": "2024-05-20T19:09:46.090Z"
   },
   {
    "duration": 18,
    "start_time": "2024-05-20T19:10:40.079Z"
   },
   {
    "duration": 24,
    "start_time": "2024-05-20T19:11:40.971Z"
   },
   {
    "duration": 75,
    "start_time": "2024-05-20T19:11:53.957Z"
   },
   {
    "duration": 20,
    "start_time": "2024-05-20T19:18:24.482Z"
   },
   {
    "duration": 15,
    "start_time": "2024-05-20T19:20:39.580Z"
   },
   {
    "duration": 10,
    "start_time": "2024-05-20T19:29:34.432Z"
   },
   {
    "duration": 5,
    "start_time": "2024-05-20T19:32:07.756Z"
   },
   {
    "duration": 8,
    "start_time": "2024-05-20T19:33:02.722Z"
   },
   {
    "duration": 1182,
    "start_time": "2024-05-20T19:34:22.488Z"
   },
   {
    "duration": 5,
    "start_time": "2024-05-20T19:34:35.962Z"
   },
   {
    "duration": 5,
    "start_time": "2024-05-20T19:35:30.305Z"
   },
   {
    "duration": 9,
    "start_time": "2024-05-20T19:35:34.118Z"
   },
   {
    "duration": 350,
    "start_time": "2024-05-20T19:37:51.987Z"
   },
   {
    "duration": 6,
    "start_time": "2024-05-20T19:38:20.088Z"
   },
   {
    "duration": 176,
    "start_time": "2024-05-20T19:38:45.676Z"
   },
   {
    "duration": 5,
    "start_time": "2024-05-20T19:39:13.776Z"
   },
   {
    "duration": 158,
    "start_time": "2024-05-20T19:39:17.829Z"
   },
   {
    "duration": 6,
    "start_time": "2024-05-20T19:39:41.216Z"
   },
   {
    "duration": 8,
    "start_time": "2024-05-20T19:41:23.347Z"
   },
   {
    "duration": 137,
    "start_time": "2024-05-20T19:42:27.949Z"
   },
   {
    "duration": 20,
    "start_time": "2024-05-20T19:44:13.208Z"
   },
   {
    "duration": 5,
    "start_time": "2024-05-20T19:44:42.955Z"
   },
   {
    "duration": 22,
    "start_time": "2024-05-20T19:44:45.637Z"
   },
   {
    "duration": 5,
    "start_time": "2024-05-20T19:45:33.957Z"
   },
   {
    "duration": 21,
    "start_time": "2024-05-20T19:45:37.823Z"
   },
   {
    "duration": 311,
    "start_time": "2024-05-21T16:31:36.713Z"
   },
   {
    "duration": 901,
    "start_time": "2024-05-21T16:31:57.273Z"
   },
   {
    "duration": 415,
    "start_time": "2024-05-21T16:31:58.177Z"
   },
   {
    "duration": 39,
    "start_time": "2024-05-21T16:31:58.595Z"
   },
   {
    "duration": 16,
    "start_time": "2024-05-21T16:31:58.640Z"
   },
   {
    "duration": 74,
    "start_time": "2024-05-21T16:31:58.659Z"
   },
   {
    "duration": 16,
    "start_time": "2024-05-21T16:31:58.738Z"
   },
   {
    "duration": 16,
    "start_time": "2024-05-21T16:31:58.757Z"
   },
   {
    "duration": 5,
    "start_time": "2024-05-21T16:31:58.776Z"
   },
   {
    "duration": 54,
    "start_time": "2024-05-21T16:31:58.784Z"
   },
   {
    "duration": 4,
    "start_time": "2024-05-21T16:31:58.846Z"
   },
   {
    "duration": 6,
    "start_time": "2024-05-21T16:31:58.853Z"
   },
   {
    "duration": 6,
    "start_time": "2024-05-21T16:31:58.862Z"
   },
   {
    "duration": 60,
    "start_time": "2024-05-21T16:31:58.871Z"
   },
   {
    "duration": 17,
    "start_time": "2024-05-21T16:31:58.935Z"
   },
   {
    "duration": 25,
    "start_time": "2024-05-21T16:31:58.956Z"
   },
   {
    "duration": 46,
    "start_time": "2024-05-21T16:31:58.984Z"
   },
   {
    "duration": 3,
    "start_time": "2024-05-21T16:31:59.033Z"
   },
   {
    "duration": 4,
    "start_time": "2024-05-21T16:31:59.039Z"
   },
   {
    "duration": 4,
    "start_time": "2024-05-21T16:31:59.045Z"
   },
   {
    "duration": 4,
    "start_time": "2024-05-21T16:31:59.052Z"
   },
   {
    "duration": 4,
    "start_time": "2024-05-21T16:31:59.059Z"
   },
   {
    "duration": 4,
    "start_time": "2024-05-21T16:31:59.066Z"
   },
   {
    "duration": 60,
    "start_time": "2024-05-21T16:31:59.073Z"
   },
   {
    "duration": 4,
    "start_time": "2024-05-21T16:31:59.136Z"
   },
   {
    "duration": 4,
    "start_time": "2024-05-21T16:31:59.143Z"
   },
   {
    "duration": 3,
    "start_time": "2024-05-21T16:31:59.150Z"
   },
   {
    "duration": 4,
    "start_time": "2024-05-21T16:31:59.156Z"
   },
   {
    "duration": 3,
    "start_time": "2024-05-21T16:31:59.167Z"
   },
   {
    "duration": 59,
    "start_time": "2024-05-21T16:31:59.173Z"
   },
   {
    "duration": 4,
    "start_time": "2024-05-21T16:31:59.235Z"
   },
   {
    "duration": 3,
    "start_time": "2024-05-21T16:31:59.242Z"
   },
   {
    "duration": 4,
    "start_time": "2024-05-21T16:31:59.248Z"
   },
   {
    "duration": 4,
    "start_time": "2024-05-21T16:31:59.255Z"
   },
   {
    "duration": 3,
    "start_time": "2024-05-21T16:31:59.262Z"
   },
   {
    "duration": 4,
    "start_time": "2024-05-21T16:31:59.269Z"
   },
   {
    "duration": 4,
    "start_time": "2024-05-21T16:31:59.332Z"
   },
   {
    "duration": 16,
    "start_time": "2024-05-21T16:32:24.501Z"
   },
   {
    "duration": 56,
    "start_time": "2024-05-21T16:33:35.990Z"
   },
   {
    "duration": 1301,
    "start_time": "2024-05-21T16:35:07.261Z"
   },
   {
    "duration": 29,
    "start_time": "2024-05-21T16:35:15.426Z"
   },
   {
    "duration": 22,
    "start_time": "2024-05-21T16:35:30.487Z"
   },
   {
    "duration": 12,
    "start_time": "2024-05-21T16:36:23.607Z"
   },
   {
    "duration": 31,
    "start_time": "2024-05-21T16:37:21.050Z"
   },
   {
    "duration": 20,
    "start_time": "2024-05-21T16:39:22.347Z"
   },
   {
    "duration": 22,
    "start_time": "2024-05-21T16:40:09.438Z"
   },
   {
    "duration": 16,
    "start_time": "2024-05-21T16:40:40.935Z"
   },
   {
    "duration": 68,
    "start_time": "2024-05-21T16:41:46.155Z"
   },
   {
    "duration": 6,
    "start_time": "2024-05-21T16:42:38.573Z"
   },
   {
    "duration": 47,
    "start_time": "2024-05-21T16:42:43.869Z"
   },
   {
    "duration": 29,
    "start_time": "2024-05-21T16:43:04.543Z"
   },
   {
    "duration": 24,
    "start_time": "2024-05-21T16:53:34.203Z"
   },
   {
    "duration": 24,
    "start_time": "2024-05-21T16:55:39.292Z"
   },
   {
    "duration": 521,
    "start_time": "2024-05-21T16:55:55.104Z"
   },
   {
    "duration": 17,
    "start_time": "2024-05-21T16:56:26.969Z"
   },
   {
    "duration": 18,
    "start_time": "2024-05-21T16:58:09.213Z"
   },
   {
    "duration": 18,
    "start_time": "2024-05-21T16:58:30.374Z"
   },
   {
    "duration": 18,
    "start_time": "2024-05-21T16:59:08.656Z"
   },
   {
    "duration": 5,
    "start_time": "2024-05-21T17:00:54.908Z"
   },
   {
    "duration": 4,
    "start_time": "2024-05-21T17:01:10.953Z"
   },
   {
    "duration": 6,
    "start_time": "2024-05-21T17:01:30.723Z"
   },
   {
    "duration": 23,
    "start_time": "2024-05-21T17:01:36.136Z"
   },
   {
    "duration": 21,
    "start_time": "2024-05-21T17:27:42.534Z"
   },
   {
    "duration": 4,
    "start_time": "2024-05-21T17:30:46.673Z"
   },
   {
    "duration": 29,
    "start_time": "2024-05-21T17:32:55.891Z"
   },
   {
    "duration": 20,
    "start_time": "2024-05-21T17:33:04.618Z"
   },
   {
    "duration": 18,
    "start_time": "2024-05-21T17:33:05.886Z"
   },
   {
    "duration": 3,
    "start_time": "2024-05-21T17:34:56.168Z"
   },
   {
    "duration": 6,
    "start_time": "2024-05-21T17:34:56.902Z"
   },
   {
    "duration": 19,
    "start_time": "2024-05-21T17:35:04.853Z"
   },
   {
    "duration": 16,
    "start_time": "2024-05-21T17:35:06.454Z"
   },
   {
    "duration": 26,
    "start_time": "2024-05-21T17:36:40.985Z"
   },
   {
    "duration": 15,
    "start_time": "2024-05-21T17:36:45.240Z"
   },
   {
    "duration": 24,
    "start_time": "2024-05-21T17:40:07.675Z"
   },
   {
    "duration": 12,
    "start_time": "2024-05-21T17:40:46.165Z"
   },
   {
    "duration": 18,
    "start_time": "2024-05-21T17:42:22.464Z"
   },
   {
    "duration": 270,
    "start_time": "2024-05-21T17:43:33.645Z"
   },
   {
    "duration": 10,
    "start_time": "2024-05-21T17:43:44.226Z"
   },
   {
    "duration": 256,
    "start_time": "2024-05-21T17:44:09.199Z"
   },
   {
    "duration": 31,
    "start_time": "2024-05-21T17:44:33.666Z"
   },
   {
    "duration": 16,
    "start_time": "2024-05-21T17:44:58.948Z"
   },
   {
    "duration": 287,
    "start_time": "2024-05-21T17:45:15.718Z"
   },
   {
    "duration": 12,
    "start_time": "2024-05-21T17:45:16.813Z"
   },
   {
    "duration": 14,
    "start_time": "2024-05-21T17:45:26.277Z"
   },
   {
    "duration": 6,
    "start_time": "2024-05-21T17:45:27.434Z"
   },
   {
    "duration": 4,
    "start_time": "2024-05-21T17:45:41.204Z"
   },
   {
    "duration": 6,
    "start_time": "2024-05-21T17:45:41.949Z"
   },
   {
    "duration": 300,
    "start_time": "2024-05-21T17:46:04.230Z"
   },
   {
    "duration": 15,
    "start_time": "2024-05-21T17:46:04.534Z"
   },
   {
    "duration": 12,
    "start_time": "2024-05-21T17:48:24.035Z"
   },
   {
    "duration": 16,
    "start_time": "2024-05-21T17:48:25.391Z"
   },
   {
    "duration": 13,
    "start_time": "2024-05-21T17:49:25.380Z"
   },
   {
    "duration": 19,
    "start_time": "2024-05-21T17:49:25.902Z"
   },
   {
    "duration": 17,
    "start_time": "2024-05-21T17:57:28.491Z"
   },
   {
    "duration": 14,
    "start_time": "2024-05-21T18:00:20.015Z"
   },
   {
    "duration": 21,
    "start_time": "2024-05-21T18:00:35.215Z"
   },
   {
    "duration": 18,
    "start_time": "2024-05-21T18:04:45.089Z"
   },
   {
    "duration": 15,
    "start_time": "2024-05-21T18:05:00.275Z"
   },
   {
    "duration": 24,
    "start_time": "2024-05-21T18:12:27.039Z"
   },
   {
    "duration": 24,
    "start_time": "2024-05-21T18:13:16.336Z"
   },
   {
    "duration": 43,
    "start_time": "2024-05-21T18:13:40.550Z"
   },
   {
    "duration": 873,
    "start_time": "2024-05-21T18:13:58.903Z"
   },
   {
    "duration": 941,
    "start_time": "2024-05-21T18:14:13.588Z"
   },
   {
    "duration": 944,
    "start_time": "2024-05-21T18:14:20.629Z"
   },
   {
    "duration": 311,
    "start_time": "2024-05-21T18:17:26.052Z"
   },
   {
    "duration": 1013,
    "start_time": "2024-05-21T18:17:35.501Z"
   },
   {
    "duration": 385,
    "start_time": "2024-05-21T18:17:36.518Z"
   },
   {
    "duration": 45,
    "start_time": "2024-05-21T18:17:36.906Z"
   },
   {
    "duration": 15,
    "start_time": "2024-05-21T18:17:36.957Z"
   },
   {
    "duration": 69,
    "start_time": "2024-05-21T18:17:36.975Z"
   },
   {
    "duration": 17,
    "start_time": "2024-05-21T18:17:37.047Z"
   },
   {
    "duration": 17,
    "start_time": "2024-05-21T18:17:37.066Z"
   },
   {
    "duration": 5,
    "start_time": "2024-05-21T18:17:37.086Z"
   },
   {
    "duration": 43,
    "start_time": "2024-05-21T18:17:37.093Z"
   },
   {
    "duration": 5,
    "start_time": "2024-05-21T18:17:37.143Z"
   },
   {
    "duration": 5,
    "start_time": "2024-05-21T18:17:37.151Z"
   },
   {
    "duration": 6,
    "start_time": "2024-05-21T18:17:37.159Z"
   },
   {
    "duration": 6,
    "start_time": "2024-05-21T18:17:37.168Z"
   },
   {
    "duration": 16,
    "start_time": "2024-05-21T18:17:37.232Z"
   },
   {
    "duration": 29,
    "start_time": "2024-05-21T18:17:37.251Z"
   },
   {
    "duration": 56,
    "start_time": "2024-05-21T18:17:37.283Z"
   },
   {
    "duration": 58,
    "start_time": "2024-05-21T18:17:37.342Z"
   },
   {
    "duration": 51,
    "start_time": "2024-05-21T18:17:37.403Z"
   },
   {
    "duration": 22,
    "start_time": "2024-05-21T18:17:37.456Z"
   },
   {
    "duration": 13,
    "start_time": "2024-05-21T18:17:37.480Z"
   },
   {
    "duration": 30,
    "start_time": "2024-05-21T18:17:37.531Z"
   },
   {
    "duration": 19,
    "start_time": "2024-05-21T18:17:37.566Z"
   },
   {
    "duration": 59,
    "start_time": "2024-05-21T18:17:37.588Z"
   },
   {
    "duration": 15,
    "start_time": "2024-05-21T18:17:37.650Z"
   },
   {
    "duration": 105,
    "start_time": "2024-05-21T18:17:37.668Z"
   },
   {
    "duration": 24,
    "start_time": "2024-05-21T18:17:37.777Z"
   },
   {
    "duration": 26,
    "start_time": "2024-05-21T18:17:37.804Z"
   },
   {
    "duration": 27,
    "start_time": "2024-05-21T18:17:37.840Z"
   },
   {
    "duration": 17,
    "start_time": "2024-05-21T18:17:37.870Z"
   },
   {
    "duration": 60,
    "start_time": "2024-05-21T18:17:37.891Z"
   },
   {
    "duration": 21,
    "start_time": "2024-05-21T18:17:37.954Z"
   },
   {
    "duration": 15,
    "start_time": "2024-05-21T18:17:37.978Z"
   },
   {
    "duration": 23,
    "start_time": "2024-05-21T18:17:38.031Z"
   },
   {
    "duration": 21,
    "start_time": "2024-05-21T18:17:38.060Z"
   },
   {
    "duration": 47,
    "start_time": "2024-05-21T18:17:38.084Z"
   },
   {
    "duration": 20,
    "start_time": "2024-05-21T18:17:38.134Z"
   },
   {
    "duration": 15,
    "start_time": "2024-05-21T18:17:38.157Z"
   },
   {
    "duration": 57,
    "start_time": "2024-05-21T18:17:38.174Z"
   },
   {
    "duration": 14,
    "start_time": "2024-05-21T18:17:38.235Z"
   },
   {
    "duration": 22,
    "start_time": "2024-05-21T18:17:38.252Z"
   },
   {
    "duration": 55,
    "start_time": "2024-05-21T18:17:38.277Z"
   },
   {
    "duration": 15,
    "start_time": "2024-05-21T18:17:38.334Z"
   },
   {
    "duration": 1022,
    "start_time": "2024-05-21T18:17:38.352Z"
   },
   {
    "duration": 944,
    "start_time": "2024-05-21T18:17:52.772Z"
   },
   {
    "duration": 368,
    "start_time": "2024-05-21T18:17:53.719Z"
   },
   {
    "duration": 43,
    "start_time": "2024-05-21T18:17:54.089Z"
   },
   {
    "duration": 14,
    "start_time": "2024-05-21T18:17:54.136Z"
   },
   {
    "duration": 30,
    "start_time": "2024-05-21T18:17:54.154Z"
   },
   {
    "duration": 57,
    "start_time": "2024-05-21T18:17:54.186Z"
   },
   {
    "duration": 15,
    "start_time": "2024-05-21T18:17:54.246Z"
   },
   {
    "duration": 5,
    "start_time": "2024-05-21T18:17:54.264Z"
   },
   {
    "duration": 9,
    "start_time": "2024-05-21T18:17:54.273Z"
   },
   {
    "duration": 6,
    "start_time": "2024-05-21T18:17:54.334Z"
   },
   {
    "duration": 5,
    "start_time": "2024-05-21T18:17:54.347Z"
   },
   {
    "duration": 6,
    "start_time": "2024-05-21T18:17:54.355Z"
   },
   {
    "duration": 5,
    "start_time": "2024-05-21T18:17:54.364Z"
   },
   {
    "duration": 60,
    "start_time": "2024-05-21T18:17:54.373Z"
   },
   {
    "duration": 23,
    "start_time": "2024-05-21T18:17:54.437Z"
   },
   {
    "duration": 19,
    "start_time": "2024-05-21T18:17:54.463Z"
   },
   {
    "duration": 93,
    "start_time": "2024-05-21T18:17:54.485Z"
   },
   {
    "duration": 50,
    "start_time": "2024-05-21T18:17:54.580Z"
   },
   {
    "duration": 19,
    "start_time": "2024-05-21T18:17:54.633Z"
   },
   {
    "duration": 15,
    "start_time": "2024-05-21T18:17:54.656Z"
   },
   {
    "duration": 72,
    "start_time": "2024-05-21T18:17:54.675Z"
   },
   {
    "duration": 23,
    "start_time": "2024-05-21T18:17:54.750Z"
   },
   {
    "duration": 54,
    "start_time": "2024-05-21T18:17:54.776Z"
   },
   {
    "duration": 16,
    "start_time": "2024-05-21T18:17:54.833Z"
   },
   {
    "duration": 101,
    "start_time": "2024-05-21T18:17:54.853Z"
   },
   {
    "duration": 24,
    "start_time": "2024-05-21T18:17:54.957Z"
   },
   {
    "duration": 3,
    "start_time": "2024-05-21T18:17:54.985Z"
   },
   {
    "duration": 54,
    "start_time": "2024-05-21T18:17:54.996Z"
   },
   {
    "duration": 18,
    "start_time": "2024-05-21T18:17:55.053Z"
   },
   {
    "duration": 22,
    "start_time": "2024-05-21T18:17:55.075Z"
   },
   {
    "duration": 19,
    "start_time": "2024-05-21T18:17:55.131Z"
   },
   {
    "duration": 16,
    "start_time": "2024-05-21T18:17:55.152Z"
   },
   {
    "duration": 19,
    "start_time": "2024-05-21T18:17:55.172Z"
   },
   {
    "duration": 16,
    "start_time": "2024-05-21T18:17:55.232Z"
   },
   {
    "duration": 13,
    "start_time": "2024-05-21T18:17:55.251Z"
   },
   {
    "duration": 18,
    "start_time": "2024-05-21T18:17:55.270Z"
   },
   {
    "duration": 13,
    "start_time": "2024-05-21T18:17:55.331Z"
   },
   {
    "duration": 16,
    "start_time": "2024-05-21T18:17:55.347Z"
   },
   {
    "duration": 14,
    "start_time": "2024-05-21T18:17:55.366Z"
   },
   {
    "duration": 60,
    "start_time": "2024-05-21T18:17:55.384Z"
   },
   {
    "duration": 14,
    "start_time": "2024-05-21T18:17:55.447Z"
   },
   {
    "duration": 17,
    "start_time": "2024-05-21T18:17:55.466Z"
   },
   {
    "duration": 1050,
    "start_time": "2024-05-21T18:17:55.486Z"
   },
   {
    "duration": 354,
    "start_time": "2024-05-21T18:18:10.065Z"
   },
   {
    "duration": 1016,
    "start_time": "2024-05-21T18:18:41.540Z"
   },
   {
    "duration": 394,
    "start_time": "2024-05-21T18:18:42.559Z"
   },
   {
    "duration": 33,
    "start_time": "2024-05-21T18:18:42.955Z"
   },
   {
    "duration": 39,
    "start_time": "2024-05-21T18:18:42.992Z"
   },
   {
    "duration": 31,
    "start_time": "2024-05-21T18:18:43.034Z"
   },
   {
    "duration": 15,
    "start_time": "2024-05-21T18:18:43.069Z"
   },
   {
    "duration": 54,
    "start_time": "2024-05-21T18:18:43.087Z"
   },
   {
    "duration": 5,
    "start_time": "2024-05-21T18:18:43.145Z"
   },
   {
    "duration": 9,
    "start_time": "2024-05-21T18:18:43.153Z"
   },
   {
    "duration": 5,
    "start_time": "2024-05-21T18:18:43.168Z"
   },
   {
    "duration": 55,
    "start_time": "2024-05-21T18:18:43.176Z"
   },
   {
    "duration": 6,
    "start_time": "2024-05-21T18:18:43.235Z"
   },
   {
    "duration": 5,
    "start_time": "2024-05-21T18:18:43.244Z"
   },
   {
    "duration": 18,
    "start_time": "2024-05-21T18:18:43.252Z"
   },
   {
    "duration": 69,
    "start_time": "2024-05-21T18:18:43.273Z"
   },
   {
    "duration": 17,
    "start_time": "2024-05-21T18:18:43.345Z"
   },
   {
    "duration": 105,
    "start_time": "2024-05-21T18:18:43.365Z"
   },
   {
    "duration": 34,
    "start_time": "2024-05-21T18:18:43.475Z"
   },
   {
    "duration": 42,
    "start_time": "2024-05-21T18:18:43.512Z"
   },
   {
    "duration": 14,
    "start_time": "2024-05-21T18:18:43.556Z"
   },
   {
    "duration": 65,
    "start_time": "2024-05-21T18:18:43.573Z"
   },
   {
    "duration": 18,
    "start_time": "2024-05-21T18:18:43.641Z"
   },
   {
    "duration": 24,
    "start_time": "2024-05-21T18:18:43.661Z"
   },
   {
    "duration": 48,
    "start_time": "2024-05-21T18:18:43.689Z"
   },
   {
    "duration": 66,
    "start_time": "2024-05-21T18:18:43.740Z"
   },
   {
    "duration": 23,
    "start_time": "2024-05-21T18:18:43.831Z"
   },
   {
    "duration": 3,
    "start_time": "2024-05-21T18:18:43.857Z"
   },
   {
    "duration": 61,
    "start_time": "2024-05-21T18:18:43.870Z"
   },
   {
    "duration": 17,
    "start_time": "2024-05-21T18:18:43.934Z"
   },
   {
    "duration": 23,
    "start_time": "2024-05-21T18:18:43.954Z"
   },
   {
    "duration": 60,
    "start_time": "2024-05-21T18:18:43.980Z"
   },
   {
    "duration": 21,
    "start_time": "2024-05-21T18:18:44.043Z"
   },
   {
    "duration": 20,
    "start_time": "2024-05-21T18:18:44.067Z"
   },
   {
    "duration": 47,
    "start_time": "2024-05-21T18:18:44.090Z"
   },
   {
    "duration": 12,
    "start_time": "2024-05-21T18:18:44.140Z"
   },
   {
    "duration": 17,
    "start_time": "2024-05-21T18:18:44.155Z"
   },
   {
    "duration": 55,
    "start_time": "2024-05-21T18:18:44.175Z"
   },
   {
    "duration": 18,
    "start_time": "2024-05-21T18:18:44.233Z"
   },
   {
    "duration": 14,
    "start_time": "2024-05-21T18:18:44.254Z"
   },
   {
    "duration": 59,
    "start_time": "2024-05-21T18:18:44.272Z"
   },
   {
    "duration": 15,
    "start_time": "2024-05-21T18:18:44.334Z"
   },
   {
    "duration": 15,
    "start_time": "2024-05-21T18:18:44.352Z"
   },
   {
    "duration": 1062,
    "start_time": "2024-05-21T18:18:44.370Z"
   },
   {
    "duration": 328,
    "start_time": "2024-05-21T18:19:02.228Z"
   },
   {
    "duration": 918,
    "start_time": "2024-05-21T18:19:10.393Z"
   },
   {
    "duration": 396,
    "start_time": "2024-05-21T18:19:11.314Z"
   },
   {
    "duration": 35,
    "start_time": "2024-05-21T18:19:11.712Z"
   },
   {
    "duration": 23,
    "start_time": "2024-05-21T18:19:11.750Z"
   },
   {
    "duration": 65,
    "start_time": "2024-05-21T18:19:11.779Z"
   },
   {
    "duration": 16,
    "start_time": "2024-05-21T18:19:11.848Z"
   },
   {
    "duration": 16,
    "start_time": "2024-05-21T18:19:11.867Z"
   },
   {
    "duration": 44,
    "start_time": "2024-05-21T18:19:11.886Z"
   },
   {
    "duration": 9,
    "start_time": "2024-05-21T18:19:11.933Z"
   },
   {
    "duration": 6,
    "start_time": "2024-05-21T18:19:11.945Z"
   },
   {
    "duration": 5,
    "start_time": "2024-05-21T18:19:11.954Z"
   },
   {
    "duration": 6,
    "start_time": "2024-05-21T18:19:11.963Z"
   },
   {
    "duration": 58,
    "start_time": "2024-05-21T18:19:11.974Z"
   },
   {
    "duration": 20,
    "start_time": "2024-05-21T18:19:12.044Z"
   },
   {
    "duration": 65,
    "start_time": "2024-05-21T18:19:12.067Z"
   },
   {
    "duration": 20,
    "start_time": "2024-05-21T18:19:12.135Z"
   },
   {
    "duration": 89,
    "start_time": "2024-05-21T18:19:12.158Z"
   },
   {
    "duration": 30,
    "start_time": "2024-05-21T18:19:12.250Z"
   },
   {
    "duration": 53,
    "start_time": "2024-05-21T18:19:12.283Z"
   },
   {
    "duration": 16,
    "start_time": "2024-05-21T18:19:12.339Z"
   },
   {
    "duration": 38,
    "start_time": "2024-05-21T18:19:12.359Z"
   },
   {
    "duration": 22,
    "start_time": "2024-05-21T18:19:12.431Z"
   },
   {
    "duration": 24,
    "start_time": "2024-05-21T18:19:12.455Z"
   },
   {
    "duration": 15,
    "start_time": "2024-05-21T18:19:12.482Z"
   },
   {
    "duration": 67,
    "start_time": "2024-05-21T18:19:12.532Z"
   },
   {
    "duration": 25,
    "start_time": "2024-05-21T18:19:12.630Z"
   },
   {
    "duration": 4,
    "start_time": "2024-05-21T18:19:12.657Z"
   },
   {
    "duration": 26,
    "start_time": "2024-05-21T18:19:12.664Z"
   },
   {
    "duration": 46,
    "start_time": "2024-05-21T18:19:12.693Z"
   },
   {
    "duration": 23,
    "start_time": "2024-05-21T18:19:12.742Z"
   },
   {
    "duration": 20,
    "start_time": "2024-05-21T18:19:12.769Z"
   },
   {
    "duration": 60,
    "start_time": "2024-05-21T18:19:12.792Z"
   },
   {
    "duration": 21,
    "start_time": "2024-05-21T18:19:12.854Z"
   },
   {
    "duration": 15,
    "start_time": "2024-05-21T18:19:12.877Z"
   },
   {
    "duration": 13,
    "start_time": "2024-05-21T18:19:12.932Z"
   },
   {
    "duration": 17,
    "start_time": "2024-05-21T18:19:12.947Z"
   },
   {
    "duration": 15,
    "start_time": "2024-05-21T18:19:12.967Z"
   },
   {
    "duration": 61,
    "start_time": "2024-05-21T18:19:12.985Z"
   },
   {
    "duration": 14,
    "start_time": "2024-05-21T18:19:13.048Z"
   },
   {
    "duration": 21,
    "start_time": "2024-05-21T18:19:13.066Z"
   },
   {
    "duration": 16,
    "start_time": "2024-05-21T18:19:13.135Z"
   },
   {
    "duration": 16,
    "start_time": "2024-05-21T18:19:13.153Z"
   },
   {
    "duration": 1087,
    "start_time": "2024-05-21T18:19:13.172Z"
   },
   {
    "duration": 991,
    "start_time": "2024-05-21T18:19:54.045Z"
   },
   {
    "duration": 396,
    "start_time": "2024-05-21T18:19:55.039Z"
   },
   {
    "duration": 37,
    "start_time": "2024-05-21T18:19:55.438Z"
   },
   {
    "duration": 51,
    "start_time": "2024-05-21T18:19:55.480Z"
   },
   {
    "duration": 31,
    "start_time": "2024-05-21T18:19:55.534Z"
   },
   {
    "duration": 20,
    "start_time": "2024-05-21T18:19:55.568Z"
   },
   {
    "duration": 45,
    "start_time": "2024-05-21T18:19:55.591Z"
   },
   {
    "duration": 4,
    "start_time": "2024-05-21T18:19:55.640Z"
   },
   {
    "duration": 9,
    "start_time": "2024-05-21T18:19:55.647Z"
   },
   {
    "duration": 5,
    "start_time": "2024-05-21T18:19:55.662Z"
   },
   {
    "duration": 60,
    "start_time": "2024-05-21T18:19:55.670Z"
   },
   {
    "duration": 6,
    "start_time": "2024-05-21T18:19:55.733Z"
   },
   {
    "duration": 5,
    "start_time": "2024-05-21T18:19:55.742Z"
   },
   {
    "duration": 16,
    "start_time": "2024-05-21T18:19:55.750Z"
   },
   {
    "duration": 72,
    "start_time": "2024-05-21T18:19:55.769Z"
   },
   {
    "duration": 20,
    "start_time": "2024-05-21T18:19:55.844Z"
   },
   {
    "duration": 100,
    "start_time": "2024-05-21T18:19:55.868Z"
   },
   {
    "duration": 27,
    "start_time": "2024-05-21T18:19:55.970Z"
   },
   {
    "duration": 39,
    "start_time": "2024-05-21T18:19:56.000Z"
   },
   {
    "duration": 15,
    "start_time": "2024-05-21T18:19:56.042Z"
   },
   {
    "duration": 31,
    "start_time": "2024-05-21T18:19:56.061Z"
   },
   {
    "duration": 18,
    "start_time": "2024-05-21T18:19:56.131Z"
   },
   {
    "duration": 24,
    "start_time": "2024-05-21T18:19:56.152Z"
   },
   {
    "duration": 52,
    "start_time": "2024-05-21T18:19:56.180Z"
   },
   {
    "duration": 65,
    "start_time": "2024-05-21T18:19:56.235Z"
   },
   {
    "duration": 49,
    "start_time": "2024-05-21T18:19:56.303Z"
   },
   {
    "duration": 4,
    "start_time": "2024-05-21T18:19:56.354Z"
   },
   {
    "duration": 25,
    "start_time": "2024-05-21T18:19:56.366Z"
   },
   {
    "duration": 18,
    "start_time": "2024-05-21T18:19:56.429Z"
   },
   {
    "duration": 24,
    "start_time": "2024-05-21T18:19:56.451Z"
   },
   {
    "duration": 55,
    "start_time": "2024-05-21T18:19:56.478Z"
   },
   {
    "duration": 20,
    "start_time": "2024-05-21T18:19:56.536Z"
   },
   {
    "duration": 21,
    "start_time": "2024-05-21T18:19:56.560Z"
   },
   {
    "duration": 49,
    "start_time": "2024-05-21T18:19:56.583Z"
   },
   {
    "duration": 13,
    "start_time": "2024-05-21T18:19:56.637Z"
   },
   {
    "duration": 17,
    "start_time": "2024-05-21T18:19:56.654Z"
   },
   {
    "duration": 61,
    "start_time": "2024-05-21T18:19:56.674Z"
   },
   {
    "duration": 17,
    "start_time": "2024-05-21T18:19:56.738Z"
   },
   {
    "duration": 15,
    "start_time": "2024-05-21T18:19:56.758Z"
   },
   {
    "duration": 56,
    "start_time": "2024-05-21T18:19:56.776Z"
   },
   {
    "duration": 14,
    "start_time": "2024-05-21T18:19:56.835Z"
   },
   {
    "duration": 17,
    "start_time": "2024-05-21T18:19:56.852Z"
   },
   {
    "duration": 929,
    "start_time": "2024-05-21T18:19:56.873Z"
   },
   {
    "duration": 1137,
    "start_time": "2024-05-21T18:20:20.960Z"
   },
   {
    "duration": 447,
    "start_time": "2024-05-21T18:20:22.100Z"
   },
   {
    "duration": 35,
    "start_time": "2024-05-21T18:20:22.550Z"
   },
   {
    "duration": 14,
    "start_time": "2024-05-21T18:20:22.590Z"
   },
   {
    "duration": 31,
    "start_time": "2024-05-21T18:20:22.631Z"
   },
   {
    "duration": 15,
    "start_time": "2024-05-21T18:20:22.665Z"
   },
   {
    "duration": 48,
    "start_time": "2024-05-21T18:20:22.684Z"
   },
   {
    "duration": 7,
    "start_time": "2024-05-21T18:20:22.736Z"
   },
   {
    "duration": 9,
    "start_time": "2024-05-21T18:20:22.747Z"
   },
   {
    "duration": 5,
    "start_time": "2024-05-21T18:20:22.763Z"
   },
   {
    "duration": 6,
    "start_time": "2024-05-21T18:20:22.771Z"
   },
   {
    "duration": 8,
    "start_time": "2024-05-21T18:20:22.833Z"
   },
   {
    "duration": 5,
    "start_time": "2024-05-21T18:20:22.847Z"
   },
   {
    "duration": 16,
    "start_time": "2024-05-21T18:20:22.855Z"
   },
   {
    "duration": 67,
    "start_time": "2024-05-21T18:20:22.874Z"
   },
   {
    "duration": 18,
    "start_time": "2024-05-21T18:20:22.944Z"
   },
   {
    "duration": 92,
    "start_time": "2024-05-21T18:20:22.965Z"
   },
   {
    "duration": 27,
    "start_time": "2024-05-21T18:20:23.060Z"
   },
   {
    "duration": 45,
    "start_time": "2024-05-21T18:20:23.090Z"
   },
   {
    "duration": 14,
    "start_time": "2024-05-21T18:20:23.138Z"
   },
   {
    "duration": 31,
    "start_time": "2024-05-21T18:20:23.155Z"
   },
   {
    "duration": 63,
    "start_time": "2024-05-21T18:20:23.190Z"
   },
   {
    "duration": 26,
    "start_time": "2024-05-21T18:20:23.256Z"
   },
   {
    "duration": 53,
    "start_time": "2024-05-21T18:20:23.285Z"
   },
   {
    "duration": 89,
    "start_time": "2024-05-21T18:20:23.341Z"
   },
   {
    "duration": 23,
    "start_time": "2024-05-21T18:20:23.433Z"
   },
   {
    "duration": 3,
    "start_time": "2024-05-21T18:20:23.459Z"
   },
   {
    "duration": 62,
    "start_time": "2024-05-21T18:20:23.471Z"
   },
   {
    "duration": 17,
    "start_time": "2024-05-21T18:20:23.536Z"
   },
   {
    "duration": 23,
    "start_time": "2024-05-21T18:20:23.556Z"
   },
   {
    "duration": 56,
    "start_time": "2024-05-21T18:20:23.582Z"
   },
   {
    "duration": 17,
    "start_time": "2024-05-21T18:20:23.641Z"
   },
   {
    "duration": 21,
    "start_time": "2024-05-21T18:20:23.661Z"
   },
   {
    "duration": 57,
    "start_time": "2024-05-21T18:20:23.684Z"
   },
   {
    "duration": 12,
    "start_time": "2024-05-21T18:20:23.744Z"
   },
   {
    "duration": 16,
    "start_time": "2024-05-21T18:20:23.759Z"
   },
   {
    "duration": 52,
    "start_time": "2024-05-21T18:20:23.778Z"
   },
   {
    "duration": 18,
    "start_time": "2024-05-21T18:20:23.833Z"
   },
   {
    "duration": 14,
    "start_time": "2024-05-21T18:20:23.854Z"
   },
   {
    "duration": 62,
    "start_time": "2024-05-21T18:20:23.872Z"
   },
   {
    "duration": 15,
    "start_time": "2024-05-21T18:20:23.937Z"
   },
   {
    "duration": 15,
    "start_time": "2024-05-21T18:20:23.955Z"
   },
   {
    "duration": 923,
    "start_time": "2024-05-21T18:20:23.973Z"
   },
   {
    "duration": 3,
    "start_time": "2024-05-21T18:20:24.899Z"
   },
   {
    "duration": 4,
    "start_time": "2024-05-21T18:20:24.905Z"
   },
   {
    "duration": 20,
    "start_time": "2024-05-21T18:20:24.912Z"
   },
   {
    "duration": 4,
    "start_time": "2024-05-21T18:20:24.934Z"
   },
   {
    "duration": 4,
    "start_time": "2024-05-21T18:20:24.941Z"
   },
   {
    "duration": 4,
    "start_time": "2024-05-21T18:20:24.948Z"
   },
   {
    "duration": 3,
    "start_time": "2024-05-21T18:20:24.956Z"
   },
   {
    "duration": 4,
    "start_time": "2024-05-21T18:20:24.962Z"
   },
   {
    "duration": 4,
    "start_time": "2024-05-21T18:20:24.968Z"
   },
   {
    "duration": 4,
    "start_time": "2024-05-21T18:20:25.032Z"
   },
   {
    "duration": 7,
    "start_time": "2024-05-21T18:20:52.342Z"
   },
   {
    "duration": 1024,
    "start_time": "2024-05-21T18:21:05.333Z"
   },
   {
    "duration": 905,
    "start_time": "2024-05-21T18:21:21.632Z"
   },
   {
    "duration": 440,
    "start_time": "2024-05-21T23:21:31.571Z"
   },
   {
    "duration": 1424,
    "start_time": "2024-05-21T23:21:40.539Z"
   },
   {
    "duration": 1350,
    "start_time": "2024-05-21T23:21:41.974Z"
   },
   {
    "duration": 108,
    "start_time": "2024-05-21T23:21:43.329Z"
   },
   {
    "duration": 73,
    "start_time": "2024-05-21T23:21:43.444Z"
   },
   {
    "duration": 92,
    "start_time": "2024-05-21T23:21:43.522Z"
   },
   {
    "duration": 25,
    "start_time": "2024-05-21T23:21:43.620Z"
   },
   {
    "duration": 57,
    "start_time": "2024-05-21T23:21:43.651Z"
   },
   {
    "duration": 25,
    "start_time": "2024-05-21T23:21:43.714Z"
   },
   {
    "duration": 15,
    "start_time": "2024-05-21T23:21:43.744Z"
   },
   {
    "duration": 12,
    "start_time": "2024-05-21T23:21:43.769Z"
   },
   {
    "duration": 13,
    "start_time": "2024-05-21T23:21:43.807Z"
   },
   {
    "duration": 16,
    "start_time": "2024-05-21T23:21:43.827Z"
   },
   {
    "duration": 8,
    "start_time": "2024-05-21T23:21:43.848Z"
   },
   {
    "duration": 57,
    "start_time": "2024-05-21T23:21:43.860Z"
   },
   {
    "duration": 39,
    "start_time": "2024-05-21T23:21:43.921Z"
   },
   {
    "duration": 65,
    "start_time": "2024-05-21T23:21:43.965Z"
   },
   {
    "duration": 112,
    "start_time": "2024-05-21T23:21:44.035Z"
   },
   {
    "duration": 54,
    "start_time": "2024-05-21T23:21:44.152Z"
   },
   {
    "duration": 29,
    "start_time": "2024-05-21T23:21:44.211Z"
   },
   {
    "duration": 21,
    "start_time": "2024-05-21T23:21:44.245Z"
   },
   {
    "duration": 84,
    "start_time": "2024-05-21T23:21:44.270Z"
   },
   {
    "duration": 64,
    "start_time": "2024-05-21T23:21:44.358Z"
   },
   {
    "duration": 43,
    "start_time": "2024-05-21T23:21:44.428Z"
   },
   {
    "duration": 48,
    "start_time": "2024-05-21T23:21:44.476Z"
   },
   {
    "duration": 139,
    "start_time": "2024-05-21T23:21:44.529Z"
   },
   {
    "duration": 56,
    "start_time": "2024-05-21T23:21:44.672Z"
   },
   {
    "duration": 10,
    "start_time": "2024-05-21T23:21:44.732Z"
   },
   {
    "duration": 44,
    "start_time": "2024-05-21T23:21:44.764Z"
   },
   {
    "duration": 22,
    "start_time": "2024-05-21T23:21:44.814Z"
   },
   {
    "duration": 67,
    "start_time": "2024-05-21T23:21:44.843Z"
   },
   {
    "duration": 29,
    "start_time": "2024-05-21T23:21:44.915Z"
   },
   {
    "duration": 26,
    "start_time": "2024-05-21T23:21:44.950Z"
   },
   {
    "duration": 37,
    "start_time": "2024-05-21T23:21:45.009Z"
   },
   {
    "duration": 56,
    "start_time": "2024-05-21T23:21:45.051Z"
   },
   {
    "duration": 19,
    "start_time": "2024-05-21T23:21:45.113Z"
   },
   {
    "duration": 30,
    "start_time": "2024-05-21T23:21:45.138Z"
   },
   {
    "duration": 24,
    "start_time": "2024-05-21T23:21:45.208Z"
   },
   {
    "duration": 30,
    "start_time": "2024-05-21T23:21:45.237Z"
   },
   {
    "duration": 47,
    "start_time": "2024-05-21T23:21:45.273Z"
   },
   {
    "duration": 28,
    "start_time": "2024-05-21T23:21:45.325Z"
   },
   {
    "duration": 69,
    "start_time": "2024-05-21T23:21:45.358Z"
   },
   {
    "duration": 59,
    "start_time": "2024-05-21T23:21:45.432Z"
   },
   {
    "duration": 16,
    "start_time": "2024-05-21T23:21:45.496Z"
   },
   {
    "duration": 56,
    "start_time": "2024-05-21T23:21:45.517Z"
   },
   {
    "duration": 12,
    "start_time": "2024-05-21T23:21:45.579Z"
   },
   {
    "duration": 8,
    "start_time": "2024-05-21T23:21:45.608Z"
   },
   {
    "duration": 8,
    "start_time": "2024-05-21T23:21:45.630Z"
   },
   {
    "duration": 7,
    "start_time": "2024-05-21T23:21:45.643Z"
   },
   {
    "duration": 5,
    "start_time": "2024-05-21T23:21:45.656Z"
   },
   {
    "duration": 5,
    "start_time": "2024-05-21T23:21:45.667Z"
   },
   {
    "duration": 5,
    "start_time": "2024-05-21T23:21:45.710Z"
   },
   {
    "duration": 5,
    "start_time": "2024-05-21T23:21:45.723Z"
   },
   {
    "duration": 9,
    "start_time": "2024-05-21T23:21:45.734Z"
   },
   {
    "duration": 5,
    "start_time": "2024-05-21T23:21:45.749Z"
   },
   {
    "duration": 18,
    "start_time": "2024-05-21T23:22:10.587Z"
   },
   {
    "duration": 14,
    "start_time": "2024-05-21T23:23:34.605Z"
   },
   {
    "duration": 14,
    "start_time": "2024-05-21T23:25:01.874Z"
   },
   {
    "duration": 547,
    "start_time": "2024-05-21T23:26:33.444Z"
   },
   {
    "duration": 32,
    "start_time": "2024-05-21T23:26:50.913Z"
   },
   {
    "duration": 41,
    "start_time": "2024-05-21T23:28:13.198Z"
   },
   {
    "duration": 44,
    "start_time": "2024-05-21T23:37:27.328Z"
   },
   {
    "duration": 957,
    "start_time": "2024-05-21T23:39:44.106Z"
   },
   {
    "duration": 1397,
    "start_time": "2024-05-21T23:39:45.070Z"
   },
   {
    "duration": 0,
    "start_time": "2024-05-21T23:39:46.474Z"
   },
   {
    "duration": 0,
    "start_time": "2024-05-21T23:39:46.476Z"
   },
   {
    "duration": 0,
    "start_time": "2024-05-21T23:39:46.478Z"
   },
   {
    "duration": 0,
    "start_time": "2024-05-21T23:39:46.480Z"
   },
   {
    "duration": 0,
    "start_time": "2024-05-21T23:39:46.483Z"
   },
   {
    "duration": 0,
    "start_time": "2024-05-21T23:39:46.506Z"
   },
   {
    "duration": 0,
    "start_time": "2024-05-21T23:39:46.508Z"
   },
   {
    "duration": 0,
    "start_time": "2024-05-21T23:39:46.510Z"
   },
   {
    "duration": 0,
    "start_time": "2024-05-21T23:39:46.513Z"
   },
   {
    "duration": 0,
    "start_time": "2024-05-21T23:39:46.514Z"
   },
   {
    "duration": 0,
    "start_time": "2024-05-21T23:39:46.516Z"
   },
   {
    "duration": 0,
    "start_time": "2024-05-21T23:39:46.518Z"
   },
   {
    "duration": 0,
    "start_time": "2024-05-21T23:39:46.520Z"
   },
   {
    "duration": 0,
    "start_time": "2024-05-21T23:39:46.522Z"
   },
   {
    "duration": 0,
    "start_time": "2024-05-21T23:39:46.524Z"
   },
   {
    "duration": 0,
    "start_time": "2024-05-21T23:39:46.525Z"
   },
   {
    "duration": 0,
    "start_time": "2024-05-21T23:39:46.529Z"
   },
   {
    "duration": 0,
    "start_time": "2024-05-21T23:39:46.531Z"
   },
   {
    "duration": 0,
    "start_time": "2024-05-21T23:39:46.532Z"
   },
   {
    "duration": 0,
    "start_time": "2024-05-21T23:39:46.538Z"
   },
   {
    "duration": 0,
    "start_time": "2024-05-21T23:39:46.542Z"
   },
   {
    "duration": 0,
    "start_time": "2024-05-21T23:39:46.544Z"
   },
   {
    "duration": 0,
    "start_time": "2024-05-21T23:39:46.546Z"
   },
   {
    "duration": 0,
    "start_time": "2024-05-21T23:39:46.548Z"
   },
   {
    "duration": 0,
    "start_time": "2024-05-21T23:39:46.550Z"
   },
   {
    "duration": 0,
    "start_time": "2024-05-21T23:39:46.606Z"
   },
   {
    "duration": 0,
    "start_time": "2024-05-21T23:39:46.608Z"
   },
   {
    "duration": 0,
    "start_time": "2024-05-21T23:39:46.609Z"
   },
   {
    "duration": 0,
    "start_time": "2024-05-21T23:39:46.611Z"
   },
   {
    "duration": 0,
    "start_time": "2024-05-21T23:39:46.612Z"
   },
   {
    "duration": 0,
    "start_time": "2024-05-21T23:39:46.616Z"
   },
   {
    "duration": 0,
    "start_time": "2024-05-21T23:39:46.618Z"
   },
   {
    "duration": 0,
    "start_time": "2024-05-21T23:39:46.620Z"
   },
   {
    "duration": 0,
    "start_time": "2024-05-21T23:39:46.622Z"
   },
   {
    "duration": 0,
    "start_time": "2024-05-21T23:39:46.624Z"
   },
   {
    "duration": 0,
    "start_time": "2024-05-21T23:39:46.626Z"
   },
   {
    "duration": 0,
    "start_time": "2024-05-21T23:39:46.629Z"
   },
   {
    "duration": 0,
    "start_time": "2024-05-21T23:39:46.631Z"
   },
   {
    "duration": 0,
    "start_time": "2024-05-21T23:39:46.632Z"
   },
   {
    "duration": 0,
    "start_time": "2024-05-21T23:39:46.634Z"
   },
   {
    "duration": 0,
    "start_time": "2024-05-21T23:39:46.636Z"
   },
   {
    "duration": 0,
    "start_time": "2024-05-21T23:39:46.637Z"
   },
   {
    "duration": 0,
    "start_time": "2024-05-21T23:39:46.639Z"
   },
   {
    "duration": 0,
    "start_time": "2024-05-21T23:39:46.641Z"
   },
   {
    "duration": 0,
    "start_time": "2024-05-21T23:39:46.644Z"
   },
   {
    "duration": 0,
    "start_time": "2024-05-21T23:39:46.645Z"
   },
   {
    "duration": 0,
    "start_time": "2024-05-21T23:39:46.707Z"
   },
   {
    "duration": 0,
    "start_time": "2024-05-21T23:39:46.708Z"
   },
   {
    "duration": 0,
    "start_time": "2024-05-21T23:39:46.710Z"
   },
   {
    "duration": 0,
    "start_time": "2024-05-21T23:39:46.713Z"
   },
   {
    "duration": 0,
    "start_time": "2024-05-21T23:39:46.714Z"
   },
   {
    "duration": 0,
    "start_time": "2024-05-21T23:39:46.716Z"
   },
   {
    "duration": 0,
    "start_time": "2024-05-21T23:39:46.722Z"
   },
   {
    "duration": 22,
    "start_time": "2024-05-21T23:39:57.406Z"
   },
   {
    "duration": 271,
    "start_time": "2024-05-21T23:40:19.618Z"
   },
   {
    "duration": 946,
    "start_time": "2024-05-21T23:40:25.897Z"
   },
   {
    "duration": 273,
    "start_time": "2024-05-21T23:40:26.846Z"
   },
   {
    "duration": 30,
    "start_time": "2024-05-21T23:40:27.122Z"
   },
   {
    "duration": 942,
    "start_time": "2024-05-21T23:40:27.157Z"
   },
   {
    "duration": 0,
    "start_time": "2024-05-21T23:40:28.110Z"
   },
   {
    "duration": 0,
    "start_time": "2024-05-21T23:40:28.113Z"
   },
   {
    "duration": 0,
    "start_time": "2024-05-21T23:40:28.116Z"
   },
   {
    "duration": 0,
    "start_time": "2024-05-21T23:40:28.119Z"
   },
   {
    "duration": 0,
    "start_time": "2024-05-21T23:40:28.121Z"
   },
   {
    "duration": 0,
    "start_time": "2024-05-21T23:40:28.123Z"
   },
   {
    "duration": 0,
    "start_time": "2024-05-21T23:40:28.126Z"
   },
   {
    "duration": 0,
    "start_time": "2024-05-21T23:40:28.128Z"
   },
   {
    "duration": 0,
    "start_time": "2024-05-21T23:40:28.131Z"
   },
   {
    "duration": 0,
    "start_time": "2024-05-21T23:40:28.133Z"
   },
   {
    "duration": 0,
    "start_time": "2024-05-21T23:40:28.136Z"
   },
   {
    "duration": 0,
    "start_time": "2024-05-21T23:40:28.138Z"
   },
   {
    "duration": 0,
    "start_time": "2024-05-21T23:40:28.140Z"
   },
   {
    "duration": 0,
    "start_time": "2024-05-21T23:40:28.142Z"
   },
   {
    "duration": 0,
    "start_time": "2024-05-21T23:40:28.145Z"
   },
   {
    "duration": 0,
    "start_time": "2024-05-21T23:40:28.148Z"
   },
   {
    "duration": 0,
    "start_time": "2024-05-21T23:40:28.149Z"
   },
   {
    "duration": 0,
    "start_time": "2024-05-21T23:40:28.152Z"
   },
   {
    "duration": 0,
    "start_time": "2024-05-21T23:40:28.206Z"
   },
   {
    "duration": 0,
    "start_time": "2024-05-21T23:40:28.208Z"
   },
   {
    "duration": 0,
    "start_time": "2024-05-21T23:40:28.209Z"
   },
   {
    "duration": 0,
    "start_time": "2024-05-21T23:40:28.211Z"
   },
   {
    "duration": 0,
    "start_time": "2024-05-21T23:40:28.213Z"
   },
   {
    "duration": 0,
    "start_time": "2024-05-21T23:40:28.214Z"
   },
   {
    "duration": 0,
    "start_time": "2024-05-21T23:40:28.216Z"
   },
   {
    "duration": 0,
    "start_time": "2024-05-21T23:40:28.218Z"
   },
   {
    "duration": 0,
    "start_time": "2024-05-21T23:40:28.220Z"
   },
   {
    "duration": 0,
    "start_time": "2024-05-21T23:40:28.223Z"
   },
   {
    "duration": 0,
    "start_time": "2024-05-21T23:40:28.224Z"
   },
   {
    "duration": 0,
    "start_time": "2024-05-21T23:40:28.227Z"
   },
   {
    "duration": 0,
    "start_time": "2024-05-21T23:40:28.229Z"
   },
   {
    "duration": 0,
    "start_time": "2024-05-21T23:40:28.232Z"
   },
   {
    "duration": 0,
    "start_time": "2024-05-21T23:40:28.234Z"
   },
   {
    "duration": 0,
    "start_time": "2024-05-21T23:40:28.236Z"
   },
   {
    "duration": 0,
    "start_time": "2024-05-21T23:40:28.238Z"
   },
   {
    "duration": 0,
    "start_time": "2024-05-21T23:40:28.242Z"
   },
   {
    "duration": 0,
    "start_time": "2024-05-21T23:40:28.244Z"
   },
   {
    "duration": 0,
    "start_time": "2024-05-21T23:40:28.246Z"
   },
   {
    "duration": 0,
    "start_time": "2024-05-21T23:40:28.305Z"
   },
   {
    "duration": 0,
    "start_time": "2024-05-21T23:40:28.308Z"
   },
   {
    "duration": 0,
    "start_time": "2024-05-21T23:40:28.312Z"
   },
   {
    "duration": 0,
    "start_time": "2024-05-21T23:40:28.314Z"
   },
   {
    "duration": 0,
    "start_time": "2024-05-21T23:40:28.322Z"
   },
   {
    "duration": 0,
    "start_time": "2024-05-21T23:40:28.325Z"
   },
   {
    "duration": 1,
    "start_time": "2024-05-21T23:40:28.326Z"
   },
   {
    "duration": 0,
    "start_time": "2024-05-21T23:40:28.329Z"
   },
   {
    "duration": 0,
    "start_time": "2024-05-21T23:40:28.331Z"
   },
   {
    "duration": 0,
    "start_time": "2024-05-21T23:40:28.334Z"
   },
   {
    "duration": 0,
    "start_time": "2024-05-21T23:40:28.337Z"
   },
   {
    "duration": 0,
    "start_time": "2024-05-21T23:40:28.339Z"
   },
   {
    "duration": 0,
    "start_time": "2024-05-21T23:40:28.340Z"
   },
   {
    "duration": 14,
    "start_time": "2024-05-21T23:41:00.840Z"
   },
   {
    "duration": 44,
    "start_time": "2024-05-21T23:41:33.601Z"
   },
   {
    "duration": 12,
    "start_time": "2024-05-21T23:41:49.715Z"
   },
   {
    "duration": 15,
    "start_time": "2024-05-21T23:42:33.371Z"
   },
   {
    "duration": 27,
    "start_time": "2024-05-22T00:41:06.998Z"
   },
   {
    "duration": 909,
    "start_time": "2024-05-22T00:41:15.027Z"
   },
   {
    "duration": 270,
    "start_time": "2024-05-22T00:41:15.940Z"
   },
   {
    "duration": 34,
    "start_time": "2024-05-22T00:41:16.212Z"
   },
   {
    "duration": 13,
    "start_time": "2024-05-22T00:41:16.250Z"
   },
   {
    "duration": 1961,
    "start_time": "2024-05-22T00:41:16.266Z"
   },
   {
    "duration": 0,
    "start_time": "2024-05-22T00:41:18.234Z"
   },
   {
    "duration": 0,
    "start_time": "2024-05-22T00:41:18.236Z"
   },
   {
    "duration": 0,
    "start_time": "2024-05-22T00:41:18.238Z"
   },
   {
    "duration": 0,
    "start_time": "2024-05-22T00:41:18.240Z"
   },
   {
    "duration": 0,
    "start_time": "2024-05-22T00:41:18.243Z"
   },
   {
    "duration": 1,
    "start_time": "2024-05-22T00:41:18.244Z"
   },
   {
    "duration": 0,
    "start_time": "2024-05-22T00:41:18.246Z"
   },
   {
    "duration": 1,
    "start_time": "2024-05-22T00:41:18.247Z"
   },
   {
    "duration": 0,
    "start_time": "2024-05-22T00:41:18.249Z"
   },
   {
    "duration": 0,
    "start_time": "2024-05-22T00:41:18.251Z"
   },
   {
    "duration": 0,
    "start_time": "2024-05-22T00:41:18.253Z"
   },
   {
    "duration": 0,
    "start_time": "2024-05-22T00:41:18.255Z"
   },
   {
    "duration": 0,
    "start_time": "2024-05-22T00:41:18.257Z"
   },
   {
    "duration": 0,
    "start_time": "2024-05-22T00:41:18.263Z"
   },
   {
    "duration": 0,
    "start_time": "2024-05-22T00:41:18.307Z"
   },
   {
    "duration": 0,
    "start_time": "2024-05-22T00:41:18.310Z"
   },
   {
    "duration": 0,
    "start_time": "2024-05-22T00:41:18.313Z"
   },
   {
    "duration": 0,
    "start_time": "2024-05-22T00:41:18.316Z"
   },
   {
    "duration": 0,
    "start_time": "2024-05-22T00:41:18.318Z"
   },
   {
    "duration": 0,
    "start_time": "2024-05-22T00:41:18.319Z"
   },
   {
    "duration": 0,
    "start_time": "2024-05-22T00:41:18.322Z"
   },
   {
    "duration": 0,
    "start_time": "2024-05-22T00:41:18.330Z"
   },
   {
    "duration": 0,
    "start_time": "2024-05-22T00:41:18.332Z"
   },
   {
    "duration": 0,
    "start_time": "2024-05-22T00:41:18.336Z"
   },
   {
    "duration": 0,
    "start_time": "2024-05-22T00:41:18.339Z"
   },
   {
    "duration": 0,
    "start_time": "2024-05-22T00:41:18.341Z"
   },
   {
    "duration": 0,
    "start_time": "2024-05-22T00:41:18.343Z"
   },
   {
    "duration": 0,
    "start_time": "2024-05-22T00:41:18.344Z"
   },
   {
    "duration": 0,
    "start_time": "2024-05-22T00:41:18.347Z"
   },
   {
    "duration": 0,
    "start_time": "2024-05-22T00:41:18.349Z"
   },
   {
    "duration": 0,
    "start_time": "2024-05-22T00:41:18.407Z"
   },
   {
    "duration": 0,
    "start_time": "2024-05-22T00:41:18.408Z"
   },
   {
    "duration": 0,
    "start_time": "2024-05-22T00:41:18.410Z"
   },
   {
    "duration": 0,
    "start_time": "2024-05-22T00:41:18.412Z"
   },
   {
    "duration": 0,
    "start_time": "2024-05-22T00:41:18.413Z"
   },
   {
    "duration": 0,
    "start_time": "2024-05-22T00:41:18.415Z"
   },
   {
    "duration": 0,
    "start_time": "2024-05-22T00:41:18.418Z"
   },
   {
    "duration": 0,
    "start_time": "2024-05-22T00:41:18.420Z"
   },
   {
    "duration": 0,
    "start_time": "2024-05-22T00:41:18.422Z"
   },
   {
    "duration": 0,
    "start_time": "2024-05-22T00:41:18.424Z"
   },
   {
    "duration": 0,
    "start_time": "2024-05-22T00:41:18.427Z"
   },
   {
    "duration": 0,
    "start_time": "2024-05-22T00:41:18.429Z"
   },
   {
    "duration": 0,
    "start_time": "2024-05-22T00:41:18.431Z"
   },
   {
    "duration": 0,
    "start_time": "2024-05-22T00:41:18.433Z"
   },
   {
    "duration": 0,
    "start_time": "2024-05-22T00:41:18.439Z"
   },
   {
    "duration": 0,
    "start_time": "2024-05-22T00:41:18.441Z"
   },
   {
    "duration": 0,
    "start_time": "2024-05-22T00:41:18.443Z"
   },
   {
    "duration": 0,
    "start_time": "2024-05-22T00:41:18.445Z"
   },
   {
    "duration": 0,
    "start_time": "2024-05-22T00:41:18.506Z"
   },
   {
    "duration": 0,
    "start_time": "2024-05-22T00:41:18.508Z"
   },
   {
    "duration": 15,
    "start_time": "2024-05-22T00:42:10.680Z"
   },
   {
    "duration": 933,
    "start_time": "2024-05-22T00:42:59.285Z"
   },
   {
    "duration": 286,
    "start_time": "2024-05-22T00:43:00.221Z"
   },
   {
    "duration": 33,
    "start_time": "2024-05-22T00:43:00.510Z"
   },
   {
    "duration": 16,
    "start_time": "2024-05-22T00:43:00.548Z"
   },
   {
    "duration": 43,
    "start_time": "2024-05-22T00:43:00.568Z"
   },
   {
    "duration": 14,
    "start_time": "2024-05-22T00:43:00.614Z"
   },
   {
    "duration": 16,
    "start_time": "2024-05-22T00:43:00.631Z"
   },
   {
    "duration": 5,
    "start_time": "2024-05-22T00:43:00.650Z"
   },
   {
    "duration": 52,
    "start_time": "2024-05-22T00:43:00.657Z"
   },
   {
    "duration": 5,
    "start_time": "2024-05-22T00:43:00.714Z"
   },
   {
    "duration": 5,
    "start_time": "2024-05-22T00:43:00.723Z"
   },
   {
    "duration": 6,
    "start_time": "2024-05-22T00:43:00.730Z"
   },
   {
    "duration": 6,
    "start_time": "2024-05-22T00:43:00.739Z"
   },
   {
    "duration": 62,
    "start_time": "2024-05-22T00:43:00.748Z"
   },
   {
    "duration": 25,
    "start_time": "2024-05-22T00:43:00.815Z"
   },
   {
    "duration": 18,
    "start_time": "2024-05-22T00:43:00.842Z"
   },
   {
    "duration": 89,
    "start_time": "2024-05-22T00:43:00.863Z"
   },
   {
    "duration": 28,
    "start_time": "2024-05-22T00:43:00.955Z"
   },
   {
    "duration": 19,
    "start_time": "2024-05-22T00:43:01.006Z"
   },
   {
    "duration": 14,
    "start_time": "2024-05-22T00:43:01.029Z"
   },
   {
    "duration": 61,
    "start_time": "2024-05-22T00:43:01.046Z"
   },
   {
    "duration": 19,
    "start_time": "2024-05-22T00:43:01.110Z"
   },
   {
    "duration": 22,
    "start_time": "2024-05-22T00:43:01.132Z"
   },
   {
    "duration": 16,
    "start_time": "2024-05-22T00:43:01.157Z"
   },
   {
    "duration": 65,
    "start_time": "2024-05-22T00:43:01.207Z"
   },
   {
    "duration": 44,
    "start_time": "2024-05-22T00:43:01.275Z"
   },
   {
    "duration": 4,
    "start_time": "2024-05-22T00:43:01.322Z"
   },
   {
    "duration": 27,
    "start_time": "2024-05-22T00:43:01.335Z"
   },
   {
    "duration": 45,
    "start_time": "2024-05-22T00:43:01.365Z"
   },
   {
    "duration": 23,
    "start_time": "2024-05-22T00:43:01.415Z"
   },
   {
    "duration": 19,
    "start_time": "2024-05-22T00:43:01.441Z"
   },
   {
    "duration": 52,
    "start_time": "2024-05-22T00:43:01.463Z"
   },
   {
    "duration": 23,
    "start_time": "2024-05-22T00:43:01.518Z"
   },
   {
    "duration": 17,
    "start_time": "2024-05-22T00:43:01.545Z"
   },
   {
    "duration": 44,
    "start_time": "2024-05-22T00:43:01.567Z"
   },
   {
    "duration": 17,
    "start_time": "2024-05-22T00:43:01.615Z"
   },
   {
    "duration": 14,
    "start_time": "2024-05-22T00:43:01.636Z"
   },
   {
    "duration": 58,
    "start_time": "2024-05-22T00:43:01.653Z"
   },
   {
    "duration": 15,
    "start_time": "2024-05-22T00:43:01.715Z"
   },
   {
    "duration": 21,
    "start_time": "2024-05-22T00:43:01.733Z"
   },
   {
    "duration": 52,
    "start_time": "2024-05-22T00:43:01.757Z"
   },
   {
    "duration": 17,
    "start_time": "2024-05-22T00:43:01.812Z"
   },
   {
    "duration": 9,
    "start_time": "2024-05-22T00:43:01.833Z"
   },
   {
    "duration": 11,
    "start_time": "2024-05-22T00:43:01.845Z"
   },
   {
    "duration": 71,
    "start_time": "2024-05-22T00:43:01.858Z"
   },
   {
    "duration": 1345,
    "start_time": "2024-05-22T00:43:01.932Z"
   },
   {
    "duration": 0,
    "start_time": "2024-05-22T00:43:03.280Z"
   },
   {
    "duration": 0,
    "start_time": "2024-05-22T00:43:03.282Z"
   },
   {
    "duration": 0,
    "start_time": "2024-05-22T00:43:03.284Z"
   },
   {
    "duration": 0,
    "start_time": "2024-05-22T00:43:03.286Z"
   },
   {
    "duration": 0,
    "start_time": "2024-05-22T00:43:03.288Z"
   },
   {
    "duration": 0,
    "start_time": "2024-05-22T00:43:03.306Z"
   },
   {
    "duration": 0,
    "start_time": "2024-05-22T00:43:03.308Z"
   },
   {
    "duration": 0,
    "start_time": "2024-05-22T00:43:03.310Z"
   },
   {
    "duration": 0,
    "start_time": "2024-05-22T00:43:03.313Z"
   },
   {
    "duration": 3,
    "start_time": "2024-05-22T00:43:39.420Z"
   },
   {
    "duration": 10,
    "start_time": "2024-05-22T00:49:20.364Z"
   },
   {
    "duration": 28,
    "start_time": "2024-05-22T00:49:34.811Z"
   },
   {
    "duration": 5,
    "start_time": "2024-05-22T00:57:41.940Z"
   },
   {
    "duration": 213,
    "start_time": "2024-05-22T01:03:38.379Z"
   },
   {
    "duration": 66,
    "start_time": "2024-05-22T01:04:15.634Z"
   },
   {
    "duration": 27,
    "start_time": "2024-05-22T01:04:49.428Z"
   },
   {
    "duration": 26,
    "start_time": "2024-05-22T01:10:09.321Z"
   },
   {
    "duration": 31,
    "start_time": "2024-05-22T01:10:51.384Z"
   },
   {
    "duration": 24,
    "start_time": "2024-05-22T01:11:13.103Z"
   },
   {
    "duration": 23,
    "start_time": "2024-05-22T01:52:49.804Z"
   },
   {
    "duration": 5,
    "start_time": "2024-05-22T01:52:59.803Z"
   },
   {
    "duration": 4150,
    "start_time": "2024-05-22T01:56:55.586Z"
   },
   {
    "duration": 355,
    "start_time": "2024-05-22T02:02:46.145Z"
   },
   {
    "duration": 9,
    "start_time": "2024-05-22T02:02:59.968Z"
   },
   {
    "duration": 404,
    "start_time": "2024-05-22T02:03:44.290Z"
   },
   {
    "duration": 393,
    "start_time": "2024-05-22T02:04:31.128Z"
   },
   {
    "duration": 8,
    "start_time": "2024-05-22T02:09:11.636Z"
   },
   {
    "duration": 16,
    "start_time": "2024-05-22T02:09:23.359Z"
   },
   {
    "duration": 339,
    "start_time": "2024-05-22T02:10:55.764Z"
   },
   {
    "duration": 353,
    "start_time": "2024-05-22T02:12:03.240Z"
   },
   {
    "duration": 80,
    "start_time": "2024-05-22T02:13:27.956Z"
   },
   {
    "duration": 25,
    "start_time": "2024-05-22T02:13:30.048Z"
   },
   {
    "duration": 4773,
    "start_time": "2024-05-22T16:29:01.429Z"
   },
   {
    "duration": 401,
    "start_time": "2024-05-22T16:29:06.205Z"
   },
   {
    "duration": 35,
    "start_time": "2024-05-22T16:29:06.609Z"
   },
   {
    "duration": 15,
    "start_time": "2024-05-22T16:29:06.649Z"
   },
   {
    "duration": 15,
    "start_time": "2024-05-22T16:29:06.668Z"
   },
   {
    "duration": 54,
    "start_time": "2024-05-22T16:29:06.686Z"
   },
   {
    "duration": 15,
    "start_time": "2024-05-22T16:29:06.743Z"
   },
   {
    "duration": 4,
    "start_time": "2024-05-22T16:29:06.762Z"
   },
   {
    "duration": 8,
    "start_time": "2024-05-22T16:29:06.769Z"
   },
   {
    "duration": 5,
    "start_time": "2024-05-22T16:29:06.783Z"
   },
   {
    "duration": 5,
    "start_time": "2024-05-22T16:29:06.834Z"
   },
   {
    "duration": 5,
    "start_time": "2024-05-22T16:29:06.842Z"
   },
   {
    "duration": 5,
    "start_time": "2024-05-22T16:29:06.850Z"
   },
   {
    "duration": 17,
    "start_time": "2024-05-22T16:29:06.858Z"
   },
   {
    "duration": 65,
    "start_time": "2024-05-22T16:29:06.878Z"
   },
   {
    "duration": 16,
    "start_time": "2024-05-22T16:29:06.946Z"
   },
   {
    "duration": 96,
    "start_time": "2024-05-22T16:29:06.965Z"
   },
   {
    "duration": 26,
    "start_time": "2024-05-22T16:29:07.064Z"
   },
   {
    "duration": 42,
    "start_time": "2024-05-22T16:29:07.093Z"
   },
   {
    "duration": 21,
    "start_time": "2024-05-22T16:29:07.138Z"
   },
   {
    "duration": 29,
    "start_time": "2024-05-22T16:29:07.162Z"
   },
   {
    "duration": 46,
    "start_time": "2024-05-22T16:29:07.195Z"
   },
   {
    "duration": 23,
    "start_time": "2024-05-22T16:29:07.244Z"
   },
   {
    "duration": 15,
    "start_time": "2024-05-22T16:29:07.271Z"
   },
   {
    "duration": 98,
    "start_time": "2024-05-22T16:29:07.288Z"
   },
   {
    "duration": 41,
    "start_time": "2024-05-22T16:29:07.391Z"
   },
   {
    "duration": 5,
    "start_time": "2024-05-22T16:29:07.436Z"
   },
   {
    "duration": 27,
    "start_time": "2024-05-22T16:29:07.450Z"
   },
   {
    "duration": 17,
    "start_time": "2024-05-22T16:29:07.480Z"
   },
   {
    "duration": 23,
    "start_time": "2024-05-22T16:29:07.533Z"
   },
   {
    "duration": 19,
    "start_time": "2024-05-22T16:29:07.559Z"
   },
   {
    "duration": 16,
    "start_time": "2024-05-22T16:29:07.581Z"
   },
   {
    "duration": 19,
    "start_time": "2024-05-22T16:29:07.633Z"
   },
   {
    "duration": 16,
    "start_time": "2024-05-22T16:29:07.654Z"
   },
   {
    "duration": 12,
    "start_time": "2024-05-22T16:29:07.673Z"
   },
   {
    "duration": 52,
    "start_time": "2024-05-22T16:29:07.689Z"
   },
   {
    "duration": 15,
    "start_time": "2024-05-22T16:29:07.744Z"
   },
   {
    "duration": 18,
    "start_time": "2024-05-22T16:29:07.762Z"
   },
   {
    "duration": 53,
    "start_time": "2024-05-22T16:29:07.783Z"
   },
   {
    "duration": 19,
    "start_time": "2024-05-22T16:29:07.839Z"
   },
   {
    "duration": 15,
    "start_time": "2024-05-22T16:29:07.861Z"
   },
   {
    "duration": 54,
    "start_time": "2024-05-22T16:29:07.879Z"
   },
   {
    "duration": 9,
    "start_time": "2024-05-22T16:29:07.937Z"
   },
   {
    "duration": 10,
    "start_time": "2024-05-22T16:29:07.948Z"
   },
   {
    "duration": 26,
    "start_time": "2024-05-22T16:29:07.960Z"
   },
   {
    "duration": 63,
    "start_time": "2024-05-22T16:29:07.990Z"
   },
   {
    "duration": 5,
    "start_time": "2024-05-22T16:29:08.056Z"
   },
   {
    "duration": 91,
    "start_time": "2024-05-22T16:29:08.065Z"
   },
   {
    "duration": 27,
    "start_time": "2024-05-22T16:29:08.158Z"
   },
   {
    "duration": 10,
    "start_time": "2024-05-22T16:29:08.188Z"
   },
   {
    "duration": 40,
    "start_time": "2024-05-22T16:29:08.200Z"
   },
   {
    "duration": 382,
    "start_time": "2024-05-22T16:29:08.243Z"
   },
   {
    "duration": 8,
    "start_time": "2024-05-22T16:29:08.627Z"
   },
   {
    "duration": 3,
    "start_time": "2024-05-22T16:29:08.638Z"
   },
   {
    "duration": 3,
    "start_time": "2024-05-22T16:29:08.644Z"
   },
   {
    "duration": 4,
    "start_time": "2024-05-22T16:29:08.650Z"
   },
   {
    "duration": 2,
    "start_time": "2024-05-22T16:29:08.658Z"
   },
   {
    "duration": 4,
    "start_time": "2024-05-22T16:29:08.663Z"
   },
   {
    "duration": 3,
    "start_time": "2024-05-22T16:29:08.670Z"
   },
   {
    "duration": 9,
    "start_time": "2024-05-22T16:29:20.960Z"
   },
   {
    "duration": 14,
    "start_time": "2024-05-22T16:29:34.209Z"
   },
   {
    "duration": 10,
    "start_time": "2024-05-22T16:32:37.337Z"
   },
   {
    "duration": 20,
    "start_time": "2024-05-22T16:32:50.857Z"
   },
   {
    "duration": 6,
    "start_time": "2024-05-22T16:41:05.987Z"
   },
   {
    "duration": 246,
    "start_time": "2024-05-22T16:41:20.819Z"
   },
   {
    "duration": 15,
    "start_time": "2024-05-22T16:43:19.838Z"
   },
   {
    "duration": 17,
    "start_time": "2024-05-22T16:43:36.736Z"
   },
   {
    "duration": 1214,
    "start_time": "2024-05-22T16:44:45.771Z"
   },
   {
    "duration": 283,
    "start_time": "2024-05-22T16:44:54.652Z"
   },
   {
    "duration": 417,
    "start_time": "2024-05-22T16:46:52.557Z"
   },
   {
    "duration": 10,
    "start_time": "2024-05-22T16:52:50.145Z"
   },
   {
    "duration": 12,
    "start_time": "2024-05-22T16:56:14.873Z"
   },
   {
    "duration": 273,
    "start_time": "2024-05-22T16:57:01.912Z"
   },
   {
    "duration": 240,
    "start_time": "2024-05-22T16:58:23.280Z"
   },
   {
    "duration": 272,
    "start_time": "2024-05-22T16:59:39.054Z"
   },
   {
    "duration": 6,
    "start_time": "2024-05-22T17:02:43.041Z"
   },
   {
    "duration": 8,
    "start_time": "2024-05-22T17:02:44.482Z"
   },
   {
    "duration": 11,
    "start_time": "2024-05-22T17:03:11.720Z"
   },
   {
    "duration": 20,
    "start_time": "2024-05-22T17:03:49.241Z"
   },
   {
    "duration": 10,
    "start_time": "2024-05-22T17:04:16.563Z"
   },
   {
    "duration": 29,
    "start_time": "2024-05-22T17:10:56.450Z"
   },
   {
    "duration": 585,
    "start_time": "2024-05-22T17:11:42.090Z"
   },
   {
    "duration": 371,
    "start_time": "2024-05-22T17:11:58.379Z"
   },
   {
    "duration": 5063,
    "start_time": "2024-05-22T19:48:28.053Z"
   },
   {
    "duration": 453,
    "start_time": "2024-05-22T19:48:33.120Z"
   },
   {
    "duration": 29,
    "start_time": "2024-05-22T19:48:33.577Z"
   },
   {
    "duration": 23,
    "start_time": "2024-05-22T19:48:33.611Z"
   },
   {
    "duration": 16,
    "start_time": "2024-05-22T19:48:33.640Z"
   },
   {
    "duration": 15,
    "start_time": "2024-05-22T19:48:33.658Z"
   },
   {
    "duration": 16,
    "start_time": "2024-05-22T19:48:33.676Z"
   },
   {
    "duration": 37,
    "start_time": "2024-05-22T19:48:33.696Z"
   },
   {
    "duration": 13,
    "start_time": "2024-05-22T19:48:33.737Z"
   },
   {
    "duration": 6,
    "start_time": "2024-05-22T19:48:33.753Z"
   },
   {
    "duration": 5,
    "start_time": "2024-05-22T19:48:33.763Z"
   },
   {
    "duration": 8,
    "start_time": "2024-05-22T19:48:33.771Z"
   },
   {
    "duration": 6,
    "start_time": "2024-05-22T19:48:33.783Z"
   },
   {
    "duration": 27,
    "start_time": "2024-05-22T19:48:33.834Z"
   },
   {
    "duration": 28,
    "start_time": "2024-05-22T19:48:33.864Z"
   },
   {
    "duration": 41,
    "start_time": "2024-05-22T19:48:33.894Z"
   },
   {
    "duration": 57,
    "start_time": "2024-05-22T19:48:33.938Z"
   },
   {
    "duration": 58,
    "start_time": "2024-05-22T19:48:34.001Z"
   },
   {
    "duration": 25,
    "start_time": "2024-05-22T19:48:34.062Z"
   },
   {
    "duration": 15,
    "start_time": "2024-05-22T19:48:34.093Z"
   },
   {
    "duration": 50,
    "start_time": "2024-05-22T19:48:34.112Z"
   },
   {
    "duration": 23,
    "start_time": "2024-05-22T19:48:34.167Z"
   },
   {
    "duration": 50,
    "start_time": "2024-05-22T19:48:34.193Z"
   },
   {
    "duration": 16,
    "start_time": "2024-05-22T19:48:34.247Z"
   },
   {
    "duration": 108,
    "start_time": "2024-05-22T19:48:34.266Z"
   },
   {
    "duration": 23,
    "start_time": "2024-05-22T19:48:34.377Z"
   },
   {
    "duration": 5,
    "start_time": "2024-05-22T19:48:34.403Z"
   },
   {
    "duration": 39,
    "start_time": "2024-05-22T19:48:34.411Z"
   },
   {
    "duration": 19,
    "start_time": "2024-05-22T19:48:34.453Z"
   },
   {
    "duration": 27,
    "start_time": "2024-05-22T19:48:34.475Z"
   },
   {
    "duration": 24,
    "start_time": "2024-05-22T19:48:34.533Z"
   },
   {
    "duration": 19,
    "start_time": "2024-05-22T19:48:34.559Z"
   },
   {
    "duration": 19,
    "start_time": "2024-05-22T19:48:34.584Z"
   },
   {
    "duration": 16,
    "start_time": "2024-05-22T19:48:34.633Z"
   },
   {
    "duration": 13,
    "start_time": "2024-05-22T19:48:34.652Z"
   },
   {
    "duration": 17,
    "start_time": "2024-05-22T19:48:34.668Z"
   },
   {
    "duration": 51,
    "start_time": "2024-05-22T19:48:34.688Z"
   },
   {
    "duration": 17,
    "start_time": "2024-05-22T19:48:34.748Z"
   },
   {
    "duration": 15,
    "start_time": "2024-05-22T19:48:34.767Z"
   },
   {
    "duration": 18,
    "start_time": "2024-05-22T19:48:34.785Z"
   },
   {
    "duration": 15,
    "start_time": "2024-05-22T19:48:34.837Z"
   },
   {
    "duration": 16,
    "start_time": "2024-05-22T19:48:34.855Z"
   },
   {
    "duration": 10,
    "start_time": "2024-05-22T19:48:34.875Z"
   },
   {
    "duration": 43,
    "start_time": "2024-05-22T19:48:34.890Z"
   },
   {
    "duration": 30,
    "start_time": "2024-05-22T19:48:34.936Z"
   },
   {
    "duration": 30,
    "start_time": "2024-05-22T19:48:34.969Z"
   },
   {
    "duration": 9,
    "start_time": "2024-05-22T19:48:35.033Z"
   },
   {
    "duration": 72,
    "start_time": "2024-05-22T19:48:35.049Z"
   },
   {
    "duration": 29,
    "start_time": "2024-05-22T19:48:35.124Z"
   },
   {
    "duration": 11,
    "start_time": "2024-05-22T19:48:35.156Z"
   },
   {
    "duration": 21,
    "start_time": "2024-05-22T19:48:35.171Z"
   },
   {
    "duration": 441,
    "start_time": "2024-05-22T19:48:35.195Z"
   },
   {
    "duration": 14,
    "start_time": "2024-05-22T19:48:35.639Z"
   },
   {
    "duration": 302,
    "start_time": "2024-05-22T19:48:35.658Z"
   },
   {
    "duration": 21,
    "start_time": "2024-05-22T19:48:35.964Z"
   },
   {
    "duration": 7,
    "start_time": "2024-05-22T19:48:35.987Z"
   },
   {
    "duration": 10,
    "start_time": "2024-05-22T19:48:35.997Z"
   },
   {
    "duration": 404,
    "start_time": "2024-05-22T19:48:36.035Z"
   },
   {
    "duration": 5,
    "start_time": "2024-05-22T19:48:36.442Z"
   },
   {
    "duration": 4,
    "start_time": "2024-05-22T19:48:36.451Z"
   },
   {
    "duration": 4,
    "start_time": "2024-05-22T19:48:36.458Z"
   },
   {
    "duration": 5,
    "start_time": "2024-05-22T19:48:36.467Z"
   },
   {
    "duration": 1282,
    "start_time": "2024-05-22T19:48:42.212Z"
   },
   {
    "duration": 302,
    "start_time": "2024-05-22T19:49:55.727Z"
   },
   {
    "duration": 13,
    "start_time": "2024-05-22T19:51:55.876Z"
   },
   {
    "duration": 16,
    "start_time": "2024-05-22T19:52:15.575Z"
   },
   {
    "duration": 13,
    "start_time": "2024-05-22T19:53:28.961Z"
   },
   {
    "duration": 112,
    "start_time": "2024-05-22T19:54:44.622Z"
   },
   {
    "duration": 355,
    "start_time": "2024-05-22T19:55:09.694Z"
   },
   {
    "duration": 320,
    "start_time": "2024-05-23T00:10:20.566Z"
   },
   {
    "duration": 5446,
    "start_time": "2024-05-23T00:11:03.383Z"
   },
   {
    "duration": 437,
    "start_time": "2024-05-23T00:11:08.832Z"
   },
   {
    "duration": 28,
    "start_time": "2024-05-23T00:11:09.272Z"
   },
   {
    "duration": 13,
    "start_time": "2024-05-23T00:11:09.314Z"
   },
   {
    "duration": 15,
    "start_time": "2024-05-23T00:11:09.330Z"
   },
   {
    "duration": 16,
    "start_time": "2024-05-23T00:11:09.348Z"
   },
   {
    "duration": 52,
    "start_time": "2024-05-23T00:11:09.367Z"
   },
   {
    "duration": 4,
    "start_time": "2024-05-23T00:11:09.423Z"
   },
   {
    "duration": 9,
    "start_time": "2024-05-23T00:11:09.430Z"
   },
   {
    "duration": 6,
    "start_time": "2024-05-23T00:11:09.445Z"
   },
   {
    "duration": 7,
    "start_time": "2024-05-23T00:11:09.453Z"
   },
   {
    "duration": 50,
    "start_time": "2024-05-23T00:11:09.463Z"
   },
   {
    "duration": 6,
    "start_time": "2024-05-23T00:11:09.516Z"
   },
   {
    "duration": 17,
    "start_time": "2024-05-23T00:11:09.529Z"
   },
   {
    "duration": 25,
    "start_time": "2024-05-23T00:11:09.549Z"
   },
   {
    "duration": 18,
    "start_time": "2024-05-23T00:11:09.613Z"
   },
   {
    "duration": 79,
    "start_time": "2024-05-23T00:11:09.634Z"
   },
   {
    "duration": 27,
    "start_time": "2024-05-23T00:11:09.716Z"
   },
   {
    "duration": 21,
    "start_time": "2024-05-23T00:11:09.746Z"
   },
   {
    "duration": 44,
    "start_time": "2024-05-23T00:11:09.770Z"
   },
   {
    "duration": 28,
    "start_time": "2024-05-23T00:11:09.817Z"
   },
   {
    "duration": 17,
    "start_time": "2024-05-23T00:11:09.848Z"
   },
   {
    "duration": 50,
    "start_time": "2024-05-23T00:11:09.868Z"
   },
   {
    "duration": 17,
    "start_time": "2024-05-23T00:11:09.921Z"
   },
   {
    "duration": 92,
    "start_time": "2024-05-23T00:11:09.941Z"
   },
   {
    "duration": 23,
    "start_time": "2024-05-23T00:11:10.036Z"
   },
   {
    "duration": 5,
    "start_time": "2024-05-23T00:11:10.062Z"
   },
   {
    "duration": 52,
    "start_time": "2024-05-23T00:11:10.076Z"
   },
   {
    "duration": 19,
    "start_time": "2024-05-23T00:11:10.131Z"
   },
   {
    "duration": 27,
    "start_time": "2024-05-23T00:11:10.154Z"
   },
   {
    "duration": 43,
    "start_time": "2024-05-23T00:11:10.183Z"
   },
   {
    "duration": 15,
    "start_time": "2024-05-23T00:11:10.229Z"
   },
   {
    "duration": 18,
    "start_time": "2024-05-23T00:11:10.247Z"
   },
   {
    "duration": 54,
    "start_time": "2024-05-23T00:11:10.269Z"
   },
   {
    "duration": 13,
    "start_time": "2024-05-23T00:11:10.326Z"
   },
   {
    "duration": 21,
    "start_time": "2024-05-23T00:11:10.342Z"
   },
   {
    "duration": 46,
    "start_time": "2024-05-23T00:11:10.369Z"
   },
   {
    "duration": 16,
    "start_time": "2024-05-23T00:11:10.418Z"
   },
   {
    "duration": 15,
    "start_time": "2024-05-23T00:11:10.436Z"
   },
   {
    "duration": 17,
    "start_time": "2024-05-23T00:11:10.454Z"
   },
   {
    "duration": 48,
    "start_time": "2024-05-23T00:11:10.475Z"
   },
   {
    "duration": 19,
    "start_time": "2024-05-23T00:11:10.525Z"
   },
   {
    "duration": 10,
    "start_time": "2024-05-23T00:11:10.547Z"
   },
   {
    "duration": 50,
    "start_time": "2024-05-23T00:11:10.562Z"
   },
   {
    "duration": 27,
    "start_time": "2024-05-23T00:11:10.615Z"
   },
   {
    "duration": 28,
    "start_time": "2024-05-23T00:11:10.645Z"
   },
   {
    "duration": 37,
    "start_time": "2024-05-23T00:11:10.676Z"
   },
   {
    "duration": 69,
    "start_time": "2024-05-23T00:11:10.717Z"
   },
   {
    "duration": 41,
    "start_time": "2024-05-23T00:11:10.789Z"
   },
   {
    "duration": 9,
    "start_time": "2024-05-23T00:11:10.833Z"
   },
   {
    "duration": 15,
    "start_time": "2024-05-23T00:11:10.845Z"
   },
   {
    "duration": 416,
    "start_time": "2024-05-23T00:11:10.863Z"
   },
   {
    "duration": 13,
    "start_time": "2024-05-23T00:11:11.281Z"
   },
   {
    "duration": 307,
    "start_time": "2024-05-23T00:11:11.312Z"
   },
   {
    "duration": 13,
    "start_time": "2024-05-23T00:11:11.622Z"
   },
   {
    "duration": 7,
    "start_time": "2024-05-23T00:11:11.639Z"
   },
   {
    "duration": 13,
    "start_time": "2024-05-23T00:11:11.649Z"
   },
   {
    "duration": 394,
    "start_time": "2024-05-23T00:11:11.664Z"
   },
   {
    "duration": 292,
    "start_time": "2024-05-23T00:11:12.060Z"
   },
   {
    "duration": 15,
    "start_time": "2024-05-23T00:11:12.355Z"
   },
   {
    "duration": 40,
    "start_time": "2024-05-23T00:11:12.372Z"
   },
   {
    "duration": 355,
    "start_time": "2024-05-23T00:11:12.415Z"
   },
   {
    "duration": 351,
    "start_time": "2024-05-23T00:11:12.773Z"
   },
   {
    "duration": 4,
    "start_time": "2024-05-23T00:11:13.126Z"
   },
   {
    "duration": 3,
    "start_time": "2024-05-23T00:11:13.134Z"
   },
   {
    "duration": 261,
    "start_time": "2024-05-23T00:11:47.081Z"
   },
   {
    "duration": 14,
    "start_time": "2024-05-23T00:12:50.289Z"
   },
   {
    "duration": 25,
    "start_time": "2024-05-23T00:13:10.981Z"
   },
   {
    "duration": 14,
    "start_time": "2024-05-23T00:13:21.751Z"
   },
   {
    "duration": 12,
    "start_time": "2024-05-23T00:13:26.171Z"
   },
   {
    "duration": 13,
    "start_time": "2024-05-23T00:14:47.596Z"
   },
   {
    "duration": 12,
    "start_time": "2024-05-23T00:16:20.301Z"
   },
   {
    "duration": 191,
    "start_time": "2024-05-23T00:36:42.390Z"
   },
   {
    "duration": 1269,
    "start_time": "2024-05-23T00:38:02.109Z"
   },
   {
    "duration": 916,
    "start_time": "2024-05-23T00:38:32.180Z"
   },
   {
    "duration": 7,
    "start_time": "2024-05-23T00:38:55.491Z"
   },
   {
    "duration": 14,
    "start_time": "2024-05-23T00:39:23.603Z"
   },
   {
    "duration": 8,
    "start_time": "2024-05-23T00:40:25.813Z"
   },
   {
    "duration": 12,
    "start_time": "2024-05-23T00:40:37.420Z"
   },
   {
    "duration": 13,
    "start_time": "2024-05-23T00:41:00.558Z"
   },
   {
    "duration": 23,
    "start_time": "2024-05-23T00:46:53.316Z"
   },
   {
    "duration": 11,
    "start_time": "2024-05-23T00:46:59.516Z"
   },
   {
    "duration": 22,
    "start_time": "2024-05-23T00:47:00.282Z"
   },
   {
    "duration": 29,
    "start_time": "2024-05-23T00:47:17.482Z"
   },
   {
    "duration": 14,
    "start_time": "2024-05-23T00:47:31.892Z"
   },
   {
    "duration": 288,
    "start_time": "2024-05-23T00:47:57.920Z"
   },
   {
    "duration": 14,
    "start_time": "2024-05-23T00:49:50.936Z"
   },
   {
    "duration": 33,
    "start_time": "2024-05-23T00:50:50.274Z"
   },
   {
    "duration": 13,
    "start_time": "2024-05-23T00:51:04.253Z"
   },
   {
    "duration": 8,
    "start_time": "2024-05-23T00:51:41.221Z"
   },
   {
    "duration": 1895,
    "start_time": "2024-05-23T00:51:45.506Z"
   },
   {
    "duration": 29,
    "start_time": "2024-05-23T00:52:42.057Z"
   },
   {
    "duration": 9,
    "start_time": "2024-05-23T00:52:51.368Z"
   },
   {
    "duration": 283,
    "start_time": "2024-05-23T00:53:13.192Z"
   },
   {
    "duration": 33,
    "start_time": "2024-05-23T00:56:02.722Z"
   },
   {
    "duration": 11,
    "start_time": "2024-05-23T02:15:54.828Z"
   },
   {
    "duration": 20,
    "start_time": "2024-05-23T02:16:07.662Z"
   },
   {
    "duration": 266,
    "start_time": "2024-05-23T02:18:00.517Z"
   },
   {
    "duration": 247,
    "start_time": "2024-05-23T02:19:09.686Z"
   },
   {
    "duration": 12,
    "start_time": "2024-05-23T02:19:21.941Z"
   },
   {
    "duration": 13,
    "start_time": "2024-05-23T02:20:06.723Z"
   },
   {
    "duration": 308,
    "start_time": "2024-05-23T03:06:53.090Z"
   },
   {
    "duration": 8,
    "start_time": "2024-05-23T03:09:11.899Z"
   },
   {
    "duration": 304,
    "start_time": "2024-05-23T03:09:25.066Z"
   },
   {
    "duration": 397,
    "start_time": "2024-05-23T03:11:02.861Z"
   },
   {
    "duration": 193,
    "start_time": "2024-05-23T03:11:17.777Z"
   },
   {
    "duration": 13,
    "start_time": "2024-05-23T03:12:25.687Z"
   },
   {
    "duration": 7,
    "start_time": "2024-05-23T03:12:38.447Z"
   },
   {
    "duration": 10,
    "start_time": "2024-05-23T03:12:39.927Z"
   },
   {
    "duration": 9,
    "start_time": "2024-05-23T03:12:49.299Z"
   },
   {
    "duration": 255,
    "start_time": "2024-05-23T03:16:54.342Z"
   },
   {
    "duration": 290,
    "start_time": "2024-05-23T03:17:09.476Z"
   },
   {
    "duration": 13,
    "start_time": "2024-05-23T03:18:24.640Z"
   },
   {
    "duration": 12,
    "start_time": "2024-05-23T03:18:34.337Z"
   },
   {
    "duration": 7,
    "start_time": "2024-05-23T03:24:42.162Z"
   },
   {
    "duration": 29,
    "start_time": "2024-05-23T03:30:12.454Z"
   },
   {
    "duration": 1185,
    "start_time": "2024-05-23T03:30:28.963Z"
   },
   {
    "duration": 305,
    "start_time": "2024-05-23T03:30:30.152Z"
   },
   {
    "duration": 27,
    "start_time": "2024-05-23T03:30:30.460Z"
   },
   {
    "duration": 29,
    "start_time": "2024-05-23T03:30:30.492Z"
   },
   {
    "duration": 14,
    "start_time": "2024-05-23T03:30:30.524Z"
   },
   {
    "duration": 15,
    "start_time": "2024-05-23T03:30:30.542Z"
   },
   {
    "duration": 55,
    "start_time": "2024-05-23T03:30:30.560Z"
   },
   {
    "duration": 4,
    "start_time": "2024-05-23T03:30:30.618Z"
   },
   {
    "duration": 9,
    "start_time": "2024-05-23T03:30:30.625Z"
   },
   {
    "duration": 5,
    "start_time": "2024-05-23T03:30:30.641Z"
   },
   {
    "duration": 5,
    "start_time": "2024-05-23T03:30:30.649Z"
   },
   {
    "duration": 7,
    "start_time": "2024-05-23T03:30:30.657Z"
   },
   {
    "duration": 7,
    "start_time": "2024-05-23T03:30:30.713Z"
   },
   {
    "duration": 16,
    "start_time": "2024-05-23T03:30:30.723Z"
   },
   {
    "duration": 25,
    "start_time": "2024-05-23T03:30:30.742Z"
   },
   {
    "duration": 49,
    "start_time": "2024-05-23T03:30:30.770Z"
   },
   {
    "duration": 56,
    "start_time": "2024-05-23T03:30:30.821Z"
   },
   {
    "duration": 51,
    "start_time": "2024-05-23T03:30:30.880Z"
   },
   {
    "duration": 19,
    "start_time": "2024-05-23T03:30:30.935Z"
   },
   {
    "duration": 16,
    "start_time": "2024-05-23T03:30:30.960Z"
   },
   {
    "duration": 30,
    "start_time": "2024-05-23T03:30:31.011Z"
   },
   {
    "duration": 18,
    "start_time": "2024-05-23T03:30:31.044Z"
   },
   {
    "duration": 50,
    "start_time": "2024-05-23T03:30:31.065Z"
   },
   {
    "duration": 16,
    "start_time": "2024-05-23T03:30:31.118Z"
   },
   {
    "duration": 89,
    "start_time": "2024-05-23T03:30:31.137Z"
   },
   {
    "duration": 23,
    "start_time": "2024-05-23T03:30:31.229Z"
   },
   {
    "duration": 6,
    "start_time": "2024-05-23T03:30:31.255Z"
   },
   {
    "duration": 51,
    "start_time": "2024-05-23T03:30:31.273Z"
   },
   {
    "duration": 19,
    "start_time": "2024-05-23T03:30:31.327Z"
   },
   {
    "duration": 25,
    "start_time": "2024-05-23T03:30:31.348Z"
   },
   {
    "duration": 51,
    "start_time": "2024-05-23T03:30:31.376Z"
   },
   {
    "duration": 16,
    "start_time": "2024-05-23T03:30:31.430Z"
   },
   {
    "duration": 19,
    "start_time": "2024-05-23T03:30:31.449Z"
   },
   {
    "duration": 44,
    "start_time": "2024-05-23T03:30:31.471Z"
   },
   {
    "duration": 13,
    "start_time": "2024-05-23T03:30:31.520Z"
   },
   {
    "duration": 16,
    "start_time": "2024-05-23T03:30:31.536Z"
   },
   {
    "duration": 14,
    "start_time": "2024-05-23T03:30:31.556Z"
   },
   {
    "duration": 52,
    "start_time": "2024-05-23T03:30:31.573Z"
   },
   {
    "duration": 15,
    "start_time": "2024-05-23T03:30:31.628Z"
   },
   {
    "duration": 19,
    "start_time": "2024-05-23T03:30:31.647Z"
   },
   {
    "duration": 53,
    "start_time": "2024-05-23T03:30:31.668Z"
   },
   {
    "duration": 17,
    "start_time": "2024-05-23T03:30:31.724Z"
   },
   {
    "duration": 10,
    "start_time": "2024-05-23T03:30:31.743Z"
   },
   {
    "duration": 12,
    "start_time": "2024-05-23T03:30:31.755Z"
   },
   {
    "duration": 63,
    "start_time": "2024-05-23T03:30:31.770Z"
   },
   {
    "duration": 29,
    "start_time": "2024-05-23T03:30:31.835Z"
   },
   {
    "duration": 5,
    "start_time": "2024-05-23T03:30:31.867Z"
   },
   {
    "duration": 100,
    "start_time": "2024-05-23T03:30:31.876Z"
   },
   {
    "duration": 37,
    "start_time": "2024-05-23T03:30:31.979Z"
   },
   {
    "duration": 10,
    "start_time": "2024-05-23T03:30:32.019Z"
   },
   {
    "duration": 14,
    "start_time": "2024-05-23T03:30:32.032Z"
   },
   {
    "duration": 390,
    "start_time": "2024-05-23T03:30:32.050Z"
   },
   {
    "duration": 8,
    "start_time": "2024-05-23T03:30:32.443Z"
   },
   {
    "duration": 334,
    "start_time": "2024-05-23T03:30:32.454Z"
   },
   {
    "duration": 27,
    "start_time": "2024-05-23T03:30:32.792Z"
   },
   {
    "duration": 8,
    "start_time": "2024-05-23T03:30:32.822Z"
   },
   {
    "duration": 12,
    "start_time": "2024-05-23T03:30:32.833Z"
   },
   {
    "duration": 314,
    "start_time": "2024-05-23T03:30:32.848Z"
   },
   {
    "duration": 280,
    "start_time": "2024-05-23T03:30:33.167Z"
   },
   {
    "duration": 13,
    "start_time": "2024-05-23T03:30:33.450Z"
   },
   {
    "duration": 13,
    "start_time": "2024-05-23T03:30:33.465Z"
   },
   {
    "duration": 312,
    "start_time": "2024-05-23T03:30:33.482Z"
   },
   {
    "duration": 26,
    "start_time": "2024-05-23T03:30:33.797Z"
   },
   {
    "duration": 13,
    "start_time": "2024-05-23T03:30:33.826Z"
   },
   {
    "duration": 337,
    "start_time": "2024-05-23T03:30:33.843Z"
   },
   {
    "duration": 13,
    "start_time": "2024-05-23T03:30:34.183Z"
   },
   {
    "duration": 14,
    "start_time": "2024-05-23T03:30:34.212Z"
   },
   {
    "duration": 7,
    "start_time": "2024-05-23T03:30:34.229Z"
   },
   {
    "duration": 2,
    "start_time": "2024-05-23T03:30:34.247Z"
   },
   {
    "duration": 34,
    "start_time": "2024-05-23T03:32:01.491Z"
   },
   {
    "duration": 9,
    "start_time": "2024-05-23T03:34:12.263Z"
   },
   {
    "duration": 12,
    "start_time": "2024-05-23T03:39:07.322Z"
   },
   {
    "duration": 12,
    "start_time": "2024-05-23T03:39:14.621Z"
   },
   {
    "duration": 14,
    "start_time": "2024-05-23T03:40:11.922Z"
   },
   {
    "duration": 257,
    "start_time": "2024-05-23T03:48:06.088Z"
   },
   {
    "duration": 236,
    "start_time": "2024-05-23T03:48:37.776Z"
   },
   {
    "duration": 442,
    "start_time": "2024-05-23T06:11:54.108Z"
   },
   {
    "duration": 7144,
    "start_time": "2024-05-23T06:12:06.861Z"
   },
   {
    "duration": 480,
    "start_time": "2024-05-23T06:12:14.009Z"
   },
   {
    "duration": 38,
    "start_time": "2024-05-23T06:12:14.492Z"
   },
   {
    "duration": 15,
    "start_time": "2024-05-23T06:12:14.535Z"
   },
   {
    "duration": 16,
    "start_time": "2024-05-23T06:12:14.553Z"
   },
   {
    "duration": 16,
    "start_time": "2024-05-23T06:12:14.572Z"
   },
   {
    "duration": 65,
    "start_time": "2024-05-23T06:12:14.591Z"
   },
   {
    "duration": 8,
    "start_time": "2024-05-23T06:12:14.667Z"
   },
   {
    "duration": 12,
    "start_time": "2024-05-23T06:12:14.685Z"
   },
   {
    "duration": 7,
    "start_time": "2024-05-23T06:12:14.707Z"
   },
   {
    "duration": 19,
    "start_time": "2024-05-23T06:12:14.718Z"
   },
   {
    "duration": 6,
    "start_time": "2024-05-23T06:12:14.740Z"
   },
   {
    "duration": 6,
    "start_time": "2024-05-23T06:12:14.750Z"
   },
   {
    "duration": 21,
    "start_time": "2024-05-23T06:12:14.760Z"
   },
   {
    "duration": 69,
    "start_time": "2024-05-23T06:12:14.785Z"
   },
   {
    "duration": 21,
    "start_time": "2024-05-23T06:12:14.857Z"
   },
   {
    "duration": 102,
    "start_time": "2024-05-23T06:12:14.882Z"
   },
   {
    "duration": 45,
    "start_time": "2024-05-23T06:12:14.990Z"
   },
   {
    "duration": 31,
    "start_time": "2024-05-23T06:12:15.042Z"
   },
   {
    "duration": 27,
    "start_time": "2024-05-23T06:12:15.076Z"
   },
   {
    "duration": 52,
    "start_time": "2024-05-23T06:12:15.109Z"
   },
   {
    "duration": 25,
    "start_time": "2024-05-23T06:12:15.165Z"
   },
   {
    "duration": 52,
    "start_time": "2024-05-23T06:12:15.194Z"
   },
   {
    "duration": 20,
    "start_time": "2024-05-23T06:12:15.250Z"
   },
   {
    "duration": 114,
    "start_time": "2024-05-23T06:12:15.273Z"
   },
   {
    "duration": 44,
    "start_time": "2024-05-23T06:12:15.390Z"
   },
   {
    "duration": 10,
    "start_time": "2024-05-23T06:12:15.442Z"
   },
   {
    "duration": 37,
    "start_time": "2024-05-23T06:12:15.467Z"
   },
   {
    "duration": 36,
    "start_time": "2024-05-23T06:12:15.508Z"
   },
   {
    "duration": 29,
    "start_time": "2024-05-23T06:12:15.547Z"
   },
   {
    "duration": 24,
    "start_time": "2024-05-23T06:12:15.580Z"
   },
   {
    "duration": 43,
    "start_time": "2024-05-23T06:12:15.607Z"
   },
   {
    "duration": 24,
    "start_time": "2024-05-23T06:12:15.653Z"
   },
   {
    "duration": 17,
    "start_time": "2024-05-23T06:12:15.680Z"
   },
   {
    "duration": 46,
    "start_time": "2024-05-23T06:12:15.701Z"
   },
   {
    "duration": 18,
    "start_time": "2024-05-23T06:12:15.750Z"
   },
   {
    "duration": 16,
    "start_time": "2024-05-23T06:12:15.772Z"
   },
   {
    "duration": 50,
    "start_time": "2024-05-23T06:12:15.791Z"
   },
   {
    "duration": 16,
    "start_time": "2024-05-23T06:12:15.845Z"
   },
   {
    "duration": 21,
    "start_time": "2024-05-23T06:12:15.864Z"
   },
   {
    "duration": 18,
    "start_time": "2024-05-23T06:12:15.888Z"
   },
   {
    "duration": 21,
    "start_time": "2024-05-23T06:12:15.935Z"
   },
   {
    "duration": 12,
    "start_time": "2024-05-23T06:12:15.959Z"
   },
   {
    "duration": 11,
    "start_time": "2024-05-23T06:12:15.974Z"
   },
   {
    "duration": 58,
    "start_time": "2024-05-23T06:12:15.992Z"
   },
   {
    "duration": 37,
    "start_time": "2024-05-23T06:12:16.053Z"
   },
   {
    "duration": 5,
    "start_time": "2024-05-23T06:12:16.094Z"
   },
   {
    "duration": 110,
    "start_time": "2024-05-23T06:12:16.103Z"
   },
   {
    "duration": 42,
    "start_time": "2024-05-23T06:12:16.218Z"
   },
   {
    "duration": 14,
    "start_time": "2024-05-23T06:12:16.271Z"
   },
   {
    "duration": 22,
    "start_time": "2024-05-23T06:12:16.290Z"
   },
   {
    "duration": 503,
    "start_time": "2024-05-23T06:12:16.315Z"
   },
   {
    "duration": 20,
    "start_time": "2024-05-23T06:12:16.822Z"
   },
   {
    "duration": 416,
    "start_time": "2024-05-23T06:12:16.846Z"
   },
   {
    "duration": 14,
    "start_time": "2024-05-23T06:12:17.266Z"
   },
   {
    "duration": 9,
    "start_time": "2024-05-23T06:12:17.284Z"
   },
   {
    "duration": 41,
    "start_time": "2024-05-23T06:12:17.297Z"
   },
   {
    "duration": 278,
    "start_time": "2024-05-23T06:12:17.342Z"
   },
   {
    "duration": 389,
    "start_time": "2024-05-23T06:12:17.624Z"
   },
   {
    "duration": 518,
    "start_time": "2024-05-23T06:12:18.016Z"
   },
   {
    "duration": 0,
    "start_time": "2024-05-23T06:12:18.537Z"
   },
   {
    "duration": 0,
    "start_time": "2024-05-23T06:12:18.540Z"
   },
   {
    "duration": 0,
    "start_time": "2024-05-23T06:12:18.542Z"
   },
   {
    "duration": 0,
    "start_time": "2024-05-23T06:12:18.543Z"
   },
   {
    "duration": 0,
    "start_time": "2024-05-23T06:12:18.545Z"
   },
   {
    "duration": 0,
    "start_time": "2024-05-23T06:12:18.548Z"
   },
   {
    "duration": 0,
    "start_time": "2024-05-23T06:12:18.549Z"
   },
   {
    "duration": 0,
    "start_time": "2024-05-23T06:12:18.551Z"
   },
   {
    "duration": 0,
    "start_time": "2024-05-23T06:12:18.553Z"
   },
   {
    "duration": 4711,
    "start_time": "2024-05-23T15:01:08.996Z"
   },
   {
    "duration": 377,
    "start_time": "2024-05-23T15:01:13.710Z"
   },
   {
    "duration": 28,
    "start_time": "2024-05-23T15:01:14.090Z"
   },
   {
    "duration": 21,
    "start_time": "2024-05-23T15:01:14.122Z"
   },
   {
    "duration": 15,
    "start_time": "2024-05-23T15:01:14.146Z"
   },
   {
    "duration": 15,
    "start_time": "2024-05-23T15:01:14.163Z"
   },
   {
    "duration": 55,
    "start_time": "2024-05-23T15:01:14.181Z"
   },
   {
    "duration": 5,
    "start_time": "2024-05-23T15:01:14.239Z"
   },
   {
    "duration": 9,
    "start_time": "2024-05-23T15:01:14.247Z"
   },
   {
    "duration": 5,
    "start_time": "2024-05-23T15:01:14.263Z"
   },
   {
    "duration": 6,
    "start_time": "2024-05-23T15:01:14.271Z"
   },
   {
    "duration": 55,
    "start_time": "2024-05-23T15:01:14.281Z"
   },
   {
    "duration": 6,
    "start_time": "2024-05-23T15:01:14.339Z"
   },
   {
    "duration": 16,
    "start_time": "2024-05-23T15:01:14.349Z"
   },
   {
    "duration": 25,
    "start_time": "2024-05-23T15:01:14.368Z"
   },
   {
    "duration": 17,
    "start_time": "2024-05-23T15:01:14.436Z"
   },
   {
    "duration": 78,
    "start_time": "2024-05-23T15:01:14.456Z"
   },
   {
    "duration": 26,
    "start_time": "2024-05-23T15:01:14.537Z"
   },
   {
    "duration": 19,
    "start_time": "2024-05-23T15:01:14.566Z"
   },
   {
    "duration": 46,
    "start_time": "2024-05-23T15:01:14.588Z"
   },
   {
    "duration": 30,
    "start_time": "2024-05-23T15:01:14.637Z"
   },
   {
    "duration": 19,
    "start_time": "2024-05-23T15:01:14.670Z"
   },
   {
    "duration": 51,
    "start_time": "2024-05-23T15:01:14.692Z"
   },
   {
    "duration": 20,
    "start_time": "2024-05-23T15:01:14.746Z"
   },
   {
    "duration": 96,
    "start_time": "2024-05-23T15:01:14.770Z"
   },
   {
    "duration": 23,
    "start_time": "2024-05-23T15:01:14.869Z"
   },
   {
    "duration": 5,
    "start_time": "2024-05-23T15:01:14.894Z"
   },
   {
    "duration": 48,
    "start_time": "2024-05-23T15:01:14.908Z"
   },
   {
    "duration": 17,
    "start_time": "2024-05-23T15:01:14.959Z"
   },
   {
    "duration": 23,
    "start_time": "2024-05-23T15:01:14.979Z"
   },
   {
    "duration": 18,
    "start_time": "2024-05-23T15:01:15.035Z"
   },
   {
    "duration": 18,
    "start_time": "2024-05-23T15:01:15.055Z"
   },
   {
    "duration": 19,
    "start_time": "2024-05-23T15:01:15.076Z"
   },
   {
    "duration": 50,
    "start_time": "2024-05-23T15:01:15.097Z"
   },
   {
    "duration": 13,
    "start_time": "2024-05-23T15:01:15.150Z"
   },
   {
    "duration": 16,
    "start_time": "2024-05-23T15:01:15.166Z"
   },
   {
    "duration": 57,
    "start_time": "2024-05-23T15:01:15.185Z"
   },
   {
    "duration": 17,
    "start_time": "2024-05-23T15:01:15.244Z"
   },
   {
    "duration": 14,
    "start_time": "2024-05-23T15:01:15.264Z"
   },
   {
    "duration": 18,
    "start_time": "2024-05-23T15:01:15.281Z"
   },
   {
    "duration": 16,
    "start_time": "2024-05-23T15:01:15.335Z"
   },
   {
    "duration": 16,
    "start_time": "2024-05-23T15:01:15.354Z"
   },
   {
    "duration": 12,
    "start_time": "2024-05-23T15:01:15.373Z"
   },
   {
    "duration": 57,
    "start_time": "2024-05-23T15:01:15.387Z"
   },
   {
    "duration": 28,
    "start_time": "2024-05-23T15:01:15.446Z"
   },
   {
    "duration": 29,
    "start_time": "2024-05-23T15:01:15.477Z"
   },
   {
    "duration": 4,
    "start_time": "2024-05-23T15:01:15.509Z"
   },
   {
    "duration": 145,
    "start_time": "2024-05-23T15:01:15.535Z"
   },
   {
    "duration": 27,
    "start_time": "2024-05-23T15:01:15.683Z"
   },
   {
    "duration": 27,
    "start_time": "2024-05-23T15:01:15.713Z"
   },
   {
    "duration": 15,
    "start_time": "2024-05-23T15:01:15.743Z"
   },
   {
    "duration": 427,
    "start_time": "2024-05-23T15:01:15.762Z"
   },
   {
    "duration": 8,
    "start_time": "2024-05-23T15:01:16.192Z"
   },
   {
    "duration": 332,
    "start_time": "2024-05-23T15:01:16.203Z"
   },
   {
    "duration": 14,
    "start_time": "2024-05-23T15:01:16.538Z"
   },
   {
    "duration": 6,
    "start_time": "2024-05-23T15:01:16.555Z"
   },
   {
    "duration": 11,
    "start_time": "2024-05-23T15:01:16.564Z"
   },
   {
    "duration": 241,
    "start_time": "2024-05-23T15:01:16.577Z"
   },
   {
    "duration": 282,
    "start_time": "2024-05-23T15:01:16.821Z"
   },
   {
    "duration": 404,
    "start_time": "2024-05-23T15:01:17.106Z"
   },
   {
    "duration": 0,
    "start_time": "2024-05-23T15:01:17.513Z"
   },
   {
    "duration": 0,
    "start_time": "2024-05-23T15:01:17.514Z"
   },
   {
    "duration": 0,
    "start_time": "2024-05-23T15:01:17.517Z"
   },
   {
    "duration": 0,
    "start_time": "2024-05-23T15:01:17.518Z"
   },
   {
    "duration": 0,
    "start_time": "2024-05-23T15:01:17.520Z"
   },
   {
    "duration": 0,
    "start_time": "2024-05-23T15:01:17.534Z"
   },
   {
    "duration": 0,
    "start_time": "2024-05-23T15:01:17.536Z"
   },
   {
    "duration": 0,
    "start_time": "2024-05-23T15:01:17.541Z"
   },
   {
    "duration": 0,
    "start_time": "2024-05-23T15:01:17.543Z"
   },
   {
    "duration": 18,
    "start_time": "2024-05-23T15:08:42.312Z"
   },
   {
    "duration": 315,
    "start_time": "2024-05-24T13:32:36.337Z"
   },
   {
    "duration": 5013,
    "start_time": "2024-05-24T13:32:47.730Z"
   },
   {
    "duration": 419,
    "start_time": "2024-05-24T13:32:52.747Z"
   },
   {
    "duration": 30,
    "start_time": "2024-05-24T13:32:53.170Z"
   },
   {
    "duration": 26,
    "start_time": "2024-05-24T13:32:53.205Z"
   },
   {
    "duration": 15,
    "start_time": "2024-05-24T13:32:53.235Z"
   },
   {
    "duration": 15,
    "start_time": "2024-05-24T13:32:53.254Z"
   },
   {
    "duration": 59,
    "start_time": "2024-05-24T13:32:53.272Z"
   },
   {
    "duration": 6,
    "start_time": "2024-05-24T13:32:53.334Z"
   },
   {
    "duration": 8,
    "start_time": "2024-05-24T13:32:53.344Z"
   },
   {
    "duration": 6,
    "start_time": "2024-05-24T13:32:53.358Z"
   },
   {
    "duration": 7,
    "start_time": "2024-05-24T13:32:53.367Z"
   },
   {
    "duration": 50,
    "start_time": "2024-05-24T13:32:53.377Z"
   },
   {
    "duration": 5,
    "start_time": "2024-05-24T13:32:53.431Z"
   },
   {
    "duration": 27,
    "start_time": "2024-05-24T13:32:53.440Z"
   },
   {
    "duration": 58,
    "start_time": "2024-05-24T13:32:53.470Z"
   },
   {
    "duration": 19,
    "start_time": "2024-05-24T13:32:53.531Z"
   },
   {
    "duration": 90,
    "start_time": "2024-05-24T13:32:53.553Z"
   },
   {
    "duration": 28,
    "start_time": "2024-05-24T13:32:53.647Z"
   },
   {
    "duration": 21,
    "start_time": "2024-05-24T13:32:53.677Z"
   },
   {
    "duration": 14,
    "start_time": "2024-05-24T13:32:53.727Z"
   },
   {
    "duration": 32,
    "start_time": "2024-05-24T13:32:53.745Z"
   },
   {
    "duration": 55,
    "start_time": "2024-05-24T13:32:53.781Z"
   },
   {
    "duration": 23,
    "start_time": "2024-05-24T13:32:53.839Z"
   },
   {
    "duration": 16,
    "start_time": "2024-05-24T13:32:53.866Z"
   },
   {
    "duration": 108,
    "start_time": "2024-05-24T13:32:53.886Z"
   },
   {
    "duration": 44,
    "start_time": "2024-05-24T13:32:53.998Z"
   },
   {
    "duration": 8,
    "start_time": "2024-05-24T13:32:54.046Z"
   },
   {
    "duration": 26,
    "start_time": "2024-05-24T13:32:54.067Z"
   },
   {
    "duration": 18,
    "start_time": "2024-05-24T13:32:54.127Z"
   },
   {
    "duration": 25,
    "start_time": "2024-05-24T13:32:54.148Z"
   },
   {
    "duration": 57,
    "start_time": "2024-05-24T13:32:54.176Z"
   },
   {
    "duration": 18,
    "start_time": "2024-05-24T13:32:54.237Z"
   },
   {
    "duration": 20,
    "start_time": "2024-05-24T13:32:54.258Z"
   },
   {
    "duration": 54,
    "start_time": "2024-05-24T13:32:54.282Z"
   },
   {
    "duration": 13,
    "start_time": "2024-05-24T13:32:54.339Z"
   },
   {
    "duration": 18,
    "start_time": "2024-05-24T13:32:54.355Z"
   },
   {
    "duration": 50,
    "start_time": "2024-05-24T13:32:54.376Z"
   },
   {
    "duration": 17,
    "start_time": "2024-05-24T13:32:54.430Z"
   },
   {
    "duration": 15,
    "start_time": "2024-05-24T13:32:54.451Z"
   },
   {
    "duration": 57,
    "start_time": "2024-05-24T13:32:54.469Z"
   },
   {
    "duration": 16,
    "start_time": "2024-05-24T13:32:54.529Z"
   },
   {
    "duration": 17,
    "start_time": "2024-05-24T13:32:54.548Z"
   },
   {
    "duration": 10,
    "start_time": "2024-05-24T13:32:54.568Z"
   },
   {
    "duration": 52,
    "start_time": "2024-05-24T13:32:54.581Z"
   },
   {
    "duration": 28,
    "start_time": "2024-05-24T13:32:54.636Z"
   },
   {
    "duration": 61,
    "start_time": "2024-05-24T13:32:54.667Z"
   },
   {
    "duration": 6,
    "start_time": "2024-05-24T13:32:54.731Z"
   },
   {
    "duration": 95,
    "start_time": "2024-05-24T13:32:54.739Z"
   },
   {
    "duration": 27,
    "start_time": "2024-05-24T13:32:54.837Z"
   },
   {
    "duration": 10,
    "start_time": "2024-05-24T13:32:54.868Z"
   },
   {
    "duration": 47,
    "start_time": "2024-05-24T13:32:54.882Z"
   },
   {
    "duration": 417,
    "start_time": "2024-05-24T13:32:54.933Z"
   },
   {
    "duration": 9,
    "start_time": "2024-05-24T13:32:55.354Z"
   },
   {
    "duration": 354,
    "start_time": "2024-05-24T13:32:55.366Z"
   },
   {
    "duration": 15,
    "start_time": "2024-05-24T13:32:55.723Z"
   },
   {
    "duration": 7,
    "start_time": "2024-05-24T13:32:55.742Z"
   },
   {
    "duration": 9,
    "start_time": "2024-05-24T13:32:55.753Z"
   },
   {
    "duration": 263,
    "start_time": "2024-05-24T13:32:55.766Z"
   },
   {
    "duration": 281,
    "start_time": "2024-05-24T13:32:56.032Z"
   },
   {
    "duration": 483,
    "start_time": "2024-05-24T13:32:56.317Z"
   },
   {
    "duration": 0,
    "start_time": "2024-05-24T13:32:56.803Z"
   },
   {
    "duration": 0,
    "start_time": "2024-05-24T13:32:56.806Z"
   },
   {
    "duration": 0,
    "start_time": "2024-05-24T13:32:56.809Z"
   },
   {
    "duration": 0,
    "start_time": "2024-05-24T13:32:56.827Z"
   },
   {
    "duration": 0,
    "start_time": "2024-05-24T13:32:56.829Z"
   },
   {
    "duration": 0,
    "start_time": "2024-05-24T13:32:56.831Z"
   },
   {
    "duration": 0,
    "start_time": "2024-05-24T13:32:56.833Z"
   },
   {
    "duration": 0,
    "start_time": "2024-05-24T13:32:56.836Z"
   },
   {
    "duration": 0,
    "start_time": "2024-05-24T13:32:56.839Z"
   },
   {
    "duration": 18,
    "start_time": "2024-05-24T13:34:28.148Z"
   },
   {
    "duration": 10,
    "start_time": "2024-05-24T13:34:38.713Z"
   },
   {
    "duration": 10,
    "start_time": "2024-05-24T13:34:39.467Z"
   },
   {
    "duration": 27,
    "start_time": "2024-05-24T13:34:40.083Z"
   },
   {
    "duration": 1273,
    "start_time": "2024-05-24T13:34:50.923Z"
   },
   {
    "duration": 300,
    "start_time": "2024-05-24T13:34:52.200Z"
   },
   {
    "duration": 31,
    "start_time": "2024-05-24T13:34:52.503Z"
   },
   {
    "duration": 15,
    "start_time": "2024-05-24T13:34:52.538Z"
   },
   {
    "duration": 17,
    "start_time": "2024-05-24T13:34:52.556Z"
   },
   {
    "duration": 53,
    "start_time": "2024-05-24T13:34:52.576Z"
   },
   {
    "duration": 18,
    "start_time": "2024-05-24T13:34:52.632Z"
   },
   {
    "duration": 5,
    "start_time": "2024-05-24T13:34:52.654Z"
   },
   {
    "duration": 9,
    "start_time": "2024-05-24T13:34:52.663Z"
   },
   {
    "duration": 5,
    "start_time": "2024-05-24T13:34:52.730Z"
   },
   {
    "duration": 5,
    "start_time": "2024-05-24T13:34:52.739Z"
   },
   {
    "duration": 5,
    "start_time": "2024-05-24T13:34:52.748Z"
   },
   {
    "duration": 6,
    "start_time": "2024-05-24T13:34:52.757Z"
   },
   {
    "duration": 62,
    "start_time": "2024-05-24T13:34:52.767Z"
   },
   {
    "duration": 26,
    "start_time": "2024-05-24T13:34:52.833Z"
   },
   {
    "duration": 19,
    "start_time": "2024-05-24T13:34:52.862Z"
   },
   {
    "duration": 99,
    "start_time": "2024-05-24T13:34:52.884Z"
   },
   {
    "duration": 52,
    "start_time": "2024-05-24T13:34:52.986Z"
   },
   {
    "duration": 23,
    "start_time": "2024-05-24T13:34:53.041Z"
   },
   {
    "duration": 15,
    "start_time": "2024-05-24T13:34:53.068Z"
   },
   {
    "duration": 66,
    "start_time": "2024-05-24T13:34:53.086Z"
   },
   {
    "duration": 21,
    "start_time": "2024-05-24T13:34:53.155Z"
   },
   {
    "duration": 52,
    "start_time": "2024-05-24T13:34:53.179Z"
   },
   {
    "duration": 18,
    "start_time": "2024-05-24T13:34:53.235Z"
   },
   {
    "duration": 115,
    "start_time": "2024-05-24T13:34:53.257Z"
   },
   {
    "duration": 25,
    "start_time": "2024-05-24T13:34:53.376Z"
   },
   {
    "duration": 24,
    "start_time": "2024-05-24T13:34:53.404Z"
   },
   {
    "duration": 27,
    "start_time": "2024-05-24T13:34:53.439Z"
   },
   {
    "duration": 17,
    "start_time": "2024-05-24T13:34:53.470Z"
   },
   {
    "duration": 59,
    "start_time": "2024-05-24T13:34:53.491Z"
   },
   {
    "duration": 22,
    "start_time": "2024-05-24T13:34:53.554Z"
   },
   {
    "duration": 49,
    "start_time": "2024-05-24T13:34:53.579Z"
   },
   {
    "duration": 21,
    "start_time": "2024-05-24T13:34:53.632Z"
   },
   {
    "duration": 19,
    "start_time": "2024-05-24T13:34:53.656Z"
   },
   {
    "duration": 49,
    "start_time": "2024-05-24T13:34:53.678Z"
   },
   {
    "duration": 19,
    "start_time": "2024-05-24T13:34:53.731Z"
   },
   {
    "duration": 16,
    "start_time": "2024-05-24T13:34:53.754Z"
   },
   {
    "duration": 59,
    "start_time": "2024-05-24T13:34:53.774Z"
   },
   {
    "duration": 15,
    "start_time": "2024-05-24T13:34:53.838Z"
   },
   {
    "duration": 21,
    "start_time": "2024-05-24T13:34:53.856Z"
   },
   {
    "duration": 52,
    "start_time": "2024-05-24T13:34:53.881Z"
   },
   {
    "duration": 20,
    "start_time": "2024-05-24T13:34:53.935Z"
   },
   {
    "duration": 10,
    "start_time": "2024-05-24T13:34:53.958Z"
   },
   {
    "duration": 14,
    "start_time": "2024-05-24T13:34:53.972Z"
   },
   {
    "duration": 30,
    "start_time": "2024-05-24T13:34:54.026Z"
   },
   {
    "duration": 35,
    "start_time": "2024-05-24T13:34:54.059Z"
   },
   {
    "duration": 5,
    "start_time": "2024-05-24T13:34:54.127Z"
   },
   {
    "duration": 92,
    "start_time": "2024-05-24T13:34:54.136Z"
   },
   {
    "duration": 28,
    "start_time": "2024-05-24T13:34:54.232Z"
   },
   {
    "duration": 11,
    "start_time": "2024-05-24T13:34:54.264Z"
   },
   {
    "duration": 49,
    "start_time": "2024-05-24T13:34:54.279Z"
   },
   {
    "duration": 422,
    "start_time": "2024-05-24T13:34:54.332Z"
   },
   {
    "duration": 10,
    "start_time": "2024-05-24T13:34:54.757Z"
   },
   {
    "duration": 358,
    "start_time": "2024-05-24T13:34:54.770Z"
   },
   {
    "duration": 15,
    "start_time": "2024-05-24T13:34:55.132Z"
   },
   {
    "duration": 9,
    "start_time": "2024-05-24T13:34:55.150Z"
   },
   {
    "duration": 12,
    "start_time": "2024-05-24T13:34:55.163Z"
   },
   {
    "duration": 347,
    "start_time": "2024-05-24T13:34:55.179Z"
   },
   {
    "duration": 273,
    "start_time": "2024-05-24T13:34:55.534Z"
   },
   {
    "duration": 422,
    "start_time": "2024-05-24T13:34:55.810Z"
   },
   {
    "duration": 0,
    "start_time": "2024-05-24T13:34:56.236Z"
   },
   {
    "duration": 0,
    "start_time": "2024-05-24T13:34:56.238Z"
   },
   {
    "duration": 0,
    "start_time": "2024-05-24T13:34:56.240Z"
   },
   {
    "duration": 0,
    "start_time": "2024-05-24T13:34:56.242Z"
   },
   {
    "duration": 0,
    "start_time": "2024-05-24T13:34:56.244Z"
   },
   {
    "duration": 0,
    "start_time": "2024-05-24T13:34:56.247Z"
   },
   {
    "duration": 0,
    "start_time": "2024-05-24T13:34:56.249Z"
   },
   {
    "duration": 0,
    "start_time": "2024-05-24T13:34:56.251Z"
   },
   {
    "duration": 0,
    "start_time": "2024-05-24T13:34:56.253Z"
   },
   {
    "duration": 30,
    "start_time": "2024-05-24T13:39:37.310Z"
   },
   {
    "duration": 14,
    "start_time": "2024-05-24T13:40:05.316Z"
   },
   {
    "duration": 11,
    "start_time": "2024-05-24T13:40:16.215Z"
   },
   {
    "duration": 1254,
    "start_time": "2024-05-24T13:40:27.913Z"
   },
   {
    "duration": 296,
    "start_time": "2024-05-24T13:40:29.171Z"
   },
   {
    "duration": 29,
    "start_time": "2024-05-24T13:40:29.470Z"
   },
   {
    "duration": 29,
    "start_time": "2024-05-24T13:40:29.504Z"
   },
   {
    "duration": 16,
    "start_time": "2024-05-24T13:40:29.536Z"
   },
   {
    "duration": 16,
    "start_time": "2024-05-24T13:40:29.555Z"
   },
   {
    "duration": 54,
    "start_time": "2024-05-24T13:40:29.574Z"
   },
   {
    "duration": 5,
    "start_time": "2024-05-24T13:40:29.631Z"
   },
   {
    "duration": 9,
    "start_time": "2024-05-24T13:40:29.639Z"
   },
   {
    "duration": 8,
    "start_time": "2024-05-24T13:40:29.654Z"
   },
   {
    "duration": 5,
    "start_time": "2024-05-24T13:40:29.665Z"
   },
   {
    "duration": 6,
    "start_time": "2024-05-24T13:40:29.673Z"
   },
   {
    "duration": 6,
    "start_time": "2024-05-24T13:40:29.726Z"
   },
   {
    "duration": 17,
    "start_time": "2024-05-24T13:40:29.736Z"
   },
   {
    "duration": 26,
    "start_time": "2024-05-24T13:40:29.756Z"
   },
   {
    "duration": 18,
    "start_time": "2024-05-24T13:40:29.827Z"
   },
   {
    "duration": 89,
    "start_time": "2024-05-24T13:40:29.849Z"
   },
   {
    "duration": 27,
    "start_time": "2024-05-24T13:40:29.940Z"
   },
   {
    "duration": 22,
    "start_time": "2024-05-24T13:40:29.970Z"
   },
   {
    "duration": 43,
    "start_time": "2024-05-24T13:40:29.995Z"
   },
   {
    "duration": 31,
    "start_time": "2024-05-24T13:40:30.041Z"
   },
   {
    "duration": 53,
    "start_time": "2024-05-24T13:40:30.075Z"
   },
   {
    "duration": 23,
    "start_time": "2024-05-24T13:40:30.131Z"
   },
   {
    "duration": 16,
    "start_time": "2024-05-24T13:40:30.158Z"
   },
   {
    "duration": 104,
    "start_time": "2024-05-24T13:40:30.177Z"
   },
   {
    "duration": 43,
    "start_time": "2024-05-24T13:40:30.284Z"
   },
   {
    "duration": 7,
    "start_time": "2024-05-24T13:40:30.330Z"
   },
   {
    "duration": 28,
    "start_time": "2024-05-24T13:40:30.349Z"
   },
   {
    "duration": 49,
    "start_time": "2024-05-24T13:40:30.382Z"
   },
   {
    "duration": 24,
    "start_time": "2024-05-24T13:40:30.434Z"
   },
   {
    "duration": 19,
    "start_time": "2024-05-24T13:40:30.461Z"
   },
   {
    "duration": 53,
    "start_time": "2024-05-24T13:40:30.483Z"
   },
   {
    "duration": 21,
    "start_time": "2024-05-24T13:40:30.539Z"
   },
   {
    "duration": 18,
    "start_time": "2024-05-24T13:40:30.563Z"
   },
   {
    "duration": 45,
    "start_time": "2024-05-24T13:40:30.584Z"
   },
   {
    "duration": 18,
    "start_time": "2024-05-24T13:40:30.632Z"
   },
   {
    "duration": 15,
    "start_time": "2024-05-24T13:40:30.653Z"
   },
   {
    "duration": 57,
    "start_time": "2024-05-24T13:40:30.671Z"
   },
   {
    "duration": 15,
    "start_time": "2024-05-24T13:40:30.731Z"
   },
   {
    "duration": 21,
    "start_time": "2024-05-24T13:40:30.749Z"
   },
   {
    "duration": 53,
    "start_time": "2024-05-24T13:40:30.773Z"
   },
   {
    "duration": 18,
    "start_time": "2024-05-24T13:40:30.829Z"
   },
   {
    "duration": 10,
    "start_time": "2024-05-24T13:40:30.849Z"
   },
   {
    "duration": 11,
    "start_time": "2024-05-24T13:40:30.863Z"
   },
   {
    "duration": 69,
    "start_time": "2024-05-24T13:40:30.877Z"
   },
   {
    "duration": 30,
    "start_time": "2024-05-24T13:40:30.949Z"
   },
   {
    "duration": 5,
    "start_time": "2024-05-24T13:40:30.983Z"
   },
   {
    "duration": 1028,
    "start_time": "2024-05-24T13:40:31.026Z"
   },
   {
    "duration": 0,
    "start_time": "2024-05-24T13:40:32.058Z"
   },
   {
    "duration": 0,
    "start_time": "2024-05-24T13:40:32.059Z"
   },
   {
    "duration": 0,
    "start_time": "2024-05-24T13:40:32.061Z"
   },
   {
    "duration": 0,
    "start_time": "2024-05-24T13:40:32.064Z"
   },
   {
    "duration": 0,
    "start_time": "2024-05-24T13:40:32.067Z"
   },
   {
    "duration": 0,
    "start_time": "2024-05-24T13:40:32.069Z"
   },
   {
    "duration": 0,
    "start_time": "2024-05-24T13:40:32.072Z"
   },
   {
    "duration": 0,
    "start_time": "2024-05-24T13:40:32.076Z"
   },
   {
    "duration": 0,
    "start_time": "2024-05-24T13:40:32.078Z"
   },
   {
    "duration": 0,
    "start_time": "2024-05-24T13:40:32.080Z"
   },
   {
    "duration": 0,
    "start_time": "2024-05-24T13:40:32.126Z"
   },
   {
    "duration": 0,
    "start_time": "2024-05-24T13:40:32.128Z"
   },
   {
    "duration": 0,
    "start_time": "2024-05-24T13:40:32.130Z"
   },
   {
    "duration": 0,
    "start_time": "2024-05-24T13:40:32.132Z"
   },
   {
    "duration": 0,
    "start_time": "2024-05-24T13:40:32.135Z"
   },
   {
    "duration": 0,
    "start_time": "2024-05-24T13:40:32.138Z"
   },
   {
    "duration": 0,
    "start_time": "2024-05-24T13:40:32.141Z"
   },
   {
    "duration": 0,
    "start_time": "2024-05-24T13:40:32.143Z"
   },
   {
    "duration": 0,
    "start_time": "2024-05-24T13:40:32.145Z"
   },
   {
    "duration": 0,
    "start_time": "2024-05-24T13:40:32.147Z"
   },
   {
    "duration": 0,
    "start_time": "2024-05-24T13:40:32.149Z"
   },
   {
    "duration": 88,
    "start_time": "2024-05-24T13:44:32.651Z"
   },
   {
    "duration": 99,
    "start_time": "2024-05-24T13:44:39.337Z"
   },
   {
    "duration": 29,
    "start_time": "2024-05-24T13:44:43.615Z"
   },
   {
    "duration": 1247,
    "start_time": "2024-05-24T13:47:46.632Z"
   },
   {
    "duration": 296,
    "start_time": "2024-05-24T13:47:47.883Z"
   },
   {
    "duration": 28,
    "start_time": "2024-05-24T13:47:48.182Z"
   },
   {
    "duration": 24,
    "start_time": "2024-05-24T13:47:48.213Z"
   },
   {
    "duration": 16,
    "start_time": "2024-05-24T13:47:48.240Z"
   },
   {
    "duration": 16,
    "start_time": "2024-05-24T13:47:48.259Z"
   },
   {
    "duration": 62,
    "start_time": "2024-05-24T13:47:48.278Z"
   },
   {
    "duration": 5,
    "start_time": "2024-05-24T13:47:48.342Z"
   },
   {
    "duration": 8,
    "start_time": "2024-05-24T13:47:48.351Z"
   },
   {
    "duration": 6,
    "start_time": "2024-05-24T13:47:48.365Z"
   },
   {
    "duration": 6,
    "start_time": "2024-05-24T13:47:48.374Z"
   },
   {
    "duration": 7,
    "start_time": "2024-05-24T13:47:48.427Z"
   },
   {
    "duration": 6,
    "start_time": "2024-05-24T13:47:48.438Z"
   },
   {
    "duration": 16,
    "start_time": "2024-05-24T13:47:48.449Z"
   },
   {
    "duration": 59,
    "start_time": "2024-05-24T13:47:48.468Z"
   },
   {
    "duration": 18,
    "start_time": "2024-05-24T13:47:48.530Z"
   },
   {
    "duration": 90,
    "start_time": "2024-05-24T13:47:48.552Z"
   },
   {
    "duration": 27,
    "start_time": "2024-05-24T13:47:48.645Z"
   },
   {
    "duration": 21,
    "start_time": "2024-05-24T13:47:48.675Z"
   },
   {
    "duration": 14,
    "start_time": "2024-05-24T13:47:48.726Z"
   },
   {
    "duration": 34,
    "start_time": "2024-05-24T13:47:48.743Z"
   },
   {
    "duration": 51,
    "start_time": "2024-05-24T13:47:48.780Z"
   },
   {
    "duration": 24,
    "start_time": "2024-05-24T13:47:48.835Z"
   },
   {
    "duration": 16,
    "start_time": "2024-05-24T13:47:48.862Z"
   },
   {
    "duration": 104,
    "start_time": "2024-05-24T13:47:48.880Z"
   },
   {
    "duration": 44,
    "start_time": "2024-05-24T13:47:48.988Z"
   },
   {
    "duration": 6,
    "start_time": "2024-05-24T13:47:49.036Z"
   },
   {
    "duration": 28,
    "start_time": "2024-05-24T13:47:49.054Z"
   },
   {
    "duration": 50,
    "start_time": "2024-05-24T13:47:49.085Z"
   },
   {
    "duration": 24,
    "start_time": "2024-05-24T13:47:49.139Z"
   },
   {
    "duration": 20,
    "start_time": "2024-05-24T13:47:49.165Z"
   },
   {
    "duration": 46,
    "start_time": "2024-05-24T13:47:49.187Z"
   },
   {
    "duration": 20,
    "start_time": "2024-05-24T13:47:49.236Z"
   },
   {
    "duration": 17,
    "start_time": "2024-05-24T13:47:49.259Z"
   },
   {
    "duration": 52,
    "start_time": "2024-05-24T13:47:49.280Z"
   },
   {
    "duration": 16,
    "start_time": "2024-05-24T13:47:49.336Z"
   },
   {
    "duration": 15,
    "start_time": "2024-05-24T13:47:49.356Z"
   },
   {
    "duration": 54,
    "start_time": "2024-05-24T13:47:49.373Z"
   },
   {
    "duration": 15,
    "start_time": "2024-05-24T13:47:49.431Z"
   },
   {
    "duration": 21,
    "start_time": "2024-05-24T13:47:49.449Z"
   },
   {
    "duration": 53,
    "start_time": "2024-05-24T13:47:49.473Z"
   },
   {
    "duration": 19,
    "start_time": "2024-05-24T13:47:49.529Z"
   },
   {
    "duration": 11,
    "start_time": "2024-05-24T13:47:49.551Z"
   },
   {
    "duration": 14,
    "start_time": "2024-05-24T13:47:49.564Z"
   },
   {
    "duration": 70,
    "start_time": "2024-05-24T13:47:49.582Z"
   },
   {
    "duration": 31,
    "start_time": "2024-05-24T13:47:49.655Z"
   },
   {
    "duration": 5,
    "start_time": "2024-05-24T13:47:49.690Z"
   },
   {
    "duration": 100,
    "start_time": "2024-05-24T13:47:49.726Z"
   },
   {
    "duration": 37,
    "start_time": "2024-05-24T13:47:49.829Z"
   },
   {
    "duration": 16,
    "start_time": "2024-05-24T13:47:49.869Z"
   },
   {
    "duration": 39,
    "start_time": "2024-05-24T13:47:49.889Z"
   },
   {
    "duration": 398,
    "start_time": "2024-05-24T13:47:49.931Z"
   },
   {
    "duration": 9,
    "start_time": "2024-05-24T13:47:50.333Z"
   },
   {
    "duration": 337,
    "start_time": "2024-05-24T13:47:50.345Z"
   },
   {
    "duration": 13,
    "start_time": "2024-05-24T13:47:50.686Z"
   },
   {
    "duration": 29,
    "start_time": "2024-05-24T13:47:50.702Z"
   },
   {
    "duration": 9,
    "start_time": "2024-05-24T13:47:50.734Z"
   },
   {
    "duration": 300,
    "start_time": "2024-05-24T13:47:50.748Z"
   },
   {
    "duration": 277,
    "start_time": "2024-05-24T13:47:51.052Z"
   },
   {
    "duration": 419,
    "start_time": "2024-05-24T13:47:51.332Z"
   },
   {
    "duration": 0,
    "start_time": "2024-05-24T13:47:51.755Z"
   },
   {
    "duration": 0,
    "start_time": "2024-05-24T13:47:51.758Z"
   },
   {
    "duration": 0,
    "start_time": "2024-05-24T13:47:51.760Z"
   },
   {
    "duration": 0,
    "start_time": "2024-05-24T13:47:51.764Z"
   },
   {
    "duration": 0,
    "start_time": "2024-05-24T13:47:51.767Z"
   },
   {
    "duration": 0,
    "start_time": "2024-05-24T13:47:51.770Z"
   },
   {
    "duration": 0,
    "start_time": "2024-05-24T13:47:51.772Z"
   },
   {
    "duration": 0,
    "start_time": "2024-05-24T13:47:51.775Z"
   },
   {
    "duration": 0,
    "start_time": "2024-05-24T13:47:51.778Z"
   },
   {
    "duration": 15,
    "start_time": "2024-05-24T13:49:07.147Z"
   },
   {
    "duration": 14,
    "start_time": "2024-05-24T13:49:21.620Z"
   },
   {
    "duration": 295,
    "start_time": "2024-05-24T13:49:43.042Z"
   },
   {
    "duration": 15,
    "start_time": "2024-05-24T13:49:48.037Z"
   },
   {
    "duration": 29,
    "start_time": "2024-05-24T13:49:57.111Z"
   },
   {
    "duration": 14,
    "start_time": "2024-05-24T13:50:08.997Z"
   },
   {
    "duration": 8,
    "start_time": "2024-05-24T13:51:46.500Z"
   },
   {
    "duration": 21,
    "start_time": "2024-05-24T13:52:27.770Z"
   },
   {
    "duration": 1291,
    "start_time": "2024-05-24T13:54:55.410Z"
   },
   {
    "duration": 303,
    "start_time": "2024-05-24T13:54:56.708Z"
   },
   {
    "duration": 39,
    "start_time": "2024-05-24T13:54:57.014Z"
   },
   {
    "duration": 17,
    "start_time": "2024-05-24T13:54:57.057Z"
   },
   {
    "duration": 49,
    "start_time": "2024-05-24T13:54:57.078Z"
   },
   {
    "duration": 16,
    "start_time": "2024-05-24T13:54:57.131Z"
   },
   {
    "duration": 24,
    "start_time": "2024-05-24T13:54:57.152Z"
   },
   {
    "duration": 6,
    "start_time": "2024-05-24T13:54:57.179Z"
   },
   {
    "duration": 42,
    "start_time": "2024-05-24T13:54:57.189Z"
   },
   {
    "duration": 6,
    "start_time": "2024-05-24T13:54:57.237Z"
   },
   {
    "duration": 6,
    "start_time": "2024-05-24T13:54:57.247Z"
   },
   {
    "duration": 5,
    "start_time": "2024-05-24T13:54:57.257Z"
   },
   {
    "duration": 9,
    "start_time": "2024-05-24T13:54:57.266Z"
   },
   {
    "duration": 62,
    "start_time": "2024-05-24T13:54:57.278Z"
   },
   {
    "duration": 28,
    "start_time": "2024-05-24T13:54:57.344Z"
   },
   {
    "duration": 56,
    "start_time": "2024-05-24T13:54:57.375Z"
   },
   {
    "duration": 98,
    "start_time": "2024-05-24T13:54:57.435Z"
   },
   {
    "duration": 40,
    "start_time": "2024-05-24T13:54:57.538Z"
   },
   {
    "duration": 35,
    "start_time": "2024-05-24T13:54:57.582Z"
   },
   {
    "duration": 17,
    "start_time": "2024-05-24T13:54:57.632Z"
   },
   {
    "duration": 38,
    "start_time": "2024-05-24T13:54:57.654Z"
   },
   {
    "duration": 54,
    "start_time": "2024-05-24T13:54:57.696Z"
   },
   {
    "duration": 33,
    "start_time": "2024-05-24T13:54:57.754Z"
   },
   {
    "duration": 48,
    "start_time": "2024-05-24T13:54:57.793Z"
   },
   {
    "duration": 91,
    "start_time": "2024-05-24T13:54:57.845Z"
   },
   {
    "duration": 26,
    "start_time": "2024-05-24T13:54:57.940Z"
   },
   {
    "duration": 8,
    "start_time": "2024-05-24T13:54:57.969Z"
   },
   {
    "duration": 61,
    "start_time": "2024-05-24T13:54:57.987Z"
   },
   {
    "duration": 19,
    "start_time": "2024-05-24T13:54:58.054Z"
   },
   {
    "duration": 53,
    "start_time": "2024-05-24T13:54:58.078Z"
   },
   {
    "duration": 26,
    "start_time": "2024-05-24T13:54:58.136Z"
   },
   {
    "duration": 22,
    "start_time": "2024-05-24T13:54:58.165Z"
   },
   {
    "duration": 42,
    "start_time": "2024-05-24T13:54:58.190Z"
   },
   {
    "duration": 19,
    "start_time": "2024-05-24T13:54:58.235Z"
   },
   {
    "duration": 13,
    "start_time": "2024-05-24T13:54:58.258Z"
   },
   {
    "duration": 63,
    "start_time": "2024-05-24T13:54:58.274Z"
   },
   {
    "duration": 13,
    "start_time": "2024-05-24T13:54:58.341Z"
   },
   {
    "duration": 17,
    "start_time": "2024-05-24T13:54:58.357Z"
   },
   {
    "duration": 49,
    "start_time": "2024-05-24T13:54:58.377Z"
   },
   {
    "duration": 28,
    "start_time": "2024-05-24T13:54:58.429Z"
   },
   {
    "duration": 19,
    "start_time": "2024-05-24T13:54:58.460Z"
   },
   {
    "duration": 52,
    "start_time": "2024-05-24T13:54:58.482Z"
   },
   {
    "duration": 11,
    "start_time": "2024-05-24T13:54:58.538Z"
   },
   {
    "duration": 11,
    "start_time": "2024-05-24T13:54:58.553Z"
   },
   {
    "duration": 62,
    "start_time": "2024-05-24T13:54:58.567Z"
   },
   {
    "duration": 37,
    "start_time": "2024-05-24T13:54:58.633Z"
   },
   {
    "duration": 7,
    "start_time": "2024-05-24T13:54:58.673Z"
   },
   {
    "duration": 123,
    "start_time": "2024-05-24T13:54:58.684Z"
   },
   {
    "duration": 46,
    "start_time": "2024-05-24T13:54:58.814Z"
   },
   {
    "duration": 11,
    "start_time": "2024-05-24T13:54:58.867Z"
   },
   {
    "duration": 21,
    "start_time": "2024-05-24T13:54:58.881Z"
   },
   {
    "duration": 441,
    "start_time": "2024-05-24T13:54:58.931Z"
   },
   {
    "duration": 9,
    "start_time": "2024-05-24T13:54:59.375Z"
   },
   {
    "duration": 357,
    "start_time": "2024-05-24T13:54:59.389Z"
   },
   {
    "duration": 14,
    "start_time": "2024-05-24T13:54:59.750Z"
   },
   {
    "duration": 8,
    "start_time": "2024-05-24T13:54:59.769Z"
   },
   {
    "duration": 46,
    "start_time": "2024-05-24T13:54:59.780Z"
   },
   {
    "duration": 338,
    "start_time": "2024-05-24T13:54:59.833Z"
   },
   {
    "duration": 273,
    "start_time": "2024-05-24T13:55:00.175Z"
   },
   {
    "duration": 17,
    "start_time": "2024-05-24T13:55:00.452Z"
   },
   {
    "duration": 14,
    "start_time": "2024-05-24T13:55:00.473Z"
   },
   {
    "duration": 313,
    "start_time": "2024-05-24T13:55:00.490Z"
   },
   {
    "duration": 454,
    "start_time": "2024-05-24T13:55:00.807Z"
   },
   {
    "duration": 0,
    "start_time": "2024-05-24T13:55:01.265Z"
   },
   {
    "duration": 0,
    "start_time": "2024-05-24T13:55:01.267Z"
   },
   {
    "duration": 0,
    "start_time": "2024-05-24T13:55:01.269Z"
   },
   {
    "duration": 0,
    "start_time": "2024-05-24T13:55:01.271Z"
   },
   {
    "duration": 0,
    "start_time": "2024-05-24T13:55:01.273Z"
   },
   {
    "duration": 0,
    "start_time": "2024-05-24T13:55:01.275Z"
   },
   {
    "duration": 15,
    "start_time": "2024-05-24T13:55:36.573Z"
   },
   {
    "duration": 16,
    "start_time": "2024-05-24T13:55:38.541Z"
   }
  ],
  "kernelspec": {
   "display_name": "Python 3 (ipykernel)",
   "language": "python",
   "name": "python3"
  },
  "language_info": {
   "codemirror_mode": {
    "name": "ipython",
    "version": 3
   },
   "file_extension": ".py",
   "mimetype": "text/x-python",
   "name": "python",
   "nbconvert_exporter": "python",
   "pygments_lexer": "ipython3",
   "version": "3.9.19"
  },
  "toc": {
   "base_numbering": 1,
   "nav_menu": {},
   "number_sections": true,
   "sideBar": true,
   "skip_h1_title": false,
   "title_cell": "Table of Contents",
   "title_sidebar": "Contents",
   "toc_cell": false,
   "toc_position": {
    "height": "calc(100% - 180px)",
    "left": "10px",
    "top": "150px",
    "width": "165px"
   },
   "toc_section_display": true,
   "toc_window_display": true
  }
 },
 "nbformat": 4,
 "nbformat_minor": 2
}
